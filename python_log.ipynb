{
  "nbformat": 4,
  "nbformat_minor": 0,
  "metadata": {
    "colab": {
      "provenance": []
    },
    "kernelspec": {
      "name": "python3",
      "display_name": "Python 3"
    },
    "language_info": {
      "name": "python"
    }
  },
  "cells": [
    {
      "cell_type": "markdown",
      "source": [
        "**Numbers**"
      ],
      "metadata": {
        "id": "cZUNuYnv1OYf"
      }
    },
    {
      "cell_type": "code",
      "execution_count": 1,
      "metadata": {
        "id": "8Wcj71aN0rg3"
      },
      "outputs": [],
      "source": [
        "a = 5"
      ]
    },
    {
      "cell_type": "code",
      "source": [
        "a"
      ],
      "metadata": {
        "colab": {
          "base_uri": "https://localhost:8080/"
        },
        "id": "PN2D4qBa1tPL",
        "outputId": "6802ef14-4a0a-44ac-ff43-0852b72eb949"
      },
      "execution_count": 2,
      "outputs": [
        {
          "output_type": "execute_result",
          "data": {
            "text/plain": [
              "5"
            ]
          },
          "metadata": {},
          "execution_count": 2
        }
      ]
    },
    {
      "cell_type": "code",
      "source": [
        "a = a + a"
      ],
      "metadata": {
        "id": "-uQiIbJ_1v7t"
      },
      "execution_count": 3,
      "outputs": []
    },
    {
      "cell_type": "code",
      "source": [
        "a"
      ],
      "metadata": {
        "colab": {
          "base_uri": "https://localhost:8080/"
        },
        "id": "rovpMj7i103l",
        "outputId": "031ef874-0f84-461c-f150-054e6bb7070d"
      },
      "execution_count": 4,
      "outputs": [
        {
          "output_type": "execute_result",
          "data": {
            "text/plain": [
              "10"
            ]
          },
          "metadata": {},
          "execution_count": 4
        }
      ]
    },
    {
      "cell_type": "code",
      "source": [
        "a + a"
      ],
      "metadata": {
        "colab": {
          "base_uri": "https://localhost:8080/"
        },
        "id": "YxWVGpHx14FQ",
        "outputId": "033a2f2f-631b-4106-bd10-fa7fe18bd8c2"
      },
      "execution_count": 5,
      "outputs": [
        {
          "output_type": "execute_result",
          "data": {
            "text/plain": [
              "20"
            ]
          },
          "metadata": {},
          "execution_count": 5
        }
      ]
    },
    {
      "cell_type": "code",
      "source": [
        "type(a)"
      ],
      "metadata": {
        "colab": {
          "base_uri": "https://localhost:8080/"
        },
        "id": "plV6a-JJ19hb",
        "outputId": "01094709-c444-4e35-803f-bd38d06a033d"
      },
      "execution_count": 6,
      "outputs": [
        {
          "output_type": "execute_result",
          "data": {
            "text/plain": [
              "int"
            ]
          },
          "metadata": {},
          "execution_count": 6
        }
      ]
    },
    {
      "cell_type": "code",
      "source": [
        "a = 30.45\n",
        "type(a)"
      ],
      "metadata": {
        "colab": {
          "base_uri": "https://localhost:8080/"
        },
        "id": "xXtXqidS2CKh",
        "outputId": "120ed336-22a7-495a-be76-9d7eb2ae6f88"
      },
      "execution_count": 7,
      "outputs": [
        {
          "output_type": "execute_result",
          "data": {
            "text/plain": [
              "float"
            ]
          },
          "metadata": {},
          "execution_count": 7
        }
      ]
    },
    {
      "cell_type": "markdown",
      "source": [
        "**Strings**"
      ],
      "metadata": {
        "id": "fBsgty2B2nPJ"
      }
    },
    {
      "cell_type": "code",
      "source": [
        "'hello'"
      ],
      "metadata": {
        "colab": {
          "base_uri": "https://localhost:8080/",
          "height": 35
        },
        "id": "AlH0I6hU2HI0",
        "outputId": "e11442da-2c75-4c8f-ae3b-b0c463448b32"
      },
      "execution_count": 8,
      "outputs": [
        {
          "output_type": "execute_result",
          "data": {
            "text/plain": [
              "'hello'"
            ],
            "application/vnd.google.colaboratory.intrinsic+json": {
              "type": "string"
            }
          },
          "metadata": {},
          "execution_count": 8
        }
      ]
    },
    {
      "cell_type": "code",
      "source": [
        "\"world\""
      ],
      "metadata": {
        "colab": {
          "base_uri": "https://localhost:8080/",
          "height": 35
        },
        "id": "Dvj7dZfI8WCf",
        "outputId": "505be1f5-9904-4ec2-ad9b-4104acb8fb4e"
      },
      "execution_count": 9,
      "outputs": [
        {
          "output_type": "execute_result",
          "data": {
            "text/plain": [
              "'world'"
            ],
            "application/vnd.google.colaboratory.intrinsic+json": {
              "type": "string"
            }
          },
          "metadata": {},
          "execution_count": 9
        }
      ]
    },
    {
      "cell_type": "code",
      "source": [
        "\" I'm going on a run \""
      ],
      "metadata": {
        "colab": {
          "base_uri": "https://localhost:8080/",
          "height": 35
        },
        "id": "SgzTA34W8ZjW",
        "outputId": "27dbac20-cf0a-42c6-bf9f-abe8a0d5d2bc"
      },
      "execution_count": 10,
      "outputs": [
        {
          "output_type": "execute_result",
          "data": {
            "text/plain": [
              "\" I'm going on a run \""
            ],
            "application/vnd.google.colaboratory.intrinsic+json": {
              "type": "string"
            }
          },
          "metadata": {},
          "execution_count": 10
        }
      ]
    },
    {
      "cell_type": "code",
      "source": [
        "print(\"hello\")"
      ],
      "metadata": {
        "colab": {
          "base_uri": "https://localhost:8080/"
        },
        "id": "g1Crd5U38mNO",
        "outputId": "45c2d622-b641-4e53-eb46-de75ea57316a"
      },
      "execution_count": 11,
      "outputs": [
        {
          "output_type": "stream",
          "name": "stdout",
          "text": [
            "hello\n"
          ]
        }
      ]
    },
    {
      "cell_type": "code",
      "source": [
        "\"h1\"\n",
        "\"h2\""
      ],
      "metadata": {
        "colab": {
          "base_uri": "https://localhost:8080/",
          "height": 35
        },
        "id": "sJmz7PGp8q8g",
        "outputId": "60207c68-516b-4c55-a2a8-5b6df72a8558"
      },
      "execution_count": 12,
      "outputs": [
        {
          "output_type": "execute_result",
          "data": {
            "text/plain": [
              "'h2'"
            ],
            "application/vnd.google.colaboratory.intrinsic+json": {
              "type": "string"
            }
          },
          "metadata": {},
          "execution_count": 12
        }
      ]
    },
    {
      "cell_type": "code",
      "source": [
        "print(\"h1\")\n",
        "print(\"h2\")"
      ],
      "metadata": {
        "colab": {
          "base_uri": "https://localhost:8080/"
        },
        "id": "MNmMjd-k8zQY",
        "outputId": "7893b9ad-16f0-4ffe-d8c3-5872d46df793"
      },
      "execution_count": 13,
      "outputs": [
        {
          "output_type": "stream",
          "name": "stdout",
          "text": [
            "h1\n",
            "h2\n"
          ]
        }
      ]
    },
    {
      "cell_type": "code",
      "source": [
        "print(\"hello \\n world\")"
      ],
      "metadata": {
        "colab": {
          "base_uri": "https://localhost:8080/"
        },
        "id": "h9x_kYek85fU",
        "outputId": "57ced275-678b-4aea-ccdb-168d56f7c30b"
      },
      "execution_count": 14,
      "outputs": [
        {
          "output_type": "stream",
          "name": "stdout",
          "text": [
            "hello \n",
            " world\n"
          ]
        }
      ]
    },
    {
      "cell_type": "code",
      "source": [
        "print(\"hello \\nworld\")"
      ],
      "metadata": {
        "colab": {
          "base_uri": "https://localhost:8080/"
        },
        "id": "n08PvHf49BX6",
        "outputId": "fe2877e8-cb7c-428d-c6bd-f9b8cfe172c2"
      },
      "execution_count": 15,
      "outputs": [
        {
          "output_type": "stream",
          "name": "stdout",
          "text": [
            "hello \n",
            "world\n"
          ]
        }
      ]
    },
    {
      "cell_type": "code",
      "source": [
        "print(\"hello \\tworld\")"
      ],
      "metadata": {
        "colab": {
          "base_uri": "https://localhost:8080/"
        },
        "id": "76w9NPFh9Fey",
        "outputId": "1b0f3a5a-2645-4a73-b9ac-71101375ae87"
      },
      "execution_count": 16,
      "outputs": [
        {
          "output_type": "stream",
          "name": "stdout",
          "text": [
            "hello \tworld\n"
          ]
        }
      ]
    },
    {
      "cell_type": "code",
      "source": [
        "len(\"hello\")"
      ],
      "metadata": {
        "colab": {
          "base_uri": "https://localhost:8080/"
        },
        "id": "VuRy-Ajq9I5G",
        "outputId": "e8fdc876-8e5b-4633-be03-6e684e24aaa0"
      },
      "execution_count": 17,
      "outputs": [
        {
          "output_type": "execute_result",
          "data": {
            "text/plain": [
              "5"
            ]
          },
          "metadata": {},
          "execution_count": 17
        }
      ]
    },
    {
      "cell_type": "code",
      "source": [
        "len(\"I am\")"
      ],
      "metadata": {
        "colab": {
          "base_uri": "https://localhost:8080/"
        },
        "id": "QG7bRXpI9LVi",
        "outputId": "ec4e18b4-8136-49a9-da2d-f0bd153dc76f"
      },
      "execution_count": 18,
      "outputs": [
        {
          "output_type": "execute_result",
          "data": {
            "text/plain": [
              "4"
            ]
          },
          "metadata": {},
          "execution_count": 18
        }
      ]
    },
    {
      "cell_type": "markdown",
      "source": [
        "String Indexing and Slicing"
      ],
      "metadata": {
        "id": "Ums-0oa890u9"
      }
    },
    {
      "cell_type": "code",
      "source": [
        "mystring = \"Hello World\""
      ],
      "metadata": {
        "id": "iVU3KGTs9PeF"
      },
      "execution_count": 1,
      "outputs": []
    },
    {
      "cell_type": "code",
      "source": [
        "mystring"
      ],
      "metadata": {
        "colab": {
          "base_uri": "https://localhost:8080/",
          "height": 35
        },
        "id": "LKEFgzT4cG0Q",
        "outputId": "6de20ef4-411b-4b92-98e9-d60eab27a1fc"
      },
      "execution_count": 2,
      "outputs": [
        {
          "output_type": "execute_result",
          "data": {
            "text/plain": [
              "'Hello World'"
            ],
            "application/vnd.google.colaboratory.intrinsic+json": {
              "type": "string"
            }
          },
          "metadata": {},
          "execution_count": 2
        }
      ]
    },
    {
      "cell_type": "code",
      "source": [
        "mystring[0]"
      ],
      "metadata": {
        "colab": {
          "base_uri": "https://localhost:8080/",
          "height": 35
        },
        "id": "3Sa4jWXecL6u",
        "outputId": "12e89288-b42c-40e2-c13b-e43cec16baee"
      },
      "execution_count": 3,
      "outputs": [
        {
          "output_type": "execute_result",
          "data": {
            "text/plain": [
              "'H'"
            ],
            "application/vnd.google.colaboratory.intrinsic+json": {
              "type": "string"
            }
          },
          "metadata": {},
          "execution_count": 3
        }
      ]
    },
    {
      "cell_type": "code",
      "source": [
        "mystring[5]"
      ],
      "metadata": {
        "colab": {
          "base_uri": "https://localhost:8080/",
          "height": 35
        },
        "id": "nZXC6NQvcQ_0",
        "outputId": "5ccb304a-de53-438c-c3e1-69d15f40adca"
      },
      "execution_count": 5,
      "outputs": [
        {
          "output_type": "execute_result",
          "data": {
            "text/plain": [
              "' '"
            ],
            "application/vnd.google.colaboratory.intrinsic+json": {
              "type": "string"
            }
          },
          "metadata": {},
          "execution_count": 5
        }
      ]
    },
    {
      "cell_type": "code",
      "source": [
        "mystring[-3]"
      ],
      "metadata": {
        "colab": {
          "base_uri": "https://localhost:8080/",
          "height": 35
        },
        "id": "vJQD_XLdca79",
        "outputId": "db5ee970-1bd9-49e4-843f-2790b3767506"
      },
      "execution_count": 6,
      "outputs": [
        {
          "output_type": "execute_result",
          "data": {
            "text/plain": [
              "'r'"
            ],
            "application/vnd.google.colaboratory.intrinsic+json": {
              "type": "string"
            }
          },
          "metadata": {},
          "execution_count": 6
        }
      ]
    },
    {
      "cell_type": "code",
      "source": [
        "mystring[-1]"
      ],
      "metadata": {
        "colab": {
          "base_uri": "https://localhost:8080/",
          "height": 35
        },
        "id": "3uQIgvBVchCw",
        "outputId": "553e51b6-9b1b-4df8-a120-b1a44c73102b"
      },
      "execution_count": 7,
      "outputs": [
        {
          "output_type": "execute_result",
          "data": {
            "text/plain": [
              "'d'"
            ],
            "application/vnd.google.colaboratory.intrinsic+json": {
              "type": "string"
            }
          },
          "metadata": {},
          "execution_count": 7
        }
      ]
    },
    {
      "cell_type": "code",
      "source": [
        "mystring = \"abcdefghijk\"\n",
        "mystring"
      ],
      "metadata": {
        "colab": {
          "base_uri": "https://localhost:8080/",
          "height": 35
        },
        "id": "pDWGt6r_ctLp",
        "outputId": "f1aef5b2-70b7-4616-ec4f-4b301ba79dc8"
      },
      "execution_count": 8,
      "outputs": [
        {
          "output_type": "execute_result",
          "data": {
            "text/plain": [
              "'abcdefghijk'"
            ],
            "application/vnd.google.colaboratory.intrinsic+json": {
              "type": "string"
            }
          },
          "metadata": {},
          "execution_count": 8
        }
      ]
    },
    {
      "cell_type": "code",
      "source": [
        "mystring[2:]"
      ],
      "metadata": {
        "colab": {
          "base_uri": "https://localhost:8080/",
          "height": 35
        },
        "id": "ucLVNkLeczws",
        "outputId": "c54091e0-c1cb-4413-877e-79e3767aca62"
      },
      "execution_count": 9,
      "outputs": [
        {
          "output_type": "execute_result",
          "data": {
            "text/plain": [
              "'cdefghijk'"
            ],
            "application/vnd.google.colaboratory.intrinsic+json": {
              "type": "string"
            }
          },
          "metadata": {},
          "execution_count": 9
        }
      ]
    },
    {
      "cell_type": "code",
      "source": [
        "mystring[:3] # the stop is \"up to\" not \"included\""
      ],
      "metadata": {
        "colab": {
          "base_uri": "https://localhost:8080/",
          "height": 35
        },
        "id": "PK9qoSMAc6u7",
        "outputId": "c11b09ae-1ba7-4efd-a2e5-f859b2a03d52"
      },
      "execution_count": 10,
      "outputs": [
        {
          "output_type": "execute_result",
          "data": {
            "text/plain": [
              "'abc'"
            ],
            "application/vnd.google.colaboratory.intrinsic+json": {
              "type": "string"
            }
          },
          "metadata": {},
          "execution_count": 10
        }
      ]
    },
    {
      "cell_type": "code",
      "source": [
        "mystring[3:7]"
      ],
      "metadata": {
        "colab": {
          "base_uri": "https://localhost:8080/",
          "height": 35
        },
        "id": "LIi74C0sdDK3",
        "outputId": "d4642b80-4652-411a-ad6d-a98385bb225e"
      },
      "execution_count": 11,
      "outputs": [
        {
          "output_type": "execute_result",
          "data": {
            "text/plain": [
              "'defg'"
            ],
            "application/vnd.google.colaboratory.intrinsic+json": {
              "type": "string"
            }
          },
          "metadata": {},
          "execution_count": 11
        }
      ]
    },
    {
      "cell_type": "code",
      "source": [
        "mystring[::]"
      ],
      "metadata": {
        "colab": {
          "base_uri": "https://localhost:8080/",
          "height": 35
        },
        "id": "Jqo-7jEndXay",
        "outputId": "17595427-682e-4f28-fcb1-3106a2a199ae"
      },
      "execution_count": 12,
      "outputs": [
        {
          "output_type": "execute_result",
          "data": {
            "text/plain": [
              "'abcdefghijk'"
            ],
            "application/vnd.google.colaboratory.intrinsic+json": {
              "type": "string"
            }
          },
          "metadata": {},
          "execution_count": 12
        }
      ]
    },
    {
      "cell_type": "code",
      "source": [
        "mystring[::2] # [start:stop:step]"
      ],
      "metadata": {
        "colab": {
          "base_uri": "https://localhost:8080/",
          "height": 35
        },
        "id": "8MF_D4O8doC2",
        "outputId": "c5c0ac55-5d3e-4f61-8ff7-450f521d8cbf"
      },
      "execution_count": 13,
      "outputs": [
        {
          "output_type": "execute_result",
          "data": {
            "text/plain": [
              "'acegik'"
            ],
            "application/vnd.google.colaboratory.intrinsic+json": {
              "type": "string"
            }
          },
          "metadata": {},
          "execution_count": 13
        }
      ]
    },
    {
      "cell_type": "code",
      "source": [
        "mystring[2:7:2]"
      ],
      "metadata": {
        "colab": {
          "base_uri": "https://localhost:8080/",
          "height": 35
        },
        "id": "b8lfKjaTd1d6",
        "outputId": "a8be4f38-e1dc-42cd-86b1-42c82fbf01d7"
      },
      "execution_count": 14,
      "outputs": [
        {
          "output_type": "execute_result",
          "data": {
            "text/plain": [
              "'ceg'"
            ],
            "application/vnd.google.colaboratory.intrinsic+json": {
              "type": "string"
            }
          },
          "metadata": {},
          "execution_count": 14
        }
      ]
    },
    {
      "cell_type": "code",
      "source": [
        "mystring[::-1] # reverse"
      ],
      "metadata": {
        "colab": {
          "base_uri": "https://localhost:8080/",
          "height": 35
        },
        "id": "NpV-FwXmd39z",
        "outputId": "7b0f676c-e16f-4a47-e144-5bbdd4912e89"
      },
      "execution_count": 15,
      "outputs": [
        {
          "output_type": "execute_result",
          "data": {
            "text/plain": [
              "'kjihgfedcba'"
            ],
            "application/vnd.google.colaboratory.intrinsic+json": {
              "type": "string"
            }
          },
          "metadata": {},
          "execution_count": 15
        }
      ]
    },
    {
      "cell_type": "code",
      "source": [
        "'Hello World'[3] # Without assigning a variable name."
      ],
      "metadata": {
        "colab": {
          "base_uri": "https://localhost:8080/",
          "height": 35
        },
        "id": "R6tgq5OifEXh",
        "outputId": "d8cc6190-93eb-4f5f-c2b3-cdd916ea2c50"
      },
      "execution_count": 16,
      "outputs": [
        {
          "output_type": "execute_result",
          "data": {
            "text/plain": [
              "'l'"
            ],
            "application/vnd.google.colaboratory.intrinsic+json": {
              "type": "string"
            }
          },
          "metadata": {},
          "execution_count": 16
        }
      ]
    },
    {
      "cell_type": "markdown",
      "source": [
        "String Properties and Methods"
      ],
      "metadata": {
        "id": "4Kd61R1teNNz"
      }
    },
    {
      "cell_type": "markdown",
      "source": [
        "Immutability: 'str' object does not support item assignment."
      ],
      "metadata": {
        "id": "cvn0Viz1f8wQ"
      }
    },
    {
      "cell_type": "code",
      "source": [
        "name = 'Sam'\n",
        "last_letters = name[1:]\n",
        "last_letters"
      ],
      "metadata": {
        "colab": {
          "base_uri": "https://localhost:8080/",
          "height": 35
        },
        "id": "b06Y28cdeKyY",
        "outputId": "5115cc3e-645f-45fe-93a5-4ee98c1bf10f"
      },
      "execution_count": 17,
      "outputs": [
        {
          "output_type": "execute_result",
          "data": {
            "text/plain": [
              "'am'"
            ],
            "application/vnd.google.colaboratory.intrinsic+json": {
              "type": "string"
            }
          },
          "metadata": {},
          "execution_count": 17
        }
      ]
    },
    {
      "cell_type": "code",
      "source": [
        "'P' + last_letters"
      ],
      "metadata": {
        "colab": {
          "base_uri": "https://localhost:8080/",
          "height": 35
        },
        "id": "dPpkaZ23gsqG",
        "outputId": "4abe28ea-cb94-4340-c423-ade41ee882d6"
      },
      "execution_count": 18,
      "outputs": [
        {
          "output_type": "execute_result",
          "data": {
            "text/plain": [
              "'Pam'"
            ],
            "application/vnd.google.colaboratory.intrinsic+json": {
              "type": "string"
            }
          },
          "metadata": {},
          "execution_count": 18
        }
      ]
    },
    {
      "cell_type": "code",
      "source": [
        "x = \"Hi! I'm Lily.\""
      ],
      "metadata": {
        "id": "nO2xa8QhhfCt"
      },
      "execution_count": 19,
      "outputs": []
    },
    {
      "cell_type": "code",
      "source": [
        "x = x + ' How are you?'"
      ],
      "metadata": {
        "id": "lmRxWW9PhkY1"
      },
      "execution_count": 24,
      "outputs": []
    },
    {
      "cell_type": "code",
      "source": [
        "x"
      ],
      "metadata": {
        "colab": {
          "base_uri": "https://localhost:8080/",
          "height": 35
        },
        "id": "kK4oOl_Th01h",
        "outputId": "4ccbc387-0baf-4a46-fa99-81f68c47c91d"
      },
      "execution_count": 25,
      "outputs": [
        {
          "output_type": "execute_result",
          "data": {
            "text/plain": [
              "\"Hi! I'm Lily. How are you? How are you? How are you?\""
            ],
            "application/vnd.google.colaboratory.intrinsic+json": {
              "type": "string"
            }
          },
          "metadata": {},
          "execution_count": 25
        }
      ]
    },
    {
      "cell_type": "code",
      "source": [
        "letter = 'z'\n",
        "letter * 10"
      ],
      "metadata": {
        "colab": {
          "base_uri": "https://localhost:8080/",
          "height": 35
        },
        "id": "YXudRzbJiAb1",
        "outputId": "d923787d-0b69-435b-da99-dd59e2a3b4ed"
      },
      "execution_count": 26,
      "outputs": [
        {
          "output_type": "execute_result",
          "data": {
            "text/plain": [
              "'zzzzzzzzzz'"
            ],
            "application/vnd.google.colaboratory.intrinsic+json": {
              "type": "string"
            }
          },
          "metadata": {},
          "execution_count": 26
        }
      ]
    },
    {
      "cell_type": "code",
      "source": [
        "2 + 3"
      ],
      "metadata": {
        "colab": {
          "base_uri": "https://localhost:8080/"
        },
        "id": "C9IFTzg5iDhU",
        "outputId": "5b1de4b3-9436-4524-d528-c04b7a4baddb"
      },
      "execution_count": 27,
      "outputs": [
        {
          "output_type": "execute_result",
          "data": {
            "text/plain": [
              "5"
            ]
          },
          "metadata": {},
          "execution_count": 27
        }
      ]
    },
    {
      "cell_type": "code",
      "source": [
        "'2' + '3'"
      ],
      "metadata": {
        "colab": {
          "base_uri": "https://localhost:8080/",
          "height": 35
        },
        "id": "-pXmZ9boiNJ7",
        "outputId": "0f6f375e-4924-4346-c330-7f8f8f2145e3"
      },
      "execution_count": 28,
      "outputs": [
        {
          "output_type": "execute_result",
          "data": {
            "text/plain": [
              "'23'"
            ],
            "application/vnd.google.colaboratory.intrinsic+json": {
              "type": "string"
            }
          },
          "metadata": {},
          "execution_count": 28
        }
      ]
    },
    {
      "cell_type": "code",
      "source": [
        "x = \"Hello World\""
      ],
      "metadata": {
        "id": "oy4C8YPMiP62"
      },
      "execution_count": 29,
      "outputs": []
    },
    {
      "cell_type": "code",
      "source": [
        "x.upper()"
      ],
      "metadata": {
        "colab": {
          "base_uri": "https://localhost:8080/",
          "height": 35
        },
        "id": "lts1wLSSieyE",
        "outputId": "9f2dba7e-b380-412a-fc19-86162f31f033"
      },
      "execution_count": 30,
      "outputs": [
        {
          "output_type": "execute_result",
          "data": {
            "text/plain": [
              "'HELLO WORLD'"
            ],
            "application/vnd.google.colaboratory.intrinsic+json": {
              "type": "string"
            }
          },
          "metadata": {},
          "execution_count": 30
        }
      ]
    },
    {
      "cell_type": "code",
      "source": [
        "x"
      ],
      "metadata": {
        "colab": {
          "base_uri": "https://localhost:8080/",
          "height": 35
        },
        "id": "uFvDXY8qipLe",
        "outputId": "2797c327-3145-4a09-8113-c06c226b2e39"
      },
      "execution_count": 31,
      "outputs": [
        {
          "output_type": "execute_result",
          "data": {
            "text/plain": [
              "'Hello World'"
            ],
            "application/vnd.google.colaboratory.intrinsic+json": {
              "type": "string"
            }
          },
          "metadata": {},
          "execution_count": 31
        }
      ]
    },
    {
      "cell_type": "code",
      "source": [
        "x.upper # not to execute"
      ],
      "metadata": {
        "colab": {
          "base_uri": "https://localhost:8080/"
        },
        "id": "YaN4EUJViq2G",
        "outputId": "7c9ef4fc-9dbf-4ea3-c936-45c7a1fdc505"
      },
      "execution_count": 32,
      "outputs": [
        {
          "output_type": "execute_result",
          "data": {
            "text/plain": [
              "<function str.upper()>"
            ]
          },
          "metadata": {},
          "execution_count": 32
        }
      ]
    },
    {
      "cell_type": "code",
      "source": [
        "x.lower()"
      ],
      "metadata": {
        "colab": {
          "base_uri": "https://localhost:8080/",
          "height": 35
        },
        "id": "N0NASYGwiqgj",
        "outputId": "bbfddae1-51fc-4259-c042-c5d219a0bb95"
      },
      "execution_count": 33,
      "outputs": [
        {
          "output_type": "execute_result",
          "data": {
            "text/plain": [
              "'hello world'"
            ],
            "application/vnd.google.colaboratory.intrinsic+json": {
              "type": "string"
            }
          },
          "metadata": {},
          "execution_count": 33
        }
      ]
    },
    {
      "cell_type": "code",
      "source": [
        "x.split()"
      ],
      "metadata": {
        "colab": {
          "base_uri": "https://localhost:8080/"
        },
        "id": "kVcAPCJXjLUT",
        "outputId": "0a8ada58-b89e-4c9a-c10f-26b790bc4796"
      },
      "execution_count": 34,
      "outputs": [
        {
          "output_type": "execute_result",
          "data": {
            "text/plain": [
              "['Hello', 'World']"
            ]
          },
          "metadata": {},
          "execution_count": 34
        }
      ]
    },
    {
      "cell_type": "code",
      "source": [
        "x = \"Hi! I'm Lily.\"\n",
        "x.split()"
      ],
      "metadata": {
        "colab": {
          "base_uri": "https://localhost:8080/"
        },
        "id": "x8U3ETXujQGi",
        "outputId": "2e833f91-81eb-4634-bc4e-232de8053ab6"
      },
      "execution_count": 35,
      "outputs": [
        {
          "output_type": "execute_result",
          "data": {
            "text/plain": [
              "['Hi!', \"I'm\", 'Lily.']"
            ]
          },
          "metadata": {},
          "execution_count": 35
        }
      ]
    },
    {
      "cell_type": "code",
      "source": [
        "x.split('i')"
      ],
      "metadata": {
        "colab": {
          "base_uri": "https://localhost:8080/"
        },
        "id": "GlKQjSA-jWNc",
        "outputId": "317b28b0-153b-450a-9f9c-aec2767f276b"
      },
      "execution_count": 36,
      "outputs": [
        {
          "output_type": "execute_result",
          "data": {
            "text/plain": [
              "['H', \"! I'm L\", 'ly.']"
            ]
          },
          "metadata": {},
          "execution_count": 36
        }
      ]
    },
    {
      "cell_type": "markdown",
      "source": [
        "String Formating for Printing"
      ],
      "metadata": {
        "id": "bR2Gu3m3jnY_"
      }
    },
    {
      "cell_type": "markdown",
      "source": [
        ".format() method"
      ],
      "metadata": {
        "id": "Y5pCAxgwmtNQ"
      }
    },
    {
      "cell_type": "code",
      "source": [
        "print('This is a string {}'.format('INSERTED'))"
      ],
      "metadata": {
        "colab": {
          "base_uri": "https://localhost:8080/"
        },
        "id": "-BfBpI3ajexZ",
        "outputId": "3e6efff8-57a9-4aa0-d38f-6653ebeefeb8"
      },
      "execution_count": 37,
      "outputs": [
        {
          "output_type": "stream",
          "name": "stdout",
          "text": [
            "This is a string INSERTED\n"
          ]
        }
      ]
    },
    {
      "cell_type": "code",
      "source": [
        "print('The {} {} {}'.format('sky', 'is', 'blue'))"
      ],
      "metadata": {
        "colab": {
          "base_uri": "https://localhost:8080/"
        },
        "id": "Rapzr0YylD-N",
        "outputId": "584205db-1762-4b93-d334-eccd24fb4285"
      },
      "execution_count": 42,
      "outputs": [
        {
          "output_type": "stream",
          "name": "stdout",
          "text": [
            "The sky is blue\n"
          ]
        }
      ]
    },
    {
      "cell_type": "code",
      "source": [
        "print('The {2} {1} {0}'.format('sky', 'is', 'blue'))"
      ],
      "metadata": {
        "colab": {
          "base_uri": "https://localhost:8080/"
        },
        "id": "PEFcYQ1LlVAP",
        "outputId": "ea221876-01a3-4742-d09d-445d31cdd862"
      },
      "execution_count": 43,
      "outputs": [
        {
          "output_type": "stream",
          "name": "stdout",
          "text": [
            "The blue is sky\n"
          ]
        }
      ]
    },
    {
      "cell_type": "code",
      "source": [
        "print('The {s} {i} {b}'.format(s='sky', i='is', b='blue'))"
      ],
      "metadata": {
        "colab": {
          "base_uri": "https://localhost:8080/"
        },
        "id": "n2uhAXg9mVkb",
        "outputId": "1877b11d-b1a2-47de-93f1-e745d5ae1e4e"
      },
      "execution_count": 45,
      "outputs": [
        {
          "output_type": "stream",
          "name": "stdout",
          "text": [
            "The sky is blue\n"
          ]
        }
      ]
    },
    {
      "cell_type": "markdown",
      "source": [
        "Float formating follows \"{value:width.precision f}\""
      ],
      "metadata": {
        "id": "6QPr1Vo5mwwC"
      }
    },
    {
      "cell_type": "code",
      "source": [
        "result = 100/357\n",
        "result"
      ],
      "metadata": {
        "colab": {
          "base_uri": "https://localhost:8080/"
        },
        "id": "GvQTgFSkmmRx",
        "outputId": "52f8150b-9698-4dc2-aef9-a1edc56b1661"
      },
      "execution_count": 51,
      "outputs": [
        {
          "output_type": "execute_result",
          "data": {
            "text/plain": [
              "0.2801120448179272"
            ]
          },
          "metadata": {},
          "execution_count": 51
        }
      ]
    },
    {
      "cell_type": "code",
      "source": [
        "print(\"The result is {}\".format(result))"
      ],
      "metadata": {
        "colab": {
          "base_uri": "https://localhost:8080/"
        },
        "id": "ewU-pi-Mnq6s",
        "outputId": "caa0f856-d182-4fb1-c394-fe7ba4b90c4d"
      },
      "execution_count": 52,
      "outputs": [
        {
          "output_type": "stream",
          "name": "stdout",
          "text": [
            "The result is 0.2801120448179272\n"
          ]
        }
      ]
    },
    {
      "cell_type": "code",
      "source": [
        "print(\"The result is {r}\".format(r=result))"
      ],
      "metadata": {
        "colab": {
          "base_uri": "https://localhost:8080/"
        },
        "id": "Hw_8kPiLn_M5",
        "outputId": "59501831-1018-412e-a0ed-e58e562b0001"
      },
      "execution_count": 53,
      "outputs": [
        {
          "output_type": "stream",
          "name": "stdout",
          "text": [
            "The result is 0.2801120448179272\n"
          ]
        }
      ]
    },
    {
      "cell_type": "code",
      "source": [
        "print(\"The result is {r:10.5f}\".format(r=result)) # Width means how long you want the entire string number to be."
      ],
      "metadata": {
        "colab": {
          "base_uri": "https://localhost:8080/"
        },
        "id": "EQsReA1HoQo4",
        "outputId": "edd8786f-787f-4f03-f408-2c3db274d441"
      },
      "execution_count": 56,
      "outputs": [
        {
          "output_type": "stream",
          "name": "stdout",
          "text": [
            "The result is    0.28011\n"
          ]
        }
      ]
    },
    {
      "cell_type": "code",
      "source": [
        "print(\"The result is {r:1.3f}\".format(r=result)) # It's the precision really matters."
      ],
      "metadata": {
        "colab": {
          "base_uri": "https://localhost:8080/"
        },
        "id": "TTTaj4jkpGCq",
        "outputId": "61ce515b-6328-4a0b-be0b-4eb671b25e47"
      },
      "execution_count": 58,
      "outputs": [
        {
          "output_type": "stream",
          "name": "stdout",
          "text": [
            "The result is 0.280\n"
          ]
        }
      ]
    },
    {
      "cell_type": "markdown",
      "source": [
        "printf method"
      ],
      "metadata": {
        "id": "hM4vXk_-qbVQ"
      }
    },
    {
      "cell_type": "code",
      "source": [
        "name = \"Lily\""
      ],
      "metadata": {
        "id": "xaIrjOiJpjC4"
      },
      "execution_count": 59,
      "outputs": []
    },
    {
      "cell_type": "code",
      "source": [
        "print(f'Hello, my name is {name}')"
      ],
      "metadata": {
        "colab": {
          "base_uri": "https://localhost:8080/"
        },
        "id": "MkKP81G9pqKd",
        "outputId": "3f57ac44-970d-4ad5-9b2a-763015f1fae9"
      },
      "execution_count": 61,
      "outputs": [
        {
          "output_type": "stream",
          "name": "stdout",
          "text": [
            "Hello, my name is Lily\n"
          ]
        }
      ]
    },
    {
      "cell_type": "code",
      "source": [
        "name = \"Lily\"\n",
        "age = 24\n",
        "print(f'{name} is {age} years old.')"
      ],
      "metadata": {
        "colab": {
          "base_uri": "https://localhost:8080/"
        },
        "id": "qxJGXd6op9g5",
        "outputId": "52764b1d-7d25-400a-9a94-e2eb5799ce3e"
      },
      "execution_count": 62,
      "outputs": [
        {
          "output_type": "stream",
          "name": "stdout",
          "text": [
            "Lily is 24 years old.\n"
          ]
        }
      ]
    },
    {
      "cell_type": "markdown",
      "source": [
        "**List**"
      ],
      "metadata": {
        "id": "5ZvWodn5rwnW"
      }
    },
    {
      "cell_type": "code",
      "source": [
        "mylist0 = [1,2,3]\n",
        "mylist0"
      ],
      "metadata": {
        "colab": {
          "base_uri": "https://localhost:8080/"
        },
        "id": "kx49t8s0qVtn",
        "outputId": "d75d0fd4-44e9-4732-e2c2-1535a75a1672"
      },
      "execution_count": 69,
      "outputs": [
        {
          "output_type": "execute_result",
          "data": {
            "text/plain": [
              "[1, 2, 3]"
            ]
          },
          "metadata": {},
          "execution_count": 69
        }
      ]
    },
    {
      "cell_type": "code",
      "source": [
        "mylist1 = ['string',1222.3, 23]\n",
        "mylist1"
      ],
      "metadata": {
        "colab": {
          "base_uri": "https://localhost:8080/"
        },
        "id": "kERCetKKr_ys",
        "outputId": "fa4e4335-8e0a-4480-9fdf-81aa8ba8d043"
      },
      "execution_count": 70,
      "outputs": [
        {
          "output_type": "execute_result",
          "data": {
            "text/plain": [
              "['string', 1222.3, 23]"
            ]
          },
          "metadata": {},
          "execution_count": 70
        }
      ]
    },
    {
      "cell_type": "code",
      "source": [
        "mylist1[0]"
      ],
      "metadata": {
        "colab": {
          "base_uri": "https://localhost:8080/",
          "height": 35
        },
        "id": "HY43vFpIsMJZ",
        "outputId": "754f0104-25fd-4d85-e127-f68997b71a26"
      },
      "execution_count": 71,
      "outputs": [
        {
          "output_type": "execute_result",
          "data": {
            "text/plain": [
              "'string'"
            ],
            "application/vnd.google.colaboratory.intrinsic+json": {
              "type": "string"
            }
          },
          "metadata": {},
          "execution_count": 71
        }
      ]
    },
    {
      "cell_type": "code",
      "source": [
        "mylist1[1:]"
      ],
      "metadata": {
        "colab": {
          "base_uri": "https://localhost:8080/"
        },
        "id": "W6LfQKWIsReA",
        "outputId": "e6946f0b-0aa5-4428-b70d-9db4567e3499"
      },
      "execution_count": 72,
      "outputs": [
        {
          "output_type": "execute_result",
          "data": {
            "text/plain": [
              "[1222.3, 23]"
            ]
          },
          "metadata": {},
          "execution_count": 72
        }
      ]
    },
    {
      "cell_type": "code",
      "source": [
        "newlist = mylist0 + mylist1\n",
        "newlist"
      ],
      "metadata": {
        "colab": {
          "base_uri": "https://localhost:8080/"
        },
        "id": "aEqEuO8IsVDz",
        "outputId": "8abc9979-84f9-4b54-de21-9ad8dcb8d5d1"
      },
      "execution_count": 75,
      "outputs": [
        {
          "output_type": "execute_result",
          "data": {
            "text/plain": [
              "[1, 2, 3, 'string', 1222.3, 23]"
            ]
          },
          "metadata": {},
          "execution_count": 75
        }
      ]
    },
    {
      "cell_type": "code",
      "source": [
        "newlist[0] = \"a\"\n",
        "newlist"
      ],
      "metadata": {
        "colab": {
          "base_uri": "https://localhost:8080/"
        },
        "id": "7IVJwFW2sil4",
        "outputId": "2fdbcfec-7248-47ea-8fb0-2a60ee397c5f"
      },
      "execution_count": 77,
      "outputs": [
        {
          "output_type": "execute_result",
          "data": {
            "text/plain": [
              "['a', 2, 3, 'string', 1222.3, 23]"
            ]
          },
          "metadata": {},
          "execution_count": 77
        }
      ]
    },
    {
      "cell_type": "code",
      "source": [
        "newlist.append('b')\n",
        "newlist"
      ],
      "metadata": {
        "colab": {
          "base_uri": "https://localhost:8080/"
        },
        "id": "wdnDXd-fs2LM",
        "outputId": "eb3393b2-f96c-4f07-9a91-9bcaca4dc980"
      },
      "execution_count": 82,
      "outputs": [
        {
          "output_type": "execute_result",
          "data": {
            "text/plain": [
              "['a', 2, 3, 'string', 1222.3, 23, 'b', 'b', 'b', 'b', 'b']"
            ]
          },
          "metadata": {},
          "execution_count": 82
        }
      ]
    },
    {
      "cell_type": "code",
      "source": [
        "newlist.append('c')\n",
        "newlist"
      ],
      "metadata": {
        "colab": {
          "base_uri": "https://localhost:8080/"
        },
        "id": "lhHyxYOetIGy",
        "outputId": "f29b3227-a38f-440b-f18f-a0f778d9b9ae"
      },
      "execution_count": 83,
      "outputs": [
        {
          "output_type": "execute_result",
          "data": {
            "text/plain": [
              "['a', 2, 3, 'string', 1222.3, 23, 'b', 'b', 'b', 'b', 'b', 'c']"
            ]
          },
          "metadata": {},
          "execution_count": 83
        }
      ]
    },
    {
      "cell_type": "code",
      "source": [
        "newlist.pop() # equals to newlist.pop(-1)"
      ],
      "metadata": {
        "colab": {
          "base_uri": "https://localhost:8080/",
          "height": 35
        },
        "id": "hDHuEryotNtP",
        "outputId": "ffc56a74-a677-4160-a45d-80e29396a63e"
      },
      "execution_count": 84,
      "outputs": [
        {
          "output_type": "execute_result",
          "data": {
            "text/plain": [
              "'c'"
            ],
            "application/vnd.google.colaboratory.intrinsic+json": {
              "type": "string"
            }
          },
          "metadata": {},
          "execution_count": 84
        }
      ]
    },
    {
      "cell_type": "code",
      "source": [
        "newlist"
      ],
      "metadata": {
        "colab": {
          "base_uri": "https://localhost:8080/"
        },
        "id": "9xB9EWa7tWL2",
        "outputId": "f3bdd753-99be-4651-dd27-ad30602be990"
      },
      "execution_count": 85,
      "outputs": [
        {
          "output_type": "execute_result",
          "data": {
            "text/plain": [
              "['a', 2, 3, 'string', 1222.3, 23, 'b', 'b', 'b', 'b', 'b']"
            ]
          },
          "metadata": {},
          "execution_count": 85
        }
      ]
    },
    {
      "cell_type": "code",
      "source": [
        "popped_item = newlist.pop()\n",
        "popped_item"
      ],
      "metadata": {
        "colab": {
          "base_uri": "https://localhost:8080/",
          "height": 35
        },
        "id": "02S0X3HPtbuI",
        "outputId": "698867a4-f283-4e78-a675-29343e3be169"
      },
      "execution_count": 86,
      "outputs": [
        {
          "output_type": "execute_result",
          "data": {
            "text/plain": [
              "'b'"
            ],
            "application/vnd.google.colaboratory.intrinsic+json": {
              "type": "string"
            }
          },
          "metadata": {},
          "execution_count": 86
        }
      ]
    },
    {
      "cell_type": "code",
      "source": [
        "newlist"
      ],
      "metadata": {
        "colab": {
          "base_uri": "https://localhost:8080/"
        },
        "id": "i-Occ8Umtiww",
        "outputId": "4cd6aa5a-5e32-43cf-87d3-eb63ab95440d"
      },
      "execution_count": 87,
      "outputs": [
        {
          "output_type": "execute_result",
          "data": {
            "text/plain": [
              "['a', 2, 3, 'string', 1222.3, 23, 'b', 'b', 'b', 'b']"
            ]
          },
          "metadata": {},
          "execution_count": 87
        }
      ]
    },
    {
      "cell_type": "code",
      "source": [
        "newlist.pop(0)"
      ],
      "metadata": {
        "colab": {
          "base_uri": "https://localhost:8080/",
          "height": 35
        },
        "id": "OlST3Q7Ytkat",
        "outputId": "6fbfe78b-1e16-44e2-8a84-eb0fa6de5780"
      },
      "execution_count": 88,
      "outputs": [
        {
          "output_type": "execute_result",
          "data": {
            "text/plain": [
              "'a'"
            ],
            "application/vnd.google.colaboratory.intrinsic+json": {
              "type": "string"
            }
          },
          "metadata": {},
          "execution_count": 88
        }
      ]
    },
    {
      "cell_type": "code",
      "source": [
        "newlist"
      ],
      "metadata": {
        "colab": {
          "base_uri": "https://localhost:8080/"
        },
        "id": "iL2Wjr-1tqDN",
        "outputId": "1208d186-fa9c-402c-8e35-4d12c7840ee9"
      },
      "execution_count": 89,
      "outputs": [
        {
          "output_type": "execute_result",
          "data": {
            "text/plain": [
              "[2, 3, 'string', 1222.3, 23, 'b', 'b', 'b', 'b']"
            ]
          },
          "metadata": {},
          "execution_count": 89
        }
      ]
    },
    {
      "cell_type": "code",
      "source": [
        "letter_list = ['a','g','k','p','d']\n",
        "number_list =[4,2,6,9]"
      ],
      "metadata": {
        "id": "-Ecu5zfWtsbf"
      },
      "execution_count": 90,
      "outputs": []
    },
    {
      "cell_type": "code",
      "source": [
        "letter_list.sort() # doesn't return to anything"
      ],
      "metadata": {
        "id": "z94ghHqIuURQ"
      },
      "execution_count": 91,
      "outputs": []
    },
    {
      "cell_type": "code",
      "source": [
        "letter_list"
      ],
      "metadata": {
        "colab": {
          "base_uri": "https://localhost:8080/"
        },
        "id": "DI1bV1L3uZLP",
        "outputId": "994a3b5b-e086-432a-8924-f6734356bbdd"
      },
      "execution_count": 92,
      "outputs": [
        {
          "output_type": "execute_result",
          "data": {
            "text/plain": [
              "['a', 'd', 'g', 'k', 'p']"
            ]
          },
          "metadata": {},
          "execution_count": 92
        }
      ]
    },
    {
      "cell_type": "code",
      "source": [
        "number_list.sort()\n",
        "sorted_number = number_list\n",
        "number_list"
      ],
      "metadata": {
        "colab": {
          "base_uri": "https://localhost:8080/"
        },
        "id": "zZYiAI-9ugG_",
        "outputId": "89b81356-2ff5-42fe-f858-29902631f8c6"
      },
      "execution_count": 94,
      "outputs": [
        {
          "output_type": "execute_result",
          "data": {
            "text/plain": [
              "[2, 4, 6, 9]"
            ]
          },
          "metadata": {},
          "execution_count": 94
        }
      ]
    },
    {
      "cell_type": "code",
      "source": [
        "number_list.reverse()"
      ],
      "metadata": {
        "id": "XIMPWZ7KvC9T"
      },
      "execution_count": 95,
      "outputs": []
    },
    {
      "cell_type": "code",
      "source": [
        "number_list"
      ],
      "metadata": {
        "colab": {
          "base_uri": "https://localhost:8080/"
        },
        "id": "SsqMKXvjvOKD",
        "outputId": "fb6af03f-df75-44bc-8fa0-b8907c535b6f"
      },
      "execution_count": 96,
      "outputs": [
        {
          "output_type": "execute_result",
          "data": {
            "text/plain": [
              "[9, 6, 4, 2]"
            ]
          },
          "metadata": {},
          "execution_count": 96
        }
      ]
    },
    {
      "cell_type": "markdown",
      "source": [
        "**Dictionary**"
      ],
      "metadata": {
        "id": "yG9g7HlnimGr"
      }
    },
    {
      "cell_type": "markdown",
      "source": [
        "*   Dictionary: Objects retrieved by key name. Unordered and can not be sorted.\n",
        "*   List: Objects retrieved by location. Ordered sequence can be indexed or sliced.\n"
      ],
      "metadata": {
        "id": "3L6tXFEJi2Oc"
      }
    },
    {
      "cell_type": "code",
      "source": [
        "my_dict = {'key1':'value1','key2':'value2'}\n",
        "my_dict"
      ],
      "metadata": {
        "colab": {
          "base_uri": "https://localhost:8080/"
        },
        "id": "GIzBSuSrvRCa",
        "outputId": "af11d72e-311c-4127-fbeb-563713f60e83"
      },
      "execution_count": 1,
      "outputs": [
        {
          "output_type": "execute_result",
          "data": {
            "text/plain": [
              "{'key1': 'value1', 'key2': 'value2'}"
            ]
          },
          "metadata": {},
          "execution_count": 1
        }
      ]
    },
    {
      "cell_type": "code",
      "source": [
        "my_dict['key1']"
      ],
      "metadata": {
        "colab": {
          "base_uri": "https://localhost:8080/",
          "height": 35
        },
        "id": "21aUNnDIj6VA",
        "outputId": "d661feae-00db-4844-98ba-a23b0af011b1"
      },
      "execution_count": 2,
      "outputs": [
        {
          "output_type": "execute_result",
          "data": {
            "text/plain": [
              "'value1'"
            ],
            "application/vnd.google.colaboratory.intrinsic+json": {
              "type": "string"
            }
          },
          "metadata": {},
          "execution_count": 2
        }
      ]
    },
    {
      "cell_type": "code",
      "source": [
        "prices = {'apple':2.99,'orange':1.99,'milk':5.80}\n",
        "prices['milk']"
      ],
      "metadata": {
        "colab": {
          "base_uri": "https://localhost:8080/"
        },
        "id": "TeA0hvDUj_vV",
        "outputId": "b2aa0ec9-f275-4ab0-90c6-ccf49849f347"
      },
      "execution_count": 3,
      "outputs": [
        {
          "output_type": "execute_result",
          "data": {
            "text/plain": [
              "5.8"
            ]
          },
          "metadata": {},
          "execution_count": 3
        }
      ]
    },
    {
      "cell_type": "code",
      "source": [
        "d = {'k1':123,'k2':[0,1,'a'],'k3':{'inside1':100, 'inside2':200}}"
      ],
      "metadata": {
        "id": "meHaIcqikLrJ"
      },
      "execution_count": 3,
      "outputs": []
    },
    {
      "cell_type": "code",
      "source": [
        "d['k2']"
      ],
      "metadata": {
        "colab": {
          "base_uri": "https://localhost:8080/"
        },
        "id": "TrrChKfdkm6H",
        "outputId": "650f7e60-8f9e-4b06-96d1-858f15143232"
      },
      "execution_count": 4,
      "outputs": [
        {
          "output_type": "execute_result",
          "data": {
            "text/plain": [
              "[0, 1, 'a']"
            ]
          },
          "metadata": {},
          "execution_count": 4
        }
      ]
    },
    {
      "cell_type": "code",
      "source": [
        "d['k2'][2]"
      ],
      "metadata": {
        "colab": {
          "base_uri": "https://localhost:8080/",
          "height": 35
        },
        "id": "q9Recjm3kq3O",
        "outputId": "4f7ca57e-d6b2-46c0-f32e-0537f3a2b679"
      },
      "execution_count": 5,
      "outputs": [
        {
          "output_type": "execute_result",
          "data": {
            "text/plain": [
              "'a'"
            ],
            "application/vnd.google.colaboratory.intrinsic+json": {
              "type": "string"
            }
          },
          "metadata": {},
          "execution_count": 5
        }
      ]
    },
    {
      "cell_type": "code",
      "source": [
        "d['k2'][2].upper()"
      ],
      "metadata": {
        "colab": {
          "base_uri": "https://localhost:8080/",
          "height": 35
        },
        "id": "tiVQhNHulAkx",
        "outputId": "77a3d795-6262-41d6-dbef-08cd36213cd9"
      },
      "execution_count": 6,
      "outputs": [
        {
          "output_type": "execute_result",
          "data": {
            "text/plain": [
              "'A'"
            ],
            "application/vnd.google.colaboratory.intrinsic+json": {
              "type": "string"
            }
          },
          "metadata": {},
          "execution_count": 6
        }
      ]
    },
    {
      "cell_type": "code",
      "source": [
        "d['k3']"
      ],
      "metadata": {
        "colab": {
          "base_uri": "https://localhost:8080/"
        },
        "id": "uAZe4NjUkun1",
        "outputId": "8ae98e0e-d7dd-48eb-c435-d04036de8179"
      },
      "execution_count": 7,
      "outputs": [
        {
          "output_type": "execute_result",
          "data": {
            "text/plain": [
              "{'inside1': 100, 'inside2': 200}"
            ]
          },
          "metadata": {},
          "execution_count": 7
        }
      ]
    },
    {
      "cell_type": "code",
      "source": [
        "d.keys()"
      ],
      "metadata": {
        "colab": {
          "base_uri": "https://localhost:8080/"
        },
        "id": "KdVxPKMGk5CA",
        "outputId": "f009f5f7-ea9c-474f-e810-bffee00bb7c8"
      },
      "execution_count": 8,
      "outputs": [
        {
          "output_type": "execute_result",
          "data": {
            "text/plain": [
              "dict_keys(['k1', 'k2', 'k3'])"
            ]
          },
          "metadata": {},
          "execution_count": 8
        }
      ]
    },
    {
      "cell_type": "code",
      "source": [
        "d.values()"
      ],
      "metadata": {
        "colab": {
          "base_uri": "https://localhost:8080/"
        },
        "id": "EUdJJ9_F9Ctw",
        "outputId": "8951d3a0-f164-4d22-85cf-84d0d10602cd"
      },
      "execution_count": 9,
      "outputs": [
        {
          "output_type": "execute_result",
          "data": {
            "text/plain": [
              "dict_values([123, [0, 1, 'a'], {'inside1': 100, 'inside2': 200}])"
            ]
          },
          "metadata": {},
          "execution_count": 9
        }
      ]
    },
    {
      "cell_type": "code",
      "source": [
        "d.items()"
      ],
      "metadata": {
        "colab": {
          "base_uri": "https://localhost:8080/"
        },
        "id": "Ogd1aP8C9Qeq",
        "outputId": "a43f5329-79cc-450d-c39d-adcc41eeb12d"
      },
      "execution_count": 10,
      "outputs": [
        {
          "output_type": "execute_result",
          "data": {
            "text/plain": [
              "dict_items([('k1', 123), ('k2', [0, 1, 'a']), ('k3', {'inside1': 100, 'inside2': 200})])"
            ]
          },
          "metadata": {},
          "execution_count": 10
        }
      ]
    },
    {
      "cell_type": "code",
      "source": [
        "d['k3'] = 100"
      ],
      "metadata": {
        "id": "iPFIiJD29a_O"
      },
      "execution_count": 11,
      "outputs": []
    },
    {
      "cell_type": "code",
      "source": [
        "d"
      ],
      "metadata": {
        "colab": {
          "base_uri": "https://localhost:8080/"
        },
        "id": "muKZTSJ09g7j",
        "outputId": "d28298c7-b159-4c31-e705-479ee599f233"
      },
      "execution_count": 12,
      "outputs": [
        {
          "output_type": "execute_result",
          "data": {
            "text/plain": [
              "{'k1': 123, 'k2': [0, 1, 'a'], 'k3': 100}"
            ]
          },
          "metadata": {},
          "execution_count": 12
        }
      ]
    },
    {
      "cell_type": "markdown",
      "source": [
        "**Tuples** (immutable!)"
      ],
      "metadata": {
        "id": "CtE6ED9UWRPh"
      }
    },
    {
      "cell_type": "code",
      "source": [
        "t = (1,2,3)\n",
        "l = [1,2,3]"
      ],
      "metadata": {
        "id": "33KpOXn0Wbuj"
      },
      "execution_count": 13,
      "outputs": []
    },
    {
      "cell_type": "code",
      "source": [
        "type(t)"
      ],
      "metadata": {
        "colab": {
          "base_uri": "https://localhost:8080/"
        },
        "id": "q5N590d7WmNE",
        "outputId": "9e0426ea-9eb7-4baf-f205-5f12adf506bf"
      },
      "execution_count": 14,
      "outputs": [
        {
          "output_type": "execute_result",
          "data": {
            "text/plain": [
              "tuple"
            ]
          },
          "metadata": {},
          "execution_count": 14
        }
      ]
    },
    {
      "cell_type": "code",
      "source": [
        "type(l)"
      ],
      "metadata": {
        "colab": {
          "base_uri": "https://localhost:8080/"
        },
        "id": "8p1FzgGSWooF",
        "outputId": "175a380d-6376-489d-a19a-f2c2444c09cc"
      },
      "execution_count": 15,
      "outputs": [
        {
          "output_type": "execute_result",
          "data": {
            "text/plain": [
              "list"
            ]
          },
          "metadata": {},
          "execution_count": 15
        }
      ]
    },
    {
      "cell_type": "code",
      "source": [
        "t = ('one',2,3)"
      ],
      "metadata": {
        "id": "hCeA70-kWsZy"
      },
      "execution_count": 16,
      "outputs": []
    },
    {
      "cell_type": "code",
      "source": [
        "t[0]"
      ],
      "metadata": {
        "colab": {
          "base_uri": "https://localhost:8080/",
          "height": 35
        },
        "id": "WMbvPoxKWz4K",
        "outputId": "1090e4d2-2bb7-4403-83ea-367e41476fd4"
      },
      "execution_count": 17,
      "outputs": [
        {
          "output_type": "execute_result",
          "data": {
            "text/plain": [
              "'one'"
            ],
            "application/vnd.google.colaboratory.intrinsic+json": {
              "type": "string"
            }
          },
          "metadata": {},
          "execution_count": 17
        }
      ]
    },
    {
      "cell_type": "code",
      "source": [
        "t[-1]"
      ],
      "metadata": {
        "colab": {
          "base_uri": "https://localhost:8080/"
        },
        "id": "s-wvYGwSW3Se",
        "outputId": "f9671493-983e-4079-fd48-b425523bd35b"
      },
      "execution_count": 18,
      "outputs": [
        {
          "output_type": "execute_result",
          "data": {
            "text/plain": [
              "3"
            ]
          },
          "metadata": {},
          "execution_count": 18
        }
      ]
    },
    {
      "cell_type": "code",
      "source": [
        "t = ('a','a','b')"
      ],
      "metadata": {
        "id": "iRxBDQ_lW6-B"
      },
      "execution_count": 19,
      "outputs": []
    },
    {
      "cell_type": "code",
      "source": [
        "t.count('a')"
      ],
      "metadata": {
        "colab": {
          "base_uri": "https://localhost:8080/"
        },
        "id": "dIgrN4KPXD4O",
        "outputId": "fbb8b4e3-0775-4541-e6d2-07ee312ff173"
      },
      "execution_count": 20,
      "outputs": [
        {
          "output_type": "execute_result",
          "data": {
            "text/plain": [
              "2"
            ]
          },
          "metadata": {},
          "execution_count": 20
        }
      ]
    },
    {
      "cell_type": "code",
      "source": [
        "t.index('a') # the first place"
      ],
      "metadata": {
        "colab": {
          "base_uri": "https://localhost:8080/"
        },
        "id": "xVvgfEmdXLeQ",
        "outputId": "81b6e81b-68d9-44e8-d2c7-4d2b1b3a7b3a"
      },
      "execution_count": 21,
      "outputs": [
        {
          "output_type": "execute_result",
          "data": {
            "text/plain": [
              "0"
            ]
          },
          "metadata": {},
          "execution_count": 21
        }
      ]
    },
    {
      "cell_type": "code",
      "source": [
        "l[0] = 'new'\n",
        "l"
      ],
      "metadata": {
        "colab": {
          "base_uri": "https://localhost:8080/"
        },
        "id": "r94C_QUgXUXB",
        "outputId": "570920ae-3017-4ced-f0cb-e77cb88762fb"
      },
      "execution_count": 22,
      "outputs": [
        {
          "output_type": "execute_result",
          "data": {
            "text/plain": [
              "['new', 2, 3]"
            ]
          },
          "metadata": {},
          "execution_count": 22
        }
      ]
    },
    {
      "cell_type": "markdown",
      "source": [
        "**Sets** (**unordered** collections of **unique** elements)"
      ],
      "metadata": {
        "id": "6I1nnUM8Xt9C"
      }
    },
    {
      "cell_type": "code",
      "source": [
        "s = set()"
      ],
      "metadata": {
        "id": "hq1XMTFmYr12"
      },
      "execution_count": 24,
      "outputs": []
    },
    {
      "cell_type": "code",
      "source": [
        "s"
      ],
      "metadata": {
        "colab": {
          "base_uri": "https://localhost:8080/"
        },
        "id": "1YgIgo4oYxQk",
        "outputId": "aea4e3c7-2913-4fa4-d11b-4eb1d177bc9d"
      },
      "execution_count": 25,
      "outputs": [
        {
          "output_type": "execute_result",
          "data": {
            "text/plain": [
              "set()"
            ]
          },
          "metadata": {},
          "execution_count": 25
        }
      ]
    },
    {
      "cell_type": "code",
      "source": [
        "s.add(1)\n",
        "s"
      ],
      "metadata": {
        "colab": {
          "base_uri": "https://localhost:8080/"
        },
        "id": "08AKKiAkYyg6",
        "outputId": "cafcc4f4-0d91-47b6-bae7-56dd881e1206"
      },
      "execution_count": 26,
      "outputs": [
        {
          "output_type": "execute_result",
          "data": {
            "text/plain": [
              "{1}"
            ]
          },
          "metadata": {},
          "execution_count": 26
        }
      ]
    },
    {
      "cell_type": "code",
      "source": [
        "s.add(2)\n",
        "s"
      ],
      "metadata": {
        "colab": {
          "base_uri": "https://localhost:8080/"
        },
        "id": "DVEOeoGnY3g-",
        "outputId": "1d339ba2-4775-438a-be62-4087b6c0d608"
      },
      "execution_count": 27,
      "outputs": [
        {
          "output_type": "execute_result",
          "data": {
            "text/plain": [
              "{1, 2}"
            ]
          },
          "metadata": {},
          "execution_count": 27
        }
      ]
    },
    {
      "cell_type": "code",
      "source": [
        "s.add(2) # won't repeat\n",
        "s"
      ],
      "metadata": {
        "colab": {
          "base_uri": "https://localhost:8080/"
        },
        "id": "huQSwfXDY7G2",
        "outputId": "281d3430-ad6c-4a85-9314-00faf0b18502"
      },
      "execution_count": 29,
      "outputs": [
        {
          "output_type": "execute_result",
          "data": {
            "text/plain": [
              "{1, 2}"
            ]
          },
          "metadata": {},
          "execution_count": 29
        }
      ]
    },
    {
      "cell_type": "code",
      "source": [
        "l = [1,1,1,2,2,2,3,3,3]\n",
        "set(l)"
      ],
      "metadata": {
        "colab": {
          "base_uri": "https://localhost:8080/"
        },
        "id": "aHec067TY-FH",
        "outputId": "dab7cf8b-8a0e-426b-c1df-515b43e9766a"
      },
      "execution_count": 30,
      "outputs": [
        {
          "output_type": "execute_result",
          "data": {
            "text/plain": [
              "{1, 2, 3}"
            ]
          },
          "metadata": {},
          "execution_count": 30
        }
      ]
    },
    {
      "cell_type": "code",
      "source": [
        "l = [5,2,2,'b',2,'a','b','a']\n",
        "set(l)\n",
        "# A set is indeed unordered.\n",
        "# However, it appears to be sequential because Python uses a hash table in its internal implementation."
      ],
      "metadata": {
        "colab": {
          "base_uri": "https://localhost:8080/"
        },
        "id": "ajzNKRZ3ZM-H",
        "outputId": "c9a29ae2-8dca-4df0-b206-721c7a441c5e"
      },
      "execution_count": 38,
      "outputs": [
        {
          "output_type": "execute_result",
          "data": {
            "text/plain": [
              "{2, 5, 'a', 'b'}"
            ]
          },
          "metadata": {},
          "execution_count": 38
        }
      ]
    },
    {
      "cell_type": "code",
      "source": [
        "set('Mississippi')"
      ],
      "metadata": {
        "colab": {
          "base_uri": "https://localhost:8080/"
        },
        "id": "2qdRG0cdbBHj",
        "outputId": "5f4fb494-9440-458f-d2a3-38954a4ab65e"
      },
      "execution_count": 39,
      "outputs": [
        {
          "output_type": "execute_result",
          "data": {
            "text/plain": [
              "{'M', 'i', 'p', 's'}"
            ]
          },
          "metadata": {},
          "execution_count": 39
        }
      ]
    },
    {
      "cell_type": "markdown",
      "source": [
        "**Booleans** (True or False)"
      ],
      "metadata": {
        "id": "b371o6phbORU"
      }
    },
    {
      "cell_type": "code",
      "source": [
        "True"
      ],
      "metadata": {
        "colab": {
          "base_uri": "https://localhost:8080/"
        },
        "id": "xZwJ6df2brsE",
        "outputId": "048ee71b-c418-4f87-e05f-25843b5ba9e2"
      },
      "execution_count": 40,
      "outputs": [
        {
          "output_type": "execute_result",
          "data": {
            "text/plain": [
              "True"
            ]
          },
          "metadata": {},
          "execution_count": 40
        }
      ]
    },
    {
      "cell_type": "code",
      "source": [
        "False"
      ],
      "metadata": {
        "colab": {
          "base_uri": "https://localhost:8080/"
        },
        "id": "0zsUGiuZb4Yp",
        "outputId": "cf7819b6-860a-496c-f861-7e98d27c0964"
      },
      "execution_count": 41,
      "outputs": [
        {
          "output_type": "execute_result",
          "data": {
            "text/plain": [
              "False"
            ]
          },
          "metadata": {},
          "execution_count": 41
        }
      ]
    },
    {
      "cell_type": "code",
      "source": [
        "type(True)"
      ],
      "metadata": {
        "colab": {
          "base_uri": "https://localhost:8080/"
        },
        "id": "msLpeyXUb8p5",
        "outputId": "56038ca1-7317-4c86-e40b-846515962948"
      },
      "execution_count": 42,
      "outputs": [
        {
          "output_type": "execute_result",
          "data": {
            "text/plain": [
              "bool"
            ]
          },
          "metadata": {},
          "execution_count": 42
        }
      ]
    },
    {
      "cell_type": "code",
      "source": [
        "1 > 2"
      ],
      "metadata": {
        "colab": {
          "base_uri": "https://localhost:8080/"
        },
        "id": "CpHoWNU-cBqz",
        "outputId": "7e8c4e63-3e6a-44ba-ea68-4b6126c82a98"
      },
      "execution_count": 43,
      "outputs": [
        {
          "output_type": "execute_result",
          "data": {
            "text/plain": [
              "False"
            ]
          },
          "metadata": {},
          "execution_count": 43
        }
      ]
    },
    {
      "cell_type": "code",
      "source": [
        "1 == 1"
      ],
      "metadata": {
        "colab": {
          "base_uri": "https://localhost:8080/"
        },
        "id": "LCqJsQDJc0Tb",
        "outputId": "bf543a1d-1ff3-4a58-9ef0-646bedfb0d29"
      },
      "execution_count": 44,
      "outputs": [
        {
          "output_type": "execute_result",
          "data": {
            "text/plain": [
              "True"
            ]
          },
          "metadata": {},
          "execution_count": 44
        }
      ]
    },
    {
      "cell_type": "code",
      "source": [
        "a = None\n",
        "a"
      ],
      "metadata": {
        "id": "_P8zESDxc9Zw"
      },
      "execution_count": 45,
      "outputs": []
    },
    {
      "cell_type": "markdown",
      "source": [
        "Input/Output"
      ],
      "metadata": {
        "id": "a92Oz6NxdmHx"
      }
    },
    {
      "cell_type": "code",
      "source": [
        "%%writefile myfile.txt\n",
        "hjjahf\n",
        "jhflhfafbh\n",
        "jfkanhjfh"
      ],
      "metadata": {
        "colab": {
          "base_uri": "https://localhost:8080/"
        },
        "id": "vUPxe3-sdJvF",
        "outputId": "62d90a39-b849-4ad1-f165-ee233b6ac67c"
      },
      "execution_count": 46,
      "outputs": [
        {
          "output_type": "stream",
          "name": "stdout",
          "text": [
            "Writing myfile.txt\n"
          ]
        }
      ]
    },
    {
      "cell_type": "code",
      "source": [
        "myfile = open('myfile.txt')"
      ],
      "metadata": {
        "id": "qQWfa5bXeHII"
      },
      "execution_count": 47,
      "outputs": []
    },
    {
      "cell_type": "code",
      "source": [
        "myfile = open('whoops_wrong.txt')"
      ],
      "metadata": {
        "colab": {
          "base_uri": "https://localhost:8080/",
          "height": 180
        },
        "id": "nQ1xDHtKeKmq",
        "outputId": "ea8f09e1-b996-4409-ffdc-6c4fece1f43c"
      },
      "execution_count": 48,
      "outputs": [
        {
          "output_type": "error",
          "ename": "FileNotFoundError",
          "evalue": "[Errno 2] No such file or directory: 'whoops_wrong.txt'",
          "traceback": [
            "\u001b[0;31m---------------------------------------------------------------------------\u001b[0m",
            "\u001b[0;31mFileNotFoundError\u001b[0m                         Traceback (most recent call last)",
            "\u001b[0;32m<ipython-input-48-8d94c7c80b4a>\u001b[0m in \u001b[0;36m<cell line: 0>\u001b[0;34m()\u001b[0m\n\u001b[0;32m----> 1\u001b[0;31m \u001b[0mmyfile\u001b[0m \u001b[0;34m=\u001b[0m \u001b[0mopen\u001b[0m\u001b[0;34m(\u001b[0m\u001b[0;34m'whoops_wrong.txt'\u001b[0m\u001b[0;34m)\u001b[0m\u001b[0;34m\u001b[0m\u001b[0;34m\u001b[0m\u001b[0m\n\u001b[0m",
            "\u001b[0;31mFileNotFoundError\u001b[0m: [Errno 2] No such file or directory: 'whoops_wrong.txt'"
          ]
        }
      ]
    },
    {
      "cell_type": "code",
      "source": [
        "pwd"
      ],
      "metadata": {
        "colab": {
          "base_uri": "https://localhost:8080/",
          "height": 35
        },
        "id": "35hiTQ7pfU6k",
        "outputId": "08a5f12e-29d4-4448-8167-2ed45958a8c0"
      },
      "execution_count": 49,
      "outputs": [
        {
          "output_type": "execute_result",
          "data": {
            "text/plain": [
              "'/content'"
            ],
            "application/vnd.google.colaboratory.intrinsic+json": {
              "type": "string"
            }
          },
          "metadata": {},
          "execution_count": 49
        }
      ]
    },
    {
      "cell_type": "code",
      "source": [
        "myfile = open('myfile.txt')"
      ],
      "metadata": {
        "id": "08HHQnyEfYIx"
      },
      "execution_count": 50,
      "outputs": []
    },
    {
      "cell_type": "code",
      "source": [
        "myfile.read() # \\n means a new line"
      ],
      "metadata": {
        "colab": {
          "base_uri": "https://localhost:8080/",
          "height": 35
        },
        "id": "128-weUnfjWZ",
        "outputId": "58a31fd3-2a3d-4b3d-c3cb-5faff731803d"
      },
      "execution_count": 51,
      "outputs": [
        {
          "output_type": "execute_result",
          "data": {
            "text/plain": [
              "'hjjahf\\njhflhfafbh\\njfkanhjfh\\n'"
            ],
            "application/vnd.google.colaboratory.intrinsic+json": {
              "type": "string"
            }
          },
          "metadata": {},
          "execution_count": 51
        }
      ]
    },
    {
      "cell_type": "code",
      "source": [
        "myfile.read()"
      ],
      "metadata": {
        "colab": {
          "base_uri": "https://localhost:8080/",
          "height": 35
        },
        "id": "BnOi_xRmgQDS",
        "outputId": "4e379d78-7046-4d54-ddf7-60351656d13a"
      },
      "execution_count": 55,
      "outputs": [
        {
          "output_type": "execute_result",
          "data": {
            "text/plain": [
              "''"
            ],
            "application/vnd.google.colaboratory.intrinsic+json": {
              "type": "string"
            }
          },
          "metadata": {},
          "execution_count": 55
        }
      ]
    },
    {
      "cell_type": "code",
      "source": [
        "myfile.seek(0)"
      ],
      "metadata": {
        "colab": {
          "base_uri": "https://localhost:8080/"
        },
        "id": "zpN_seGLgVFM",
        "outputId": "c58054a2-ff8b-4385-f27f-e853c851aee8"
      },
      "execution_count": 56,
      "outputs": [
        {
          "output_type": "execute_result",
          "data": {
            "text/plain": [
              "0"
            ]
          },
          "metadata": {},
          "execution_count": 56
        }
      ]
    },
    {
      "cell_type": "code",
      "source": [
        "myfile.read()"
      ],
      "metadata": {
        "colab": {
          "base_uri": "https://localhost:8080/",
          "height": 35
        },
        "id": "iq4Sz40JgbJu",
        "outputId": "eaa4d4b1-29f6-45d6-a5f8-b37c8ff4968f"
      },
      "execution_count": 57,
      "outputs": [
        {
          "output_type": "execute_result",
          "data": {
            "text/plain": [
              "'hjjahf\\njhflhfafbh\\njfkanhjfh\\n'"
            ],
            "application/vnd.google.colaboratory.intrinsic+json": {
              "type": "string"
            }
          },
          "metadata": {},
          "execution_count": 57
        }
      ]
    },
    {
      "cell_type": "code",
      "source": [
        "myfile.readlines()"
      ],
      "metadata": {
        "colab": {
          "base_uri": "https://localhost:8080/"
        },
        "id": "I-tm5OuMgk3J",
        "outputId": "36451f67-d045-4f51-f645-c29cb47b574a"
      },
      "execution_count": 58,
      "outputs": [
        {
          "output_type": "execute_result",
          "data": {
            "text/plain": [
              "[]"
            ]
          },
          "metadata": {},
          "execution_count": 58
        }
      ]
    },
    {
      "cell_type": "code",
      "source": [
        "myfile.seek(0)\n",
        "myfile.readlines()"
      ],
      "metadata": {
        "colab": {
          "base_uri": "https://localhost:8080/"
        },
        "id": "vEW2ae7ygxzs",
        "outputId": "8c4ecde9-09e7-436b-90b0-4414fa7c5f1b"
      },
      "execution_count": 59,
      "outputs": [
        {
          "output_type": "execute_result",
          "data": {
            "text/plain": [
              "['hjjahf\\n', 'jhflhfafbh\\n', 'jfkanhjfh\\n']"
            ]
          },
          "metadata": {},
          "execution_count": 59
        }
      ]
    },
    {
      "cell_type": "code",
      "source": [
        "myfile = open('/content/myfile.txt')"
      ],
      "metadata": {
        "id": "_QnFbeWYg-tp"
      },
      "execution_count": 60,
      "outputs": []
    },
    {
      "cell_type": "code",
      "source": [
        "myfile.close()"
      ],
      "metadata": {
        "id": "yA_rYBFwhs6s"
      },
      "execution_count": 62,
      "outputs": []
    },
    {
      "cell_type": "code",
      "source": [
        "with open('myfile.txt') as my_new_file:\n",
        "    contents = my_new_file.read()"
      ],
      "metadata": {
        "id": "PSQzpGV7hvy7"
      },
      "execution_count": 63,
      "outputs": []
    },
    {
      "cell_type": "code",
      "source": [
        "contents"
      ],
      "metadata": {
        "colab": {
          "base_uri": "https://localhost:8080/",
          "height": 35
        },
        "id": "sjCFv4E-iDmg",
        "outputId": "4a9f8b1c-7d47-4967-d313-9bff6a02aabe"
      },
      "execution_count": 64,
      "outputs": [
        {
          "output_type": "execute_result",
          "data": {
            "text/plain": [
              "'hjjahf\\njhflhfafbh\\njfkanhjfh\\n'"
            ],
            "application/vnd.google.colaboratory.intrinsic+json": {
              "type": "string"
            }
          },
          "metadata": {},
          "execution_count": 64
        }
      ]
    },
    {
      "cell_type": "code",
      "source": [
        "with open('myfile.txt',mode = 'r') as myfile:\n",
        "# 'r' = read,'w' = write,'a' = append,'r+' = read & write,'w+' = write & read\n",
        "# shift + tab to see details in Jupyter Notebook\n",
        "    contents = myfile.read()\n",
        "contents"
      ],
      "metadata": {
        "colab": {
          "base_uri": "https://localhost:8080/",
          "height": 35
        },
        "id": "09I_GPtuiG2G",
        "outputId": "bf4f55bf-b29e-4757-c60c-6ef422a26cb5"
      },
      "execution_count": 66,
      "outputs": [
        {
          "output_type": "execute_result",
          "data": {
            "text/plain": [
              "'hjjahf\\njhflhfafbh\\njfkanhjfh\\n'"
            ],
            "application/vnd.google.colaboratory.intrinsic+json": {
              "type": "string"
            }
          },
          "metadata": {},
          "execution_count": 66
        }
      ]
    },
    {
      "cell_type": "code",
      "source": [
        "%%writefile newfile.txt\n",
        "First line\n",
        "Second line\n",
        "Third line"
      ],
      "metadata": {
        "colab": {
          "base_uri": "https://localhost:8080/"
        },
        "id": "5yi1WEh2lhaf",
        "outputId": "3e0ab785-ae62-4b73-aa9d-446ded4c5c33"
      },
      "execution_count": 71,
      "outputs": [
        {
          "output_type": "stream",
          "name": "stdout",
          "text": [
            "Overwriting newfile.txt\n"
          ]
        }
      ]
    },
    {
      "cell_type": "code",
      "source": [
        "with open('newfile.txt',mode = 'r') as f:\n",
        "    print(f.read())"
      ],
      "metadata": {
        "colab": {
          "base_uri": "https://localhost:8080/"
        },
        "id": "MuTFp1eGlwfS",
        "outputId": "b75ad437-a5a6-49cd-adf9-67ea9e9f07b9"
      },
      "execution_count": 72,
      "outputs": [
        {
          "output_type": "stream",
          "name": "stdout",
          "text": [
            "First line\n",
            "Second line\n",
            "Third line\n",
            "\n"
          ]
        }
      ]
    },
    {
      "cell_type": "code",
      "source": [
        "with open('newfile.txt',mode = 'a') as f:\n",
        "    f.write('Fourth line')"
      ],
      "metadata": {
        "id": "jMOY2rCXl_f-"
      },
      "execution_count": 73,
      "outputs": []
    },
    {
      "cell_type": "code",
      "source": [
        "with open('newfile.txt',mode = 'r') as f:\n",
        "    print(f.read())"
      ],
      "metadata": {
        "colab": {
          "base_uri": "https://localhost:8080/"
        },
        "id": "TWqGybFJmP07",
        "outputId": "16ca5ab9-dabc-40e6-ce61-7fed973be954"
      },
      "execution_count": 74,
      "outputs": [
        {
          "output_type": "stream",
          "name": "stdout",
          "text": [
            "First line\n",
            "Second line\n",
            "Third line\n",
            "Fourth line\n"
          ]
        }
      ]
    },
    {
      "cell_type": "code",
      "source": [
        "with open('newfile.txt',mode = 'a') as f:\n",
        "    f.write('\\nFifth line')\n",
        "# \\n is needed in Jupyter Notebook"
      ],
      "metadata": {
        "id": "9CljNxEBoHP3"
      },
      "execution_count": 75,
      "outputs": []
    },
    {
      "cell_type": "code",
      "source": [
        "with open('newfile.txt',mode = 'r') as f:\n",
        "    print(f.read())"
      ],
      "metadata": {
        "colab": {
          "base_uri": "https://localhost:8080/"
        },
        "id": "Z-HH9KSRoRSE",
        "outputId": "8cdcaa59-4b69-415b-a5d4-afad54e26453"
      },
      "execution_count": 76,
      "outputs": [
        {
          "output_type": "stream",
          "name": "stdout",
          "text": [
            "First line\n",
            "Second line\n",
            "Third line\n",
            "Fourth line\n",
            "Fifth line\n"
          ]
        }
      ]
    },
    {
      "cell_type": "code",
      "source": [
        "with open('shfgjkdjkh.txt',mode = 'w') as f: # 'w' overwrite or create new file\n",
        "    f.write('I created this new file!')"
      ],
      "metadata": {
        "id": "ZDhBKb8hogLs"
      },
      "execution_count": 77,
      "outputs": []
    },
    {
      "cell_type": "code",
      "source": [
        "with open('shfgjkdjkh.txt',mode = 'r') as f:\n",
        "    print(f.read())"
      ],
      "metadata": {
        "colab": {
          "base_uri": "https://localhost:8080/"
        },
        "id": "APrJ_-5ioye8",
        "outputId": "189894c2-878e-4ca7-ac65-2be53548742e"
      },
      "execution_count": 78,
      "outputs": [
        {
          "output_type": "stream",
          "name": "stdout",
          "text": [
            "I created this new file!\n"
          ]
        }
      ]
    },
    {
      "cell_type": "markdown",
      "source": [
        "Assessment Test"
      ],
      "metadata": {
        "id": "RvpADLN9iDR6"
      }
    },
    {
      "cell_type": "markdown",
      "source": [
        "Number"
      ],
      "metadata": {
        "id": "kei_0kRHwT49"
      }
    },
    {
      "cell_type": "code",
      "source": [
        "(6 - 2) * 125 / 5 + 0.25"
      ],
      "metadata": {
        "colab": {
          "base_uri": "https://localhost:8080/"
        },
        "id": "ufQkYdrxs1kF",
        "outputId": "dc83445c-b948-47f6-843f-fc0fc8b645f3"
      },
      "execution_count": 79,
      "outputs": [
        {
          "output_type": "execute_result",
          "data": {
            "text/plain": [
              "100.25"
            ]
          },
          "metadata": {},
          "execution_count": 79
        }
      ]
    },
    {
      "cell_type": "code",
      "source": [
        "4 * (6 +5)"
      ],
      "metadata": {
        "colab": {
          "base_uri": "https://localhost:8080/"
        },
        "id": "U4s4haYbtWy5",
        "outputId": "ed54d380-78d5-4843-b647-ebac0a2b2ee3"
      },
      "execution_count": 80,
      "outputs": [
        {
          "output_type": "execute_result",
          "data": {
            "text/plain": [
              "44"
            ]
          },
          "metadata": {},
          "execution_count": 80
        }
      ]
    },
    {
      "cell_type": "code",
      "source": [
        "4 * 6 + 5"
      ],
      "metadata": {
        "colab": {
          "base_uri": "https://localhost:8080/"
        },
        "id": "kvrxIGDCtdkr",
        "outputId": "ef2ea44b-d950-4e56-bccc-2616f0322c16"
      },
      "execution_count": 81,
      "outputs": [
        {
          "output_type": "execute_result",
          "data": {
            "text/plain": [
              "29"
            ]
          },
          "metadata": {},
          "execution_count": 81
        }
      ]
    },
    {
      "cell_type": "code",
      "source": [
        "4 + 6 * 5"
      ],
      "metadata": {
        "colab": {
          "base_uri": "https://localhost:8080/"
        },
        "id": "ebT1AGNRtgfg",
        "outputId": "a743c718-5d76-4221-ecb3-bcb54fdccb2b"
      },
      "execution_count": 82,
      "outputs": [
        {
          "output_type": "execute_result",
          "data": {
            "text/plain": [
              "34"
            ]
          },
          "metadata": {},
          "execution_count": 82
        }
      ]
    },
    {
      "cell_type": "code",
      "source": [
        "a = 3 + 1.5 + 4\n",
        "type(a)"
      ],
      "metadata": {
        "colab": {
          "base_uri": "https://localhost:8080/"
        },
        "id": "LYo2e3uZtmyv",
        "outputId": "8b09a7b5-b9b3-49d9-d29f-42957459c165"
      },
      "execution_count": 83,
      "outputs": [
        {
          "output_type": "execute_result",
          "data": {
            "text/plain": [
              "float"
            ]
          },
          "metadata": {},
          "execution_count": 83
        }
      ]
    },
    {
      "cell_type": "code",
      "source": [
        "a = 4"
      ],
      "metadata": {
        "id": "4LQ95WUkt73y"
      },
      "execution_count": 88,
      "outputs": []
    },
    {
      "cell_type": "code",
      "source": [
        "# Square root\n",
        "a ** 0.5"
      ],
      "metadata": {
        "colab": {
          "base_uri": "https://localhost:8080/"
        },
        "id": "fd1dVAGWtwBd",
        "outputId": "da199dd2-e41f-4415-d5a9-f60acd1ab96a"
      },
      "execution_count": 89,
      "outputs": [
        {
          "output_type": "execute_result",
          "data": {
            "text/plain": [
              "2.0"
            ]
          },
          "metadata": {},
          "execution_count": 89
        }
      ]
    },
    {
      "cell_type": "code",
      "source": [
        "# Square\n",
        "a ** 2"
      ],
      "metadata": {
        "colab": {
          "base_uri": "https://localhost:8080/"
        },
        "id": "jrPImMG8t0qT",
        "outputId": "38d3f328-0c7f-4a91-9832-83b4c78e5d29"
      },
      "execution_count": 90,
      "outputs": [
        {
          "output_type": "execute_result",
          "data": {
            "text/plain": [
              "16"
            ]
          },
          "metadata": {},
          "execution_count": 90
        }
      ]
    },
    {
      "cell_type": "markdown",
      "source": [
        "String"
      ],
      "metadata": {
        "id": "zaEcTu2MwW_6"
      }
    },
    {
      "cell_type": "code",
      "source": [
        "s = 'hello'\n",
        "s[1]"
      ],
      "metadata": {
        "colab": {
          "base_uri": "https://localhost:8080/",
          "height": 35
        },
        "id": "kCAv-I13uN24",
        "outputId": "c308ea01-d91f-42e3-f7ad-1fa77c39956d"
      },
      "execution_count": 91,
      "outputs": [
        {
          "output_type": "execute_result",
          "data": {
            "text/plain": [
              "'e'"
            ],
            "application/vnd.google.colaboratory.intrinsic+json": {
              "type": "string"
            }
          },
          "metadata": {},
          "execution_count": 91
        }
      ]
    },
    {
      "cell_type": "code",
      "source": [
        "s[::-1]"
      ],
      "metadata": {
        "colab": {
          "base_uri": "https://localhost:8080/",
          "height": 35
        },
        "id": "J9XXuvbbuZwS",
        "outputId": "67b083cd-6f98-4d34-e670-a32db2e07a40"
      },
      "execution_count": 92,
      "outputs": [
        {
          "output_type": "execute_result",
          "data": {
            "text/plain": [
              "'olleh'"
            ],
            "application/vnd.google.colaboratory.intrinsic+json": {
              "type": "string"
            }
          },
          "metadata": {},
          "execution_count": 92
        }
      ]
    },
    {
      "cell_type": "code",
      "source": [
        "s[-1]"
      ],
      "metadata": {
        "colab": {
          "base_uri": "https://localhost:8080/",
          "height": 35
        },
        "id": "JhUJmKoruhgV",
        "outputId": "37fe4a96-b1a4-4573-ce92-7a701f6dddd0"
      },
      "execution_count": 93,
      "outputs": [
        {
          "output_type": "execute_result",
          "data": {
            "text/plain": [
              "'o'"
            ],
            "application/vnd.google.colaboratory.intrinsic+json": {
              "type": "string"
            }
          },
          "metadata": {},
          "execution_count": 93
        }
      ]
    },
    {
      "cell_type": "code",
      "source": [
        "s[4]"
      ],
      "metadata": {
        "colab": {
          "base_uri": "https://localhost:8080/",
          "height": 35
        },
        "id": "i_x5eatyumUO",
        "outputId": "039e26f3-7449-48b6-9f12-bb53b641e7ef"
      },
      "execution_count": 94,
      "outputs": [
        {
          "output_type": "execute_result",
          "data": {
            "text/plain": [
              "'o'"
            ],
            "application/vnd.google.colaboratory.intrinsic+json": {
              "type": "string"
            }
          },
          "metadata": {},
          "execution_count": 94
        }
      ]
    },
    {
      "cell_type": "markdown",
      "source": [
        "List"
      ],
      "metadata": {
        "id": "5qMdGEWOwZaQ"
      }
    },
    {
      "cell_type": "code",
      "source": [
        "list1 = [0,0,0]\n",
        "list1"
      ],
      "metadata": {
        "colab": {
          "base_uri": "https://localhost:8080/"
        },
        "id": "n0dSDWxbuqXk",
        "outputId": "2b7e1d40-0d36-4eec-85af-e35a3fefb2ee"
      },
      "execution_count": 98,
      "outputs": [
        {
          "output_type": "execute_result",
          "data": {
            "text/plain": [
              "[0, 0, 0]"
            ]
          },
          "metadata": {},
          "execution_count": 98
        }
      ]
    },
    {
      "cell_type": "code",
      "source": [
        "l0 = [0]\n",
        "list2 = l0 + l0 + l0\n",
        "list2"
      ],
      "metadata": {
        "colab": {
          "base_uri": "https://localhost:8080/"
        },
        "id": "lfLcrt5IvJBq",
        "outputId": "07faf0d8-f71c-4559-d7fa-66974d34435c"
      },
      "execution_count": 99,
      "outputs": [
        {
          "output_type": "execute_result",
          "data": {
            "text/plain": [
              "[0, 0, 0]"
            ]
          },
          "metadata": {},
          "execution_count": 99
        }
      ]
    },
    {
      "cell_type": "code",
      "source": [
        "list3 = [1,2,[3,4,'hello']]\n",
        "list3[2][2] = 'goodbye'\n",
        "list3"
      ],
      "metadata": {
        "colab": {
          "base_uri": "https://localhost:8080/"
        },
        "id": "so5UUWHNvaGe",
        "outputId": "4fe03525-fe60-42ad-e33c-da8c1c7336dd"
      },
      "execution_count": 97,
      "outputs": [
        {
          "output_type": "execute_result",
          "data": {
            "text/plain": [
              "[1, 2, [3, 4, 'goodbye']]"
            ]
          },
          "metadata": {},
          "execution_count": 97
        }
      ]
    },
    {
      "cell_type": "code",
      "source": [
        "list4 = [5,3,4,6,1]\n",
        "# sorted(list4)\n",
        "list4.sort()\n",
        "list4"
      ],
      "metadata": {
        "colab": {
          "base_uri": "https://localhost:8080/"
        },
        "id": "Tg0OFibav-2-",
        "outputId": "cf1fe637-5705-4cf3-8c51-5a1501c3f7e2"
      },
      "execution_count": 101,
      "outputs": [
        {
          "output_type": "execute_result",
          "data": {
            "text/plain": [
              "[1, 3, 4, 5, 6]"
            ]
          },
          "metadata": {},
          "execution_count": 101
        }
      ]
    },
    {
      "cell_type": "markdown",
      "source": [
        "Dictionary"
      ],
      "metadata": {
        "id": "EPyQsb9RwbrZ"
      }
    },
    {
      "cell_type": "code",
      "source": [
        "d = {'key':'hello'}\n",
        "d['key']"
      ],
      "metadata": {
        "colab": {
          "base_uri": "https://localhost:8080/",
          "height": 35
        },
        "id": "-oY2iPoLwRJd",
        "outputId": "69489fc8-2670-4167-9790-f58d24a47b0f"
      },
      "execution_count": 102,
      "outputs": [
        {
          "output_type": "execute_result",
          "data": {
            "text/plain": [
              "'hello'"
            ],
            "application/vnd.google.colaboratory.intrinsic+json": {
              "type": "string"
            }
          },
          "metadata": {},
          "execution_count": 102
        }
      ]
    },
    {
      "cell_type": "code",
      "source": [
        "d = {'k1':{'k2':'hello'}}\n",
        "d['k1']['k2']"
      ],
      "metadata": {
        "colab": {
          "base_uri": "https://localhost:8080/",
          "height": 35
        },
        "id": "LrYzY2FXwshi",
        "outputId": "ea25d8c7-bc24-4519-9507-2d09474e7ec2"
      },
      "execution_count": 103,
      "outputs": [
        {
          "output_type": "execute_result",
          "data": {
            "text/plain": [
              "'hello'"
            ],
            "application/vnd.google.colaboratory.intrinsic+json": {
              "type": "string"
            }
          },
          "metadata": {},
          "execution_count": 103
        }
      ]
    },
    {
      "cell_type": "code",
      "source": [
        "d = {'k1':[{'nest_key':['this is deep',['hello']]}]}\n",
        "d['k1'][0]['nest_key'][1][0]"
      ],
      "metadata": {
        "colab": {
          "base_uri": "https://localhost:8080/",
          "height": 35
        },
        "id": "PdrIICW6w6t7",
        "outputId": "bc8892db-762c-4103-e5a6-8cbfeb183f87"
      },
      "execution_count": 105,
      "outputs": [
        {
          "output_type": "execute_result",
          "data": {
            "text/plain": [
              "'hello'"
            ],
            "application/vnd.google.colaboratory.intrinsic+json": {
              "type": "string"
            }
          },
          "metadata": {},
          "execution_count": 105
        }
      ]
    },
    {
      "cell_type": "code",
      "source": [
        "d = {'k1':[1,2,{'k2':['this is tricky',{'tough':[1,2,['hello']]}]}]}\n",
        "d['k1'][2]['k2'][1]['tough'][2][0]"
      ],
      "metadata": {
        "colab": {
          "base_uri": "https://localhost:8080/",
          "height": 35
        },
        "id": "5AeWTfJ60hrj",
        "outputId": "be1d05a2-62db-49c1-c37f-8d52ebb2bd10"
      },
      "execution_count": 106,
      "outputs": [
        {
          "output_type": "execute_result",
          "data": {
            "text/plain": [
              "'hello'"
            ],
            "application/vnd.google.colaboratory.intrinsic+json": {
              "type": "string"
            }
          },
          "metadata": {},
          "execution_count": 106
        }
      ]
    },
    {
      "cell_type": "markdown",
      "source": [
        "Set"
      ],
      "metadata": {
        "id": "difoG4Op4ojf"
      }
    },
    {
      "cell_type": "code",
      "source": [
        "list5 = [1,2,2,33,4,4,11,22,3,3,2]\n",
        "set(list5)"
      ],
      "metadata": {
        "colab": {
          "base_uri": "https://localhost:8080/"
        },
        "id": "VoaRoQ7q4oSZ",
        "outputId": "59587fee-13ec-4d0b-eef8-6fc3155115ec"
      },
      "execution_count": 107,
      "outputs": [
        {
          "output_type": "execute_result",
          "data": {
            "text/plain": [
              "{1, 2, 3, 4, 11, 22, 33}"
            ]
          },
          "metadata": {},
          "execution_count": 107
        }
      ]
    },
    {
      "cell_type": "markdown",
      "source": [
        "Booleans"
      ],
      "metadata": {
        "id": "UV1tIT6t43RF"
      }
    },
    {
      "cell_type": "code",
      "source": [
        "l_one = [1,2,[3,4]]\n",
        "l_two = [1,2,{'k1':4}]\n",
        "\n",
        "l_one[2][0] >= l_two[2]['k1'] # 3 >= 4 False"
      ],
      "metadata": {
        "colab": {
          "base_uri": "https://localhost:8080/"
        },
        "id": "Z44vqdmA5C10",
        "outputId": "84486d34-d069-497e-9707-41c3306d1292"
      },
      "execution_count": 108,
      "outputs": [
        {
          "output_type": "execute_result",
          "data": {
            "text/plain": [
              "False"
            ]
          },
          "metadata": {},
          "execution_count": 108
        }
      ]
    },
    {
      "cell_type": "markdown",
      "source": [
        "python comparison operator"
      ],
      "metadata": {
        "id": "Iflzf6xXqdYQ"
      }
    },
    {
      "cell_type": "code",
      "source": [
        "2 == 2"
      ],
      "metadata": {
        "colab": {
          "base_uri": "https://localhost:8080/"
        },
        "id": "Mvl16Xv_qn1h",
        "outputId": "fd51f589-41c4-4ff3-abfb-cc30f63ea78e"
      },
      "execution_count": 1,
      "outputs": [
        {
          "output_type": "execute_result",
          "data": {
            "text/plain": [
              "True"
            ]
          },
          "metadata": {},
          "execution_count": 1
        }
      ]
    },
    {
      "cell_type": "code",
      "source": [
        "'hello' == 'bye'"
      ],
      "metadata": {
        "colab": {
          "base_uri": "https://localhost:8080/"
        },
        "id": "847-5H_0qseI",
        "outputId": "8971776a-8863-4a76-adba-915eab7a108c"
      },
      "execution_count": 2,
      "outputs": [
        {
          "output_type": "execute_result",
          "data": {
            "text/plain": [
              "False"
            ]
          },
          "metadata": {},
          "execution_count": 2
        }
      ]
    },
    {
      "cell_type": "code",
      "source": [
        "'Bye' == 'bye'"
      ],
      "metadata": {
        "colab": {
          "base_uri": "https://localhost:8080/"
        },
        "id": "ABC_BRKCqxKW",
        "outputId": "dc9038b5-6619-435a-9781-e9543fd12fc2"
      },
      "execution_count": 3,
      "outputs": [
        {
          "output_type": "execute_result",
          "data": {
            "text/plain": [
              "False"
            ]
          },
          "metadata": {},
          "execution_count": 3
        }
      ]
    },
    {
      "cell_type": "code",
      "source": [
        "2.0 == 2"
      ],
      "metadata": {
        "colab": {
          "base_uri": "https://localhost:8080/"
        },
        "id": "SQ3vfW9Gq3Kg",
        "outputId": "7b2eeb93-605e-43ab-e52b-97641af5ac55"
      },
      "execution_count": 4,
      "outputs": [
        {
          "output_type": "execute_result",
          "data": {
            "text/plain": [
              "True"
            ]
          },
          "metadata": {},
          "execution_count": 4
        }
      ]
    },
    {
      "cell_type": "code",
      "source": [
        "3 != 3"
      ],
      "metadata": {
        "colab": {
          "base_uri": "https://localhost:8080/"
        },
        "id": "-6xuydmbq55e",
        "outputId": "8469bd6b-5d6b-4b36-8ab7-61656b2c9f3a"
      },
      "execution_count": 5,
      "outputs": [
        {
          "output_type": "execute_result",
          "data": {
            "text/plain": [
              "False"
            ]
          },
          "metadata": {},
          "execution_count": 5
        }
      ]
    },
    {
      "cell_type": "code",
      "source": [
        "1 <= 4"
      ],
      "metadata": {
        "colab": {
          "base_uri": "https://localhost:8080/"
        },
        "id": "y4_ZOr7Eq8mH",
        "outputId": "04a51b91-2123-44f4-d093-0daf0943a744"
      },
      "execution_count": 6,
      "outputs": [
        {
          "output_type": "execute_result",
          "data": {
            "text/plain": [
              "True"
            ]
          },
          "metadata": {},
          "execution_count": 6
        }
      ]
    },
    {
      "cell_type": "markdown",
      "source": [
        "chaining with logical opperators"
      ],
      "metadata": {
        "id": "uDfyhu6prRph"
      }
    },
    {
      "cell_type": "code",
      "source": [
        "1 < 2 < 3"
      ],
      "metadata": {
        "colab": {
          "base_uri": "https://localhost:8080/"
        },
        "id": "taXtL1W9rHiZ",
        "outputId": "97be5563-f9e9-4eb8-fa90-2e1fbdb8bce8"
      },
      "execution_count": 7,
      "outputs": [
        {
          "output_type": "execute_result",
          "data": {
            "text/plain": [
              "True"
            ]
          },
          "metadata": {},
          "execution_count": 7
        }
      ]
    },
    {
      "cell_type": "code",
      "source": [
        "1 < 2 > 3"
      ],
      "metadata": {
        "colab": {
          "base_uri": "https://localhost:8080/"
        },
        "id": "ZaN1WKPwre1g",
        "outputId": "ecea3128-77e5-4c72-de84-69c550e42d35"
      },
      "execution_count": 8,
      "outputs": [
        {
          "output_type": "execute_result",
          "data": {
            "text/plain": [
              "False"
            ]
          },
          "metadata": {},
          "execution_count": 8
        }
      ]
    },
    {
      "cell_type": "code",
      "source": [
        "1 < 2 and 2 > 3"
      ],
      "metadata": {
        "colab": {
          "base_uri": "https://localhost:8080/"
        },
        "id": "zwLONBgBrkzS",
        "outputId": "ce2342eb-b4c5-490a-9bf1-4d536cc3b896"
      },
      "execution_count": 9,
      "outputs": [
        {
          "output_type": "execute_result",
          "data": {
            "text/plain": [
              "False"
            ]
          },
          "metadata": {},
          "execution_count": 9
        }
      ]
    },
    {
      "cell_type": "code",
      "source": [
        "('h' == 'h') and 2 == 2"
      ],
      "metadata": {
        "colab": {
          "base_uri": "https://localhost:8080/"
        },
        "id": "KI-5-zKnrrZJ",
        "outputId": "4be64620-6f77-46cc-a656-924749b13386"
      },
      "execution_count": 11,
      "outputs": [
        {
          "output_type": "execute_result",
          "data": {
            "text/plain": [
              "True"
            ]
          },
          "metadata": {},
          "execution_count": 11
        }
      ]
    },
    {
      "cell_type": "code",
      "source": [
        "1 < 2 or 2 > 3"
      ],
      "metadata": {
        "colab": {
          "base_uri": "https://localhost:8080/"
        },
        "id": "8i1jasdYr07k",
        "outputId": "33d9cb42-dc3e-478f-debd-8cf3ab4fa1d2"
      },
      "execution_count": 12,
      "outputs": [
        {
          "output_type": "execute_result",
          "data": {
            "text/plain": [
              "True"
            ]
          },
          "metadata": {},
          "execution_count": 12
        }
      ]
    },
    {
      "cell_type": "code",
      "source": [
        "not(1 == 1) # not 1 == 1"
      ],
      "metadata": {
        "colab": {
          "base_uri": "https://localhost:8080/"
        },
        "id": "zVpmlFtcsCc7",
        "outputId": "d528bab7-fc51-40b4-93a6-53fe331951ca"
      },
      "execution_count": 13,
      "outputs": [
        {
          "output_type": "execute_result",
          "data": {
            "text/plain": [
              "False"
            ]
          },
          "metadata": {},
          "execution_count": 13
        }
      ]
    },
    {
      "cell_type": "code",
      "source": [
        "400 > 5000"
      ],
      "metadata": {
        "colab": {
          "base_uri": "https://localhost:8080/"
        },
        "id": "KRfYSefSsVui",
        "outputId": "1b8ae395-331f-4905-a156-69bafa33a286"
      },
      "execution_count": 14,
      "outputs": [
        {
          "output_type": "execute_result",
          "data": {
            "text/plain": [
              "False"
            ]
          },
          "metadata": {},
          "execution_count": 14
        }
      ]
    },
    {
      "cell_type": "code",
      "source": [
        "not 400 > 5000"
      ],
      "metadata": {
        "colab": {
          "base_uri": "https://localhost:8080/"
        },
        "id": "iKZoP-c6sYxU",
        "outputId": "16d9f151-4156-49cc-de3a-16a2d9050a32"
      },
      "execution_count": 15,
      "outputs": [
        {
          "output_type": "execute_result",
          "data": {
            "text/plain": [
              "True"
            ]
          },
          "metadata": {},
          "execution_count": 15
        }
      ]
    },
    {
      "cell_type": "markdown",
      "source": [
        "**Statements**"
      ],
      "metadata": {
        "id": "PxkmBlJktM2H"
      }
    },
    {
      "cell_type": "markdown",
      "source": [
        "If, elif, else Statement"
      ],
      "metadata": {
        "id": "Yg4SeBiCtDHM"
      }
    },
    {
      "cell_type": "code",
      "source": [
        "if True:\n",
        "    print('It is true.')"
      ],
      "metadata": {
        "colab": {
          "base_uri": "https://localhost:8080/"
        },
        "id": "uyK7cAKAtCgY",
        "outputId": "d7fd9ba0-93c7-4c5d-d26d-c36832060596"
      },
      "execution_count": 17,
      "outputs": [
        {
          "output_type": "stream",
          "name": "stdout",
          "text": [
            "It is true.\n"
          ]
        }
      ]
    },
    {
      "cell_type": "code",
      "source": [
        "name = 'Lily'\n",
        "\n",
        "if name == 'Frankie':\n",
        "  print('Hello Frankie')\n",
        "elif name == 'Sammy':\n",
        "  print('Hello Sammy')\n",
        "else:\n",
        "  print('What is your name?')"
      ],
      "metadata": {
        "colab": {
          "base_uri": "https://localhost:8080/"
        },
        "id": "A9S00lVVwtcU",
        "outputId": "f316b33b-99ca-4ea5-de00-8eb5c358e935"
      },
      "execution_count": 18,
      "outputs": [
        {
          "output_type": "stream",
          "name": "stdout",
          "text": [
            "What is your name?\n"
          ]
        }
      ]
    },
    {
      "cell_type": "markdown",
      "source": [
        "For Loops"
      ],
      "metadata": {
        "id": "4ClpN8Eex7Hu"
      }
    },
    {
      "cell_type": "code",
      "source": [
        "l = [1,2,3,4,5,6,7,8,9,10]\n",
        "\n",
        "for x in l:\n",
        "  print(x, 'hello')"
      ],
      "metadata": {
        "colab": {
          "base_uri": "https://localhost:8080/"
        },
        "id": "oVJCsYWJxzKE",
        "outputId": "06235b21-bb35-4733-b39c-7214dc95a536"
      },
      "execution_count": 21,
      "outputs": [
        {
          "output_type": "stream",
          "name": "stdout",
          "text": [
            "1 hello\n",
            "2 hello\n",
            "3 hello\n",
            "4 hello\n",
            "5 hello\n",
            "6 hello\n",
            "7 hello\n",
            "8 hello\n",
            "9 hello\n",
            "10 hello\n"
          ]
        }
      ]
    },
    {
      "cell_type": "code",
      "source": [
        "for num in l:\n",
        "  if num % 2 == 0:\n",
        "    print(num, 'is even')\n",
        "  else:\n",
        "    print(num, 'is odd')"
      ],
      "metadata": {
        "colab": {
          "base_uri": "https://localhost:8080/"
        },
        "id": "DUjpjB7DzSVu",
        "outputId": "312014e7-45de-4888-d22b-80a3d9e8dcc8"
      },
      "execution_count": 22,
      "outputs": [
        {
          "output_type": "stream",
          "name": "stdout",
          "text": [
            "1 is odd\n",
            "2 is even\n",
            "3 is odd\n",
            "4 is even\n",
            "5 is odd\n",
            "6 is even\n",
            "7 is odd\n",
            "8 is even\n",
            "9 is odd\n",
            "10 is even\n"
          ]
        }
      ]
    },
    {
      "cell_type": "code",
      "source": [
        "l_sum = 0\n",
        "\n",
        "for num in l:\n",
        "  l_sum = l_sum + num\n",
        "\n",
        "print(f'The sum is {l_sum}')"
      ],
      "metadata": {
        "colab": {
          "base_uri": "https://localhost:8080/"
        },
        "id": "s3h92iv4zuGl",
        "outputId": "61580c94-e378-43f7-ff54-0cfe68eeedff"
      },
      "execution_count": 25,
      "outputs": [
        {
          "output_type": "stream",
          "name": "stdout",
          "text": [
            "The sum is 55\n"
          ]
        }
      ]
    },
    {
      "cell_type": "code",
      "source": [
        "for _ in 'Hello World':\n",
        "  print('cool')"
      ],
      "metadata": {
        "colab": {
          "base_uri": "https://localhost:8080/"
        },
        "id": "ny5mG995z0QD",
        "outputId": "46831142-05fb-4e71-f7af-e80bcd678115"
      },
      "execution_count": 27,
      "outputs": [
        {
          "output_type": "stream",
          "name": "stdout",
          "text": [
            "cool\n",
            "cool\n",
            "cool\n",
            "cool\n",
            "cool\n",
            "cool\n",
            "cool\n",
            "cool\n",
            "cool\n",
            "cool\n",
            "cool\n"
          ]
        }
      ]
    },
    {
      "cell_type": "code",
      "source": [
        "tup = (1,2,3)\n",
        "\n",
        "for item in tup:\n",
        "  print(item)"
      ],
      "metadata": {
        "colab": {
          "base_uri": "https://localhost:8080/"
        },
        "id": "7Onuf1nc0kGm",
        "outputId": "9f1d065d-cd85-45c4-a865-e273791db460"
      },
      "execution_count": 28,
      "outputs": [
        {
          "output_type": "stream",
          "name": "stdout",
          "text": [
            "1\n",
            "2\n",
            "3\n"
          ]
        }
      ]
    },
    {
      "cell_type": "code",
      "source": [
        "mylist = [(1,2),(3,4),(5,6),(7,8)]\n",
        "len(mylist)"
      ],
      "metadata": {
        "colab": {
          "base_uri": "https://localhost:8080/"
        },
        "id": "2-ajO_Cn0s8X",
        "outputId": "ab116e48-dbbf-49b3-bf53-4afd676dcdba"
      },
      "execution_count": 29,
      "outputs": [
        {
          "output_type": "execute_result",
          "data": {
            "text/plain": [
              "4"
            ]
          },
          "metadata": {},
          "execution_count": 29
        }
      ]
    },
    {
      "cell_type": "code",
      "source": [
        "for item in mylist:\n",
        "  print(item)"
      ],
      "metadata": {
        "colab": {
          "base_uri": "https://localhost:8080/"
        },
        "id": "ClUY-QNw042K",
        "outputId": "6a01095d-c0eb-4c15-92ef-b646dd770087"
      },
      "execution_count": 31,
      "outputs": [
        {
          "output_type": "stream",
          "name": "stdout",
          "text": [
            "(1, 2)\n",
            "(3, 4)\n",
            "(5, 6)\n",
            "(7, 8)\n"
          ]
        }
      ]
    },
    {
      "cell_type": "code",
      "source": [
        "for (a,b) in mylist:\n",
        "  print(a)\n",
        "  print(b)"
      ],
      "metadata": {
        "colab": {
          "base_uri": "https://localhost:8080/"
        },
        "id": "SF5QNnOJ07lx",
        "outputId": "5d9586f7-2e9e-4cfd-dd8d-4fdd29a3f6ed"
      },
      "execution_count": 32,
      "outputs": [
        {
          "output_type": "stream",
          "name": "stdout",
          "text": [
            "1\n",
            "2\n",
            "3\n",
            "4\n",
            "5\n",
            "6\n",
            "7\n",
            "8\n"
          ]
        }
      ]
    },
    {
      "cell_type": "code",
      "source": [
        "mylist = [(1,2,3),(4,5,6),(7,8,9)]\n",
        "\n",
        "for a,b,c in mylist:\n",
        "  print(b)"
      ],
      "metadata": {
        "colab": {
          "base_uri": "https://localhost:8080/"
        },
        "id": "Oq-ZZJro1PBL",
        "outputId": "752027e2-6eea-4d6f-e429-a8b33c4d2945"
      },
      "execution_count": 33,
      "outputs": [
        {
          "output_type": "stream",
          "name": "stdout",
          "text": [
            "2\n",
            "5\n",
            "8\n"
          ]
        }
      ]
    },
    {
      "cell_type": "code",
      "source": [
        "d = {'k1':1,'k2':2,'k3':3}\n",
        "\n",
        "for item in d.items():\n",
        "  print(item)"
      ],
      "metadata": {
        "colab": {
          "base_uri": "https://localhost:8080/"
        },
        "id": "7rUFKMkn1fvA",
        "outputId": "ec66538d-5d2e-4ed2-9056-427ed52a3a15"
      },
      "execution_count": 34,
      "outputs": [
        {
          "output_type": "stream",
          "name": "stdout",
          "text": [
            "('k1', 1)\n",
            "('k2', 2)\n",
            "('k3', 3)\n"
          ]
        }
      ]
    },
    {
      "cell_type": "code",
      "source": [
        "for key,value in d.items():\n",
        "  print(value)"
      ],
      "metadata": {
        "colab": {
          "base_uri": "https://localhost:8080/"
        },
        "id": "RNXUPXtR1vaC",
        "outputId": "ea4a744c-af11-4197-a409-6ee0c4333151"
      },
      "execution_count": 35,
      "outputs": [
        {
          "output_type": "stream",
          "name": "stdout",
          "text": [
            "1\n",
            "2\n",
            "3\n"
          ]
        }
      ]
    },
    {
      "cell_type": "code",
      "source": [
        "for value in d.values():\n",
        "  print(value)"
      ],
      "metadata": {
        "colab": {
          "base_uri": "https://localhost:8080/"
        },
        "id": "9a1DcrEU1zYx",
        "outputId": "d7c182e1-1a8c-4322-c112-2404c255ed36"
      },
      "execution_count": 36,
      "outputs": [
        {
          "output_type": "stream",
          "name": "stdout",
          "text": [
            "1\n",
            "2\n",
            "3\n"
          ]
        }
      ]
    },
    {
      "cell_type": "markdown",
      "source": [
        "While Loops"
      ],
      "metadata": {
        "id": "xXdhn-bM4Ayc"
      }
    },
    {
      "cell_type": "code",
      "source": [
        "x = 0\n",
        "\n",
        "while x < 5:\n",
        "  print(f'The current value of x is {x}')\n",
        "  x = x + 1 # x += 1\n",
        "else:\n",
        "  print('x is not less than 5')"
      ],
      "metadata": {
        "colab": {
          "base_uri": "https://localhost:8080/"
        },
        "id": "Wrjz9GeL4CrS",
        "outputId": "13d09463-b92e-4495-b090-93d915e9aa1c"
      },
      "execution_count": 38,
      "outputs": [
        {
          "output_type": "stream",
          "name": "stdout",
          "text": [
            "The current value of x is 0\n",
            "The current value of x is 1\n",
            "The current value of x is 2\n",
            "The current value of x is 3\n",
            "The current value of x is 4\n",
            "x is not less than 5\n"
          ]
        }
      ]
    },
    {
      "cell_type": "code",
      "source": [
        "x = [1,2,3]\n",
        "\n",
        "for item in x:\n",
        "  pass\n",
        "\n",
        "print('end')"
      ],
      "metadata": {
        "colab": {
          "base_uri": "https://localhost:8080/"
        },
        "id": "56tQqwTL4fQ6",
        "outputId": "752661da-8e89-4e45-e690-c053dd861445"
      },
      "execution_count": 39,
      "outputs": [
        {
          "output_type": "stream",
          "name": "stdout",
          "text": [
            "end\n"
          ]
        }
      ]
    },
    {
      "cell_type": "code",
      "source": [
        "mystring = 'Lily'\n",
        "\n",
        "for letter in mystring:\n",
        "  if letter == 'i':\n",
        "    continue\n",
        "  print(letter)"
      ],
      "metadata": {
        "colab": {
          "base_uri": "https://localhost:8080/"
        },
        "id": "Gyd7-Du65beP",
        "outputId": "3a454c9c-b7bf-4d76-9146-c2e8f22bb887"
      },
      "execution_count": 40,
      "outputs": [
        {
          "output_type": "stream",
          "name": "stdout",
          "text": [
            "L\n",
            "l\n",
            "y\n"
          ]
        }
      ]
    },
    {
      "cell_type": "code",
      "source": [
        "mystring = 'Lily'\n",
        "\n",
        "for letter in mystring:\n",
        "  if letter == 'i':\n",
        "    break\n",
        "  print(letter)"
      ],
      "metadata": {
        "colab": {
          "base_uri": "https://localhost:8080/"
        },
        "id": "bxcUgsuQ56BF",
        "outputId": "c586e664-7e05-4f5a-e4da-d466223f26c9"
      },
      "execution_count": 41,
      "outputs": [
        {
          "output_type": "stream",
          "name": "stdout",
          "text": [
            "L\n"
          ]
        }
      ]
    },
    {
      "cell_type": "code",
      "source": [
        "x = 0\n",
        "\n",
        "while x < 5:\n",
        "\n",
        "  if x ==3:\n",
        "    break\n",
        "  print(x)\n",
        "  x += 1"
      ],
      "metadata": {
        "colab": {
          "base_uri": "https://localhost:8080/"
        },
        "id": "FtHBDW246ATX",
        "outputId": "5563e5c8-3cb1-4812-fb82-8e4e32437070"
      },
      "execution_count": 45,
      "outputs": [
        {
          "output_type": "stream",
          "name": "stdout",
          "text": [
            "0\n",
            "1\n",
            "2\n"
          ]
        }
      ]
    },
    {
      "cell_type": "markdown",
      "source": [
        "Useful Operators"
      ],
      "metadata": {
        "id": "QXbdCaos6mbr"
      }
    },
    {
      "cell_type": "code",
      "source": [
        "for num in range(0,10,2):\n",
        "  print(num)"
      ],
      "metadata": {
        "colab": {
          "base_uri": "https://localhost:8080/"
        },
        "id": "1Kv28ZDg6JDz",
        "outputId": "03856534-95bf-4d51-f0f9-192d62f0b9c7"
      },
      "execution_count": 49,
      "outputs": [
        {
          "output_type": "stream",
          "name": "stdout",
          "text": [
            "0\n",
            "2\n",
            "4\n",
            "6\n",
            "8\n"
          ]
        }
      ]
    },
    {
      "cell_type": "code",
      "source": [
        "range(0,11,2) # generator"
      ],
      "metadata": {
        "colab": {
          "base_uri": "https://localhost:8080/"
        },
        "id": "IqV8GH6Z64I1",
        "outputId": "32d08f4b-2af3-4771-b174-d0767bc0e972"
      },
      "execution_count": 50,
      "outputs": [
        {
          "output_type": "execute_result",
          "data": {
            "text/plain": [
              "range(0, 11, 2)"
            ]
          },
          "metadata": {},
          "execution_count": 50
        }
      ]
    },
    {
      "cell_type": "code",
      "source": [
        "list(range(0,11,2))"
      ],
      "metadata": {
        "colab": {
          "base_uri": "https://localhost:8080/"
        },
        "id": "_tqX3YK27QWB",
        "outputId": "30f8bf28-19fa-4175-96bd-7816158ff170"
      },
      "execution_count": 51,
      "outputs": [
        {
          "output_type": "execute_result",
          "data": {
            "text/plain": [
              "[0, 2, 4, 6, 8, 10]"
            ]
          },
          "metadata": {},
          "execution_count": 51
        }
      ]
    },
    {
      "cell_type": "code",
      "source": [
        "index_count = 0\n",
        "\n",
        "for letter in 'abcde':\n",
        "  print('At index {} the letter is {}'.format(index_count,letter))\n",
        "  index_count += 1"
      ],
      "metadata": {
        "colab": {
          "base_uri": "https://localhost:8080/"
        },
        "id": "TAgOvQkF7rHt",
        "outputId": "ce5d2ff8-e8aa-48a0-d3d3-3a5e35dc10c6"
      },
      "execution_count": 52,
      "outputs": [
        {
          "output_type": "stream",
          "name": "stdout",
          "text": [
            "At index 0 the letter is a\n",
            "At index 1 the letter is b\n",
            "At index 2 the letter is c\n",
            "At index 3 the letter is d\n",
            "At index 4 the letter is e\n"
          ]
        }
      ]
    },
    {
      "cell_type": "code",
      "source": [
        "index_count = 0\n",
        "word = 'abcde'\n",
        "\n",
        "for letter in word:\n",
        "\n",
        "  print(word[index_count])\n",
        "  index_count += 1"
      ],
      "metadata": {
        "colab": {
          "base_uri": "https://localhost:8080/"
        },
        "id": "Y8ggcdZo7tWe",
        "outputId": "8f8d72e3-7278-4419-b8bf-77b7a9deeec5"
      },
      "execution_count": 53,
      "outputs": [
        {
          "output_type": "stream",
          "name": "stdout",
          "text": [
            "a\n",
            "b\n",
            "c\n",
            "d\n",
            "e\n"
          ]
        }
      ]
    },
    {
      "cell_type": "code",
      "source": [
        "word = 'abcde'\n",
        "# Simultaneously iterate over the \"index\" and \"value\" of the element\n",
        "for item in enumerate(word):\n",
        "  print(item)"
      ],
      "metadata": {
        "colab": {
          "base_uri": "https://localhost:8080/"
        },
        "id": "UYfqHVPn79Be",
        "outputId": "b4d76520-49fd-44ac-e09f-25d067016a6e"
      },
      "execution_count": 54,
      "outputs": [
        {
          "output_type": "stream",
          "name": "stdout",
          "text": [
            "(0, 'a')\n",
            "(1, 'b')\n",
            "(2, 'c')\n",
            "(3, 'd')\n",
            "(4, 'e')\n"
          ]
        }
      ]
    },
    {
      "cell_type": "code",
      "source": [
        "for index,letter in enumerate(word):\n",
        "  print(index)\n",
        "  print(letter)\n",
        "  print('\\n')"
      ],
      "metadata": {
        "colab": {
          "base_uri": "https://localhost:8080/"
        },
        "id": "Lb43Zuay8Ig6",
        "outputId": "a743d646-2f44-4b60-8ba4-859d0aa0eb1f"
      },
      "execution_count": 55,
      "outputs": [
        {
          "output_type": "stream",
          "name": "stdout",
          "text": [
            "0\n",
            "a\n",
            "\n",
            "\n",
            "1\n",
            "b\n",
            "\n",
            "\n",
            "2\n",
            "c\n",
            "\n",
            "\n",
            "3\n",
            "d\n",
            "\n",
            "\n",
            "4\n",
            "e\n",
            "\n",
            "\n"
          ]
        }
      ]
    },
    {
      "cell_type": "code",
      "source": [
        "mylist1 = [1,2,3,4,5]\n",
        "mylist2 = ['a','b','c']\n",
        "\n",
        "zip(mylist1,mylist2)"
      ],
      "metadata": {
        "colab": {
          "base_uri": "https://localhost:8080/"
        },
        "id": "ZpRVr5keJfPD",
        "outputId": "5a0fc81e-6b8e-4a3b-cacb-8ad540fb70f1"
      },
      "execution_count": 56,
      "outputs": [
        {
          "output_type": "execute_result",
          "data": {
            "text/plain": [
              "<zip at 0x7b79c25c8680>"
            ]
          },
          "metadata": {},
          "execution_count": 56
        }
      ]
    },
    {
      "cell_type": "code",
      "source": [
        "for item in zip(mylist1,mylist2):\n",
        "  print(item)"
      ],
      "metadata": {
        "colab": {
          "base_uri": "https://localhost:8080/"
        },
        "id": "RDX4j7zYJp6A",
        "outputId": "000abd84-5529-4456-98f1-5c87b42872b1"
      },
      "execution_count": 57,
      "outputs": [
        {
          "output_type": "stream",
          "name": "stdout",
          "text": [
            "(1, 'a')\n",
            "(2, 'b')\n",
            "(3, 'c')\n"
          ]
        }
      ]
    },
    {
      "cell_type": "code",
      "source": [
        "mylist3 = [100,200,300]\n",
        "for a,b,c in zip(mylist1,mylist2,mylist3):\n",
        "  print(c)"
      ],
      "metadata": {
        "colab": {
          "base_uri": "https://localhost:8080/"
        },
        "id": "6Vy0QgD2Jx5v",
        "outputId": "e68b1145-e569-4b80-9e5c-459aee62c608"
      },
      "execution_count": 60,
      "outputs": [
        {
          "output_type": "stream",
          "name": "stdout",
          "text": [
            "100\n",
            "200\n",
            "300\n"
          ]
        }
      ]
    },
    {
      "cell_type": "code",
      "source": [
        "list(zip(mylist1,mylist2,mylist3))"
      ],
      "metadata": {
        "colab": {
          "base_uri": "https://localhost:8080/"
        },
        "id": "5Y5obtsVJ9FU",
        "outputId": "af47d395-acaf-4a01-c525-b5d165a23bbf"
      },
      "execution_count": 59,
      "outputs": [
        {
          "output_type": "execute_result",
          "data": {
            "text/plain": [
              "[(1, 'a', 100), (2, 'b', 200), (3, 'c', 300)]"
            ]
          },
          "metadata": {},
          "execution_count": 59
        }
      ]
    },
    {
      "cell_type": "code",
      "source": [
        "'x' in [1,2,3]"
      ],
      "metadata": {
        "colab": {
          "base_uri": "https://localhost:8080/"
        },
        "id": "-DfFhgihKBiG",
        "outputId": "19c406bf-36ad-4c8a-f6ed-574d71fdd292"
      },
      "execution_count": 61,
      "outputs": [
        {
          "output_type": "execute_result",
          "data": {
            "text/plain": [
              "False"
            ]
          },
          "metadata": {},
          "execution_count": 61
        }
      ]
    },
    {
      "cell_type": "code",
      "source": [
        "'x' in ['x','y','z']"
      ],
      "metadata": {
        "colab": {
          "base_uri": "https://localhost:8080/"
        },
        "id": "GG7L_E-WKOvN",
        "outputId": "9949e01c-8b61-490c-a341-f82310198b69"
      },
      "execution_count": 62,
      "outputs": [
        {
          "output_type": "execute_result",
          "data": {
            "text/plain": [
              "True"
            ]
          },
          "metadata": {},
          "execution_count": 62
        }
      ]
    },
    {
      "cell_type": "code",
      "source": [
        "'a' in 'a world'"
      ],
      "metadata": {
        "colab": {
          "base_uri": "https://localhost:8080/"
        },
        "id": "mv_X812fKSgN",
        "outputId": "24f9a86c-ee4a-4d1f-9a0a-13e794776f45"
      },
      "execution_count": 63,
      "outputs": [
        {
          "output_type": "execute_result",
          "data": {
            "text/plain": [
              "True"
            ]
          },
          "metadata": {},
          "execution_count": 63
        }
      ]
    },
    {
      "cell_type": "code",
      "source": [
        "'mykey' in {'mykey':345}"
      ],
      "metadata": {
        "colab": {
          "base_uri": "https://localhost:8080/"
        },
        "id": "USxlIGf8KYFK",
        "outputId": "4cdb9ecd-1fc0-4f70-b906-5bb301db8a54"
      },
      "execution_count": 64,
      "outputs": [
        {
          "output_type": "execute_result",
          "data": {
            "text/plain": [
              "True"
            ]
          },
          "metadata": {},
          "execution_count": 64
        }
      ]
    },
    {
      "cell_type": "code",
      "source": [
        "d = {'mykey':345}\n",
        "\n",
        "345 in d.values()"
      ],
      "metadata": {
        "colab": {
          "base_uri": "https://localhost:8080/"
        },
        "id": "W8f02YIcKanL",
        "outputId": "a03c3eec-5036-4152-df05-cb3bcc986ed9"
      },
      "execution_count": 65,
      "outputs": [
        {
          "output_type": "execute_result",
          "data": {
            "text/plain": [
              "True"
            ]
          },
          "metadata": {},
          "execution_count": 65
        }
      ]
    },
    {
      "cell_type": "code",
      "source": [
        "345 in d.keys()"
      ],
      "metadata": {
        "colab": {
          "base_uri": "https://localhost:8080/"
        },
        "id": "pYVi2YerKe_a",
        "outputId": "dbb9e44c-25ab-43c2-c91c-75267ebde460"
      },
      "execution_count": 66,
      "outputs": [
        {
          "output_type": "execute_result",
          "data": {
            "text/plain": [
              "False"
            ]
          },
          "metadata": {},
          "execution_count": 66
        }
      ]
    },
    {
      "cell_type": "code",
      "source": [
        "mylist = [10,20,30,40,100]\n",
        "min(mylist)"
      ],
      "metadata": {
        "colab": {
          "base_uri": "https://localhost:8080/"
        },
        "id": "IdDmGRXsKjLl",
        "outputId": "4e82909d-9927-478e-d75c-f512e1565af6"
      },
      "execution_count": 67,
      "outputs": [
        {
          "output_type": "execute_result",
          "data": {
            "text/plain": [
              "10"
            ]
          },
          "metadata": {},
          "execution_count": 67
        }
      ]
    },
    {
      "cell_type": "code",
      "source": [
        "max(mylist)"
      ],
      "metadata": {
        "colab": {
          "base_uri": "https://localhost:8080/"
        },
        "id": "VCBdAqTXKplw",
        "outputId": "32db245e-797e-4bfb-d0ec-35198aa4ab6f"
      },
      "execution_count": 68,
      "outputs": [
        {
          "output_type": "execute_result",
          "data": {
            "text/plain": [
              "100"
            ]
          },
          "metadata": {},
          "execution_count": 68
        }
      ]
    },
    {
      "cell_type": "code",
      "source": [
        "from random import shuffle\n",
        "\n",
        "mylist = [1,2,3,4,5,6,7,8,9,10]\n",
        "shuffle(mylist)\n",
        "mylist"
      ],
      "metadata": {
        "colab": {
          "base_uri": "https://localhost:8080/"
        },
        "id": "bXnNJvP2Kq4P",
        "outputId": "e94505d0-e9d8-4515-ef59-f682284a6a2d"
      },
      "execution_count": 1,
      "outputs": [
        {
          "output_type": "execute_result",
          "data": {
            "text/plain": [
              "[4, 7, 2, 1, 9, 8, 3, 6, 5, 10]"
            ]
          },
          "metadata": {},
          "execution_count": 1
        }
      ]
    },
    {
      "cell_type": "code",
      "source": [
        "type(shuffle(mylist))"
      ],
      "metadata": {
        "colab": {
          "base_uri": "https://localhost:8080/"
        },
        "id": "V1BRSDwYO9hM",
        "outputId": "77c268da-2765-4e64-b0bb-60a60d974b91"
      },
      "execution_count": 2,
      "outputs": [
        {
          "output_type": "execute_result",
          "data": {
            "text/plain": [
              "NoneType"
            ]
          },
          "metadata": {},
          "execution_count": 2
        }
      ]
    },
    {
      "cell_type": "code",
      "source": [
        "from random import randint\n",
        "\n",
        "randint(0,100)"
      ],
      "metadata": {
        "colab": {
          "base_uri": "https://localhost:8080/"
        },
        "id": "w29hotQFPI9D",
        "outputId": "b5203f6a-7a95-4b46-c99a-0273b0eda7a2"
      },
      "execution_count": 3,
      "outputs": [
        {
          "output_type": "execute_result",
          "data": {
            "text/plain": [
              "47"
            ]
          },
          "metadata": {},
          "execution_count": 3
        }
      ]
    },
    {
      "cell_type": "code",
      "source": [
        "randint(0,100)"
      ],
      "metadata": {
        "colab": {
          "base_uri": "https://localhost:8080/"
        },
        "id": "bL9HXyNdPc8K",
        "outputId": "686f1173-a155-4d71-edd0-433c5921080c"
      },
      "execution_count": 4,
      "outputs": [
        {
          "output_type": "execute_result",
          "data": {
            "text/plain": [
              "62"
            ]
          },
          "metadata": {},
          "execution_count": 4
        }
      ]
    },
    {
      "cell_type": "code",
      "source": [
        "result = input('Enter a number here:')"
      ],
      "metadata": {
        "colab": {
          "base_uri": "https://localhost:8080/"
        },
        "id": "la0A_CC0Pfoz",
        "outputId": "c7866773-74f2-469f-a7bc-de5c1472398f"
      },
      "execution_count": 6,
      "outputs": [
        {
          "name": "stdout",
          "output_type": "stream",
          "text": [
            "Enter a number here:50\n"
          ]
        }
      ]
    },
    {
      "cell_type": "code",
      "source": [
        "result"
      ],
      "metadata": {
        "colab": {
          "base_uri": "https://localhost:8080/",
          "height": 35
        },
        "id": "SgX70TMgPth_",
        "outputId": "8921ffda-1f5c-42aa-e291-4e0958637d76"
      },
      "execution_count": 7,
      "outputs": [
        {
          "output_type": "execute_result",
          "data": {
            "text/plain": [
              "'50'"
            ],
            "application/vnd.google.colaboratory.intrinsic+json": {
              "type": "string"
            }
          },
          "metadata": {},
          "execution_count": 7
        }
      ]
    },
    {
      "cell_type": "code",
      "source": [
        "type(result)"
      ],
      "metadata": {
        "colab": {
          "base_uri": "https://localhost:8080/"
        },
        "id": "YBFNvcQWPvGH",
        "outputId": "063323dd-2e76-43f9-9011-6c3a980ff4b9"
      },
      "execution_count": 8,
      "outputs": [
        {
          "output_type": "execute_result",
          "data": {
            "text/plain": [
              "str"
            ]
          },
          "metadata": {},
          "execution_count": 8
        }
      ]
    },
    {
      "cell_type": "code",
      "source": [
        "result = int(input('Enter a number here:'))"
      ],
      "metadata": {
        "colab": {
          "base_uri": "https://localhost:8080/"
        },
        "id": "hwzQ7XmLP1_5",
        "outputId": "a7da5706-4ede-4d49-e044-61113f73e1bf"
      },
      "execution_count": 9,
      "outputs": [
        {
          "name": "stdout",
          "output_type": "stream",
          "text": [
            "Enter a number here:50\n"
          ]
        }
      ]
    },
    {
      "cell_type": "code",
      "source": [
        "type(result)"
      ],
      "metadata": {
        "colab": {
          "base_uri": "https://localhost:8080/"
        },
        "id": "ZZt3MKaOQGfR",
        "outputId": "91424e25-306a-4a2c-da12-7b825fe513f5"
      },
      "execution_count": 10,
      "outputs": [
        {
          "output_type": "execute_result",
          "data": {
            "text/plain": [
              "int"
            ]
          },
          "metadata": {},
          "execution_count": 10
        }
      ]
    },
    {
      "cell_type": "code",
      "source": [
        "result"
      ],
      "metadata": {
        "colab": {
          "base_uri": "https://localhost:8080/"
        },
        "id": "UuykpVrmQKPi",
        "outputId": "10a18871-610a-48b1-9835-860796cca93d"
      },
      "execution_count": 11,
      "outputs": [
        {
          "output_type": "execute_result",
          "data": {
            "text/plain": [
              "50"
            ]
          },
          "metadata": {},
          "execution_count": 11
        }
      ]
    },
    {
      "cell_type": "markdown",
      "source": [
        "List Comprehensions"
      ],
      "metadata": {
        "id": "McoGh7jQQRKq"
      }
    },
    {
      "cell_type": "code",
      "source": [
        "mystring = 'Hello'"
      ],
      "metadata": {
        "id": "jBwtIYlUQLT3"
      },
      "execution_count": 12,
      "outputs": []
    },
    {
      "cell_type": "code",
      "source": [
        "mylist =[]\n",
        "\n",
        "for letter in mystring:\n",
        "  mylist.append(letter)\n",
        "\n",
        "mylist"
      ],
      "metadata": {
        "colab": {
          "base_uri": "https://localhost:8080/"
        },
        "id": "FcASBnvFQqIz",
        "outputId": "c74c8e3b-5e8c-4543-dc3f-5a48869cf7b4"
      },
      "execution_count": 13,
      "outputs": [
        {
          "output_type": "execute_result",
          "data": {
            "text/plain": [
              "['H', 'e', 'l', 'l', 'o']"
            ]
          },
          "metadata": {},
          "execution_count": 13
        }
      ]
    },
    {
      "cell_type": "code",
      "source": [
        "mylist = [letter for letter in mystring]\n",
        "mylist"
      ],
      "metadata": {
        "colab": {
          "base_uri": "https://localhost:8080/"
        },
        "id": "SCVnNmE-Q1P8",
        "outputId": "9b2bb638-fe73-4ac6-8089-7678bcd3b36a"
      },
      "execution_count": 15,
      "outputs": [
        {
          "output_type": "execute_result",
          "data": {
            "text/plain": [
              "['H', 'e', 'l', 'l', 'o']"
            ]
          },
          "metadata": {},
          "execution_count": 15
        }
      ]
    },
    {
      "cell_type": "code",
      "source": [
        "mylist = [x for x in 'word']\n",
        "mylist"
      ],
      "metadata": {
        "colab": {
          "base_uri": "https://localhost:8080/"
        },
        "id": "fmhPg6LIReCc",
        "outputId": "600d3d30-d3d8-420c-a1af-bdb6a7db7c0a"
      },
      "execution_count": 17,
      "outputs": [
        {
          "output_type": "execute_result",
          "data": {
            "text/plain": [
              "['w', 'o', 'r', 'd']"
            ]
          },
          "metadata": {},
          "execution_count": 17
        }
      ]
    },
    {
      "cell_type": "code",
      "source": [
        "mylist = [num**2 for num in range(0,11)]\n",
        "mylist"
      ],
      "metadata": {
        "colab": {
          "base_uri": "https://localhost:8080/"
        },
        "id": "SBm_dZmlRjqA",
        "outputId": "037852f6-52ed-414a-880f-aa86c511c684"
      },
      "execution_count": 19,
      "outputs": [
        {
          "output_type": "execute_result",
          "data": {
            "text/plain": [
              "[0, 1, 4, 9, 16, 25, 36, 49, 64, 81, 100]"
            ]
          },
          "metadata": {},
          "execution_count": 19
        }
      ]
    },
    {
      "cell_type": "code",
      "source": [
        "mylist = [x for x in range(0,11) if x%2 == 0]\n",
        "mylist"
      ],
      "metadata": {
        "colab": {
          "base_uri": "https://localhost:8080/"
        },
        "id": "enmViHmvRi7h",
        "outputId": "83666a0d-19d4-4860-f8f0-52ce5dc2bcfb"
      },
      "execution_count": 20,
      "outputs": [
        {
          "output_type": "execute_result",
          "data": {
            "text/plain": [
              "[0, 2, 4, 6, 8, 10]"
            ]
          },
          "metadata": {},
          "execution_count": 20
        }
      ]
    },
    {
      "cell_type": "code",
      "source": [
        "celcius = [0,10,20,34.5]\n",
        "\n",
        "fahrenheit = [((9/5)*temp + 32) for temp in celcius]\n",
        "fahrenheit"
      ],
      "metadata": {
        "colab": {
          "base_uri": "https://localhost:8080/"
        },
        "id": "C8Kqb-UbSCyT",
        "outputId": "6fad168d-14d7-4d98-a1c0-0703a2916f05"
      },
      "execution_count": 21,
      "outputs": [
        {
          "output_type": "execute_result",
          "data": {
            "text/plain": [
              "[32.0, 50.0, 68.0, 94.1]"
            ]
          },
          "metadata": {},
          "execution_count": 21
        }
      ]
    },
    {
      "cell_type": "code",
      "source": [
        "fathrenheit = []\n",
        "\n",
        "for temp in celcius:\n",
        "  fathrenheit.append(((9/5)*temp + 32))\n",
        "\n",
        "fathrenheit"
      ],
      "metadata": {
        "colab": {
          "base_uri": "https://localhost:8080/"
        },
        "id": "5pvLqtjwSVpE",
        "outputId": "617520af-3223-4fb4-be00-a8a5ba9899b5"
      },
      "execution_count": 22,
      "outputs": [
        {
          "output_type": "execute_result",
          "data": {
            "text/plain": [
              "[32.0, 50.0, 68.0, 94.1]"
            ]
          },
          "metadata": {},
          "execution_count": 22
        }
      ]
    },
    {
      "cell_type": "code",
      "source": [
        "results = [x if x%2 == 0 else 'odd' for x in range(0,11)]\n",
        "results"
      ],
      "metadata": {
        "colab": {
          "base_uri": "https://localhost:8080/"
        },
        "id": "B9MeCDzhSlfG",
        "outputId": "ef260bed-fc09-42c9-ef02-48dc499ebf24"
      },
      "execution_count": 23,
      "outputs": [
        {
          "output_type": "execute_result",
          "data": {
            "text/plain": [
              "[0, 'odd', 2, 'odd', 4, 'odd', 6, 'odd', 8, 'odd', 10]"
            ]
          },
          "metadata": {},
          "execution_count": 23
        }
      ]
    },
    {
      "cell_type": "code",
      "source": [
        "mylist =[]\n",
        "\n",
        "for x in [2,4,6]:\n",
        "  for y in [1,10,1000]:\n",
        "    mylist.append(x*y)\n",
        "\n",
        "mylist"
      ],
      "metadata": {
        "colab": {
          "base_uri": "https://localhost:8080/"
        },
        "id": "a2DdlI3AS8pk",
        "outputId": "732b7f17-75bf-440e-92c8-960bac937053"
      },
      "execution_count": 25,
      "outputs": [
        {
          "output_type": "execute_result",
          "data": {
            "text/plain": [
              "[2, 20, 2000, 4, 40, 4000, 6, 60, 6000]"
            ]
          },
          "metadata": {},
          "execution_count": 25
        }
      ]
    },
    {
      "cell_type": "code",
      "source": [
        "mylist = [x*y for x in [2,4,6] for y in [1,10,1000]]\n",
        "mylist"
      ],
      "metadata": {
        "colab": {
          "base_uri": "https://localhost:8080/"
        },
        "id": "a5vjVpyUTWSB",
        "outputId": "b23173a3-eb84-47fc-a653-dd25e732ae02"
      },
      "execution_count": 26,
      "outputs": [
        {
          "output_type": "execute_result",
          "data": {
            "text/plain": [
              "[2, 20, 2000, 4, 40, 4000, 6, 60, 6000]"
            ]
          },
          "metadata": {},
          "execution_count": 26
        }
      ]
    },
    {
      "cell_type": "markdown",
      "source": [
        "Statement Test"
      ],
      "metadata": {
        "id": "UDaqj-tDTqjW"
      }
    },
    {
      "cell_type": "code",
      "source": [
        "st = 'Print only the words that start with s in this sentence'\n",
        "\n",
        "for word in st.split():\n",
        "  if word[0] == 's':\n",
        "    print(word)"
      ],
      "metadata": {
        "colab": {
          "base_uri": "https://localhost:8080/"
        },
        "id": "glqShQTDTkLF",
        "outputId": "9ffe20a2-6ecf-4b7b-cfb5-eeda43477774"
      },
      "execution_count": 36,
      "outputs": [
        {
          "output_type": "stream",
          "name": "stdout",
          "text": [
            "start\n",
            "s\n",
            "sentence\n"
          ]
        }
      ]
    },
    {
      "cell_type": "code",
      "source": [
        "for num in range(0,11):\n",
        "  if num%2 == 0:\n",
        "    print(num)"
      ],
      "metadata": {
        "colab": {
          "base_uri": "https://localhost:8080/"
        },
        "id": "YwKVm9vFgygA",
        "outputId": "3784a015-c078-4a0b-f7ba-3dd9307f7807"
      },
      "execution_count": 30,
      "outputs": [
        {
          "output_type": "stream",
          "name": "stdout",
          "text": [
            "0\n",
            "2\n",
            "4\n",
            "6\n",
            "8\n",
            "10\n"
          ]
        }
      ]
    },
    {
      "cell_type": "code",
      "source": [
        "mylist = [x for x in range(1,51) if x%3 == 0]\n",
        "mylist"
      ],
      "metadata": {
        "colab": {
          "base_uri": "https://localhost:8080/"
        },
        "id": "J3O7z69thQOM",
        "outputId": "9e4ae772-afe4-4b81-83d7-a10c5cb71eab"
      },
      "execution_count": 31,
      "outputs": [
        {
          "output_type": "execute_result",
          "data": {
            "text/plain": [
              "[3, 6, 9, 12, 15, 18, 21, 24, 27, 30, 33, 36, 39, 42, 45, 48]"
            ]
          },
          "metadata": {},
          "execution_count": 31
        }
      ]
    },
    {
      "cell_type": "code",
      "source": [
        "st = 'Print every word in this sentence that has an even number of letters'\n",
        "\n",
        "mystring = st.split()\n",
        "for word in mystring:\n",
        "  if len(word)%2 == 0:\n",
        "    print(f'The length of \"{word}\" is even!')"
      ],
      "metadata": {
        "colab": {
          "base_uri": "https://localhost:8080/"
        },
        "id": "tJ-aTEFNyPmE",
        "outputId": "9e93cdb5-fe73-4879-aea1-a67a540d391e"
      },
      "execution_count": 33,
      "outputs": [
        {
          "output_type": "stream",
          "name": "stdout",
          "text": [
            "The length of \"word\" is even!\n",
            "The length of \"in\" is even!\n",
            "The length of \"this\" is even!\n",
            "The length of \"sentence\" is even!\n",
            "The length of \"that\" is even!\n",
            "The length of \"an\" is even!\n",
            "The length of \"even\" is even!\n",
            "The length of \"number\" is even!\n",
            "The length of \"of\" is even!\n"
          ]
        }
      ]
    },
    {
      "cell_type": "code",
      "source": [
        "for x in range(1,101):\n",
        "  if x%3 == 0 and x%5 == 0:\n",
        "    print('FizzBuzz')\n",
        "  elif x%3 == 0:\n",
        "    print('Fizz')\n",
        "  elif x%5 == 0:\n",
        "    print('Buzz')\n",
        "  else:\n",
        "    print(x)"
      ],
      "metadata": {
        "colab": {
          "base_uri": "https://localhost:8080/"
        },
        "id": "394Fme5fyl1S",
        "outputId": "73d15e1e-18ac-45bd-a0f8-c566652ab3e5"
      },
      "execution_count": 34,
      "outputs": [
        {
          "output_type": "stream",
          "name": "stdout",
          "text": [
            "1\n",
            "2\n",
            "Fizz\n",
            "4\n",
            "Buzz\n",
            "Fizz\n",
            "7\n",
            "8\n",
            "Fizz\n",
            "Buzz\n",
            "11\n",
            "Fizz\n",
            "13\n",
            "14\n",
            "FizzBuzz\n",
            "16\n",
            "17\n",
            "Fizz\n",
            "19\n",
            "Buzz\n",
            "Fizz\n",
            "22\n",
            "23\n",
            "Fizz\n",
            "Buzz\n",
            "26\n",
            "Fizz\n",
            "28\n",
            "29\n",
            "FizzBuzz\n",
            "31\n",
            "32\n",
            "Fizz\n",
            "34\n",
            "Buzz\n",
            "Fizz\n",
            "37\n",
            "38\n",
            "Fizz\n",
            "Buzz\n",
            "41\n",
            "Fizz\n",
            "43\n",
            "44\n",
            "FizzBuzz\n",
            "46\n",
            "47\n",
            "Fizz\n",
            "49\n",
            "Buzz\n",
            "Fizz\n",
            "52\n",
            "53\n",
            "Fizz\n",
            "Buzz\n",
            "56\n",
            "Fizz\n",
            "58\n",
            "59\n",
            "FizzBuzz\n",
            "61\n",
            "62\n",
            "Fizz\n",
            "64\n",
            "Buzz\n",
            "Fizz\n",
            "67\n",
            "68\n",
            "Fizz\n",
            "Buzz\n",
            "71\n",
            "Fizz\n",
            "73\n",
            "74\n",
            "FizzBuzz\n",
            "76\n",
            "77\n",
            "Fizz\n",
            "79\n",
            "Buzz\n",
            "Fizz\n",
            "82\n",
            "83\n",
            "Fizz\n",
            "Buzz\n",
            "86\n",
            "Fizz\n",
            "88\n",
            "89\n",
            "FizzBuzz\n",
            "91\n",
            "92\n",
            "Fizz\n",
            "94\n",
            "Buzz\n",
            "Fizz\n",
            "97\n",
            "98\n",
            "Fizz\n",
            "Buzz\n"
          ]
        }
      ]
    },
    {
      "cell_type": "code",
      "source": [
        "st = 'Create a list of the first letters of every word in this string'\n",
        "\n",
        "mylist = [word[0] for word in st.split()]\n",
        "mylist"
      ],
      "metadata": {
        "colab": {
          "base_uri": "https://localhost:8080/"
        },
        "id": "AmbPmaM33iem",
        "outputId": "c7100e98-a751-4fad-9640-31000b65fd15"
      },
      "execution_count": 35,
      "outputs": [
        {
          "output_type": "execute_result",
          "data": {
            "text/plain": [
              "['C', 'a', 'l', 'o', 't', 'f', 'l', 'o', 'e', 'w', 'i', 't', 's']"
            ]
          },
          "metadata": {},
          "execution_count": 35
        }
      ]
    },
    {
      "cell_type": "markdown",
      "source": [
        "Methods"
      ],
      "metadata": {
        "id": "latPl99bFIZd"
      }
    },
    {
      "cell_type": "code",
      "source": [
        "mylist = [1,2,3]\n",
        "mylist.append(4)\n",
        "mylist"
      ],
      "metadata": {
        "colab": {
          "base_uri": "https://localhost:8080/"
        },
        "id": "9EYkbarrFMx9",
        "outputId": "d644cd3d-b28a-4ad5-8aa2-83340ad1cf15"
      },
      "execution_count": 1,
      "outputs": [
        {
          "output_type": "execute_result",
          "data": {
            "text/plain": [
              "[1, 2, 3, 4]"
            ]
          },
          "metadata": {},
          "execution_count": 1
        }
      ]
    },
    {
      "cell_type": "code",
      "source": [
        "mylist.pop()\n",
        "mylist"
      ],
      "metadata": {
        "colab": {
          "base_uri": "https://localhost:8080/"
        },
        "id": "dlM5GdBuFRhc",
        "outputId": "4eb684bc-0f07-4140-8596-b470f6b40d55"
      },
      "execution_count": 2,
      "outputs": [
        {
          "output_type": "execute_result",
          "data": {
            "text/plain": [
              "[1, 2, 3]"
            ]
          },
          "metadata": {},
          "execution_count": 2
        }
      ]
    },
    {
      "cell_type": "code",
      "source": [
        "help(mylist.insert)"
      ],
      "metadata": {
        "colab": {
          "base_uri": "https://localhost:8080/"
        },
        "id": "V1tFEBuAFWPK",
        "outputId": "501e0e0a-2276-4129-a5da-ded261b9e134"
      },
      "execution_count": 3,
      "outputs": [
        {
          "output_type": "stream",
          "name": "stdout",
          "text": [
            "Help on built-in function insert:\n",
            "\n",
            "insert(index, object, /) method of builtins.list instance\n",
            "    Insert object before index.\n",
            "\n"
          ]
        }
      ]
    },
    {
      "cell_type": "markdown",
      "source": [
        "def Keyword"
      ],
      "metadata": {
        "id": "1a_w8BcjMFUs"
      }
    },
    {
      "cell_type": "code",
      "source": [
        "def say_hello():\n",
        "  print('Hello!')\n",
        "\n",
        "say_hello()"
      ],
      "metadata": {
        "colab": {
          "base_uri": "https://localhost:8080/"
        },
        "id": "9iCU99-PFmNG",
        "outputId": "225020f3-f31f-4f7b-c8aa-9c0a9839c586"
      },
      "execution_count": 1,
      "outputs": [
        {
          "output_type": "stream",
          "name": "stdout",
          "text": [
            "Hello!\n"
          ]
        }
      ]
    },
    {
      "cell_type": "code",
      "source": [
        "say_hello"
      ],
      "metadata": {
        "colab": {
          "base_uri": "https://localhost:8080/",
          "height": 104
        },
        "id": "G-ds08uMNvUw",
        "outputId": "1056e581-b301-4f50-b7e7-0f8d03bd7053"
      },
      "execution_count": 2,
      "outputs": [
        {
          "output_type": "execute_result",
          "data": {
            "text/plain": [
              "<function __main__.say_hello()>"
            ],
            "text/html": [
              "<div style=\"max-width:800px; border: 1px solid var(--colab-border-color);\"><style>\n",
              "      pre.function-repr-contents {\n",
              "        overflow-x: auto;\n",
              "        padding: 8px 12px;\n",
              "        max-height: 500px;\n",
              "      }\n",
              "\n",
              "      pre.function-repr-contents.function-repr-contents-collapsed {\n",
              "        cursor: pointer;\n",
              "        max-height: 100px;\n",
              "      }\n",
              "    </style>\n",
              "    <pre style=\"white-space: initial; background:\n",
              "         var(--colab-secondary-surface-color); padding: 8px 12px;\n",
              "         border-bottom: 1px solid var(--colab-border-color);\"><b>say_hello</b><br/>def say_hello()</pre><pre class=\"function-repr-contents function-repr-contents-collapsed\" style=\"\"><a class=\"filepath\" style=\"display:none\" href=\"#\">/content/&lt;ipython-input-1-9e5046704b90&gt;</a>&lt;no docstring&gt;</pre></div>"
            ]
          },
          "metadata": {},
          "execution_count": 2
        }
      ]
    },
    {
      "cell_type": "code",
      "source": [
        "def say_hello(name):\n",
        "  print(f'Hello {name}')\n",
        "\n",
        "say_hello('Lily')"
      ],
      "metadata": {
        "colab": {
          "base_uri": "https://localhost:8080/"
        },
        "id": "6gx-7fZNN2yB",
        "outputId": "2233150e-454b-4ef4-c0d5-f75166ea7784"
      },
      "execution_count": 4,
      "outputs": [
        {
          "output_type": "stream",
          "name": "stdout",
          "text": [
            "Hello Lily\n"
          ]
        }
      ]
    },
    {
      "cell_type": "code",
      "source": [
        "def say_hello(name='Default'):\n",
        "  print(f'Hello {name}')\n",
        "\n",
        "say_hello()"
      ],
      "metadata": {
        "colab": {
          "base_uri": "https://localhost:8080/"
        },
        "id": "d59D2mWqP3Hv",
        "outputId": "b71154b6-1f19-45a1-ef1b-11f3537d84cd"
      },
      "execution_count": 5,
      "outputs": [
        {
          "output_type": "stream",
          "name": "stdout",
          "text": [
            "Hello Default\n"
          ]
        }
      ]
    },
    {
      "cell_type": "code",
      "source": [
        "def add_num(num1,num2):\n",
        "  return num1 + num2\n",
        "\n",
        "add_num(10,20)"
      ],
      "metadata": {
        "colab": {
          "base_uri": "https://localhost:8080/"
        },
        "id": "1tTyV1yEQKQx",
        "outputId": "c3f566e5-bac3-40c2-de28-2fb5a66c87b0"
      },
      "execution_count": 6,
      "outputs": [
        {
          "output_type": "execute_result",
          "data": {
            "text/plain": [
              "30"
            ]
          },
          "metadata": {},
          "execution_count": 6
        }
      ]
    },
    {
      "cell_type": "code",
      "source": [
        "def print_result(a,b):\n",
        "  print(a + b)\n",
        "# don't return anything to save"
      ],
      "metadata": {
        "id": "FZmy-SLvQW76"
      },
      "execution_count": 7,
      "outputs": []
    },
    {
      "cell_type": "code",
      "source": [
        "def return_result(a,b):\n",
        "  return a + b"
      ],
      "metadata": {
        "id": "Jt7vP9UTQmRo"
      },
      "execution_count": 8,
      "outputs": []
    },
    {
      "cell_type": "code",
      "source": [
        "result = print_result(10,20)"
      ],
      "metadata": {
        "colab": {
          "base_uri": "https://localhost:8080/"
        },
        "id": "SrpG0xdxQwIJ",
        "outputId": "0ae8ada1-6371-4d35-adeb-6d4d0a115315"
      },
      "execution_count": 10,
      "outputs": [
        {
          "output_type": "stream",
          "name": "stdout",
          "text": [
            "30\n"
          ]
        }
      ]
    },
    {
      "cell_type": "code",
      "source": [
        "result"
      ],
      "metadata": {
        "id": "O8snS19yQ0w-"
      },
      "execution_count": 11,
      "outputs": []
    },
    {
      "cell_type": "code",
      "source": [
        "type(result)"
      ],
      "metadata": {
        "colab": {
          "base_uri": "https://localhost:8080/"
        },
        "id": "PtAZs8o3Q9v5",
        "outputId": "d139f3e9-c20c-4158-ceac-f29f483d5450"
      },
      "execution_count": 12,
      "outputs": [
        {
          "output_type": "execute_result",
          "data": {
            "text/plain": [
              "NoneType"
            ]
          },
          "metadata": {},
          "execution_count": 12
        }
      ]
    },
    {
      "cell_type": "code",
      "source": [
        "result = return_result(10,20)"
      ],
      "metadata": {
        "id": "y8TqhKavQ__F"
      },
      "execution_count": 14,
      "outputs": []
    },
    {
      "cell_type": "code",
      "source": [
        "result"
      ],
      "metadata": {
        "colab": {
          "base_uri": "https://localhost:8080/"
        },
        "id": "yQRaJUWwROsJ",
        "outputId": "66aa783a-42a3-42bd-d4fb-d59593723097"
      },
      "execution_count": 15,
      "outputs": [
        {
          "output_type": "execute_result",
          "data": {
            "text/plain": [
              "30"
            ]
          },
          "metadata": {},
          "execution_count": 15
        }
      ]
    },
    {
      "cell_type": "code",
      "source": [
        "def myfunc(a,b):\n",
        "  print(a+b)\n",
        "  return a+b"
      ],
      "metadata": {
        "id": "sz6mKx98RTiR"
      },
      "execution_count": 16,
      "outputs": []
    },
    {
      "cell_type": "code",
      "source": [
        "result = myfunc(10,20)"
      ],
      "metadata": {
        "colab": {
          "base_uri": "https://localhost:8080/"
        },
        "id": "xv2KNQY7RdFZ",
        "outputId": "a5ed4ede-9dfe-4c53-8735-103354d47f2b"
      },
      "execution_count": 17,
      "outputs": [
        {
          "output_type": "stream",
          "name": "stdout",
          "text": [
            "30\n"
          ]
        }
      ]
    },
    {
      "cell_type": "code",
      "source": [
        "result"
      ],
      "metadata": {
        "colab": {
          "base_uri": "https://localhost:8080/"
        },
        "id": "b4eEeDWLRhQI",
        "outputId": "8e50efe6-3e07-494d-c8ab-b22dae26c0e1"
      },
      "execution_count": 18,
      "outputs": [
        {
          "output_type": "execute_result",
          "data": {
            "text/plain": [
              "30"
            ]
          },
          "metadata": {},
          "execution_count": 18
        }
      ]
    },
    {
      "cell_type": "code",
      "source": [
        "def sum_numbers(num1,num2):\n",
        "  return num1+num2"
      ],
      "metadata": {
        "id": "kyhtmvBSRiXf"
      },
      "execution_count": 19,
      "outputs": []
    },
    {
      "cell_type": "code",
      "source": [
        "sum_numbers(10,20)"
      ],
      "metadata": {
        "colab": {
          "base_uri": "https://localhost:8080/"
        },
        "id": "ymaLAEBYRtrP",
        "outputId": "b9057e48-a6b4-4e0d-d960-b5909bd11b6c"
      },
      "execution_count": 20,
      "outputs": [
        {
          "output_type": "execute_result",
          "data": {
            "text/plain": [
              "30"
            ]
          },
          "metadata": {},
          "execution_count": 20
        }
      ]
    },
    {
      "cell_type": "code",
      "source": [
        "sum_numbers('10','20')"
      ],
      "metadata": {
        "colab": {
          "base_uri": "https://localhost:8080/",
          "height": 35
        },
        "id": "iOAzGqieRyEG",
        "outputId": "27daa2ea-8263-4099-81dd-32b1158c911a"
      },
      "execution_count": 21,
      "outputs": [
        {
          "output_type": "execute_result",
          "data": {
            "text/plain": [
              "'1020'"
            ],
            "application/vnd.google.colaboratory.intrinsic+json": {
              "type": "string"
            }
          },
          "metadata": {},
          "execution_count": 21
        }
      ]
    },
    {
      "cell_type": "markdown",
      "source": [
        "Logic with Functions"
      ],
      "metadata": {
        "id": "wbAUk1wuIb9r"
      }
    },
    {
      "cell_type": "code",
      "source": [
        "def even_check(number):\n",
        "  return number % 2 == 0\n",
        "\n",
        "even_check(20)"
      ],
      "metadata": {
        "colab": {
          "base_uri": "https://localhost:8080/"
        },
        "id": "h8-gg7piIYFq",
        "outputId": "ba500237-7afe-40b4-d35d-0482992f1c3a"
      },
      "execution_count": 3,
      "outputs": [
        {
          "output_type": "execute_result",
          "data": {
            "text/plain": [
              "True"
            ]
          },
          "metadata": {},
          "execution_count": 3
        }
      ]
    },
    {
      "cell_type": "code",
      "source": [
        "# Return True if any number in the list is even\n",
        "\n",
        "def check_even_list(num_list):\n",
        "\n",
        "  for number in num_list:\n",
        "    if number % 2 == 0:\n",
        "      return True\n",
        "    else:\n",
        "      pass"
      ],
      "metadata": {
        "id": "duYZOMV-JKPb"
      },
      "execution_count": 4,
      "outputs": []
    },
    {
      "cell_type": "code",
      "source": [
        "check_even_list([1,3,5,7,9])"
      ],
      "metadata": {
        "id": "ksUjctVhJ0pR"
      },
      "execution_count": 5,
      "outputs": []
    },
    {
      "cell_type": "code",
      "source": [
        "check_even_list([1,2,4,5,7,9])"
      ],
      "metadata": {
        "colab": {
          "base_uri": "https://localhost:8080/"
        },
        "id": "LD_vwnV8J6oo",
        "outputId": "f08ac591-b4ee-4096-d4cd-37ea50f01a5f"
      },
      "execution_count": 6,
      "outputs": [
        {
          "output_type": "execute_result",
          "data": {
            "text/plain": [
              "True"
            ]
          },
          "metadata": {},
          "execution_count": 6
        }
      ]
    },
    {
      "cell_type": "code",
      "source": [
        "def check_even_list(num_list):\n",
        "\n",
        "  for number in num_list:\n",
        "    if number % 2 == 0:\n",
        "      return True\n",
        "    else:\n",
        "#     return False---WRONG!"
      ],
      "metadata": {
        "id": "38K-mO-RKGD_"
      },
      "execution_count": null,
      "outputs": []
    },
    {
      "cell_type": "code",
      "source": [
        "def check_even_list(num_list):\n",
        "\n",
        "  for number in num_list:\n",
        "    if number % 2 == 0:\n",
        "      return True\n",
        "    else:\n",
        "      pass\n",
        "  return False"
      ],
      "metadata": {
        "id": "Y4EcD0tZKYNU"
      },
      "execution_count": 7,
      "outputs": []
    },
    {
      "cell_type": "code",
      "source": [
        "check_even_list([1,2,4,5,7,9])"
      ],
      "metadata": {
        "colab": {
          "base_uri": "https://localhost:8080/"
        },
        "id": "haG5QzqtKgXD",
        "outputId": "60b34d1a-ea63-44b9-ae0c-4d175c01b716"
      },
      "execution_count": 8,
      "outputs": [
        {
          "output_type": "execute_result",
          "data": {
            "text/plain": [
              "True"
            ]
          },
          "metadata": {},
          "execution_count": 8
        }
      ]
    },
    {
      "cell_type": "code",
      "source": [
        "check_even_list([1,3,5,7,9])"
      ],
      "metadata": {
        "colab": {
          "base_uri": "https://localhost:8080/"
        },
        "id": "MfFNLJy3Km4H",
        "outputId": "1cd4e46d-bf97-4e3d-c0b1-505c3f661f4c"
      },
      "execution_count": 9,
      "outputs": [
        {
          "output_type": "execute_result",
          "data": {
            "text/plain": [
              "False"
            ]
          },
          "metadata": {},
          "execution_count": 9
        }
      ]
    },
    {
      "cell_type": "code",
      "source": [
        "def check_even_list(num_list):\n",
        "\n",
        "  even_num = []\n",
        "\n",
        "  for number in num_list:\n",
        "    if number % 2 == 0:\n",
        "      even_num.append(number)\n",
        "\n",
        "    else:\n",
        "      pass\n",
        "  return even_num"
      ],
      "metadata": {
        "id": "zOqaQBQkLBfd"
      },
      "execution_count": 10,
      "outputs": []
    },
    {
      "cell_type": "code",
      "source": [
        "check_even_list([1,3,5,7,9])"
      ],
      "metadata": {
        "colab": {
          "base_uri": "https://localhost:8080/"
        },
        "id": "Ln9_kaxoLToP",
        "outputId": "d7e27c4b-0534-429f-c718-ac67bd1f77f3"
      },
      "execution_count": 11,
      "outputs": [
        {
          "output_type": "execute_result",
          "data": {
            "text/plain": [
              "[]"
            ]
          },
          "metadata": {},
          "execution_count": 11
        }
      ]
    },
    {
      "cell_type": "code",
      "source": [
        "check_even_list([1,2,4,5,7,9])"
      ],
      "metadata": {
        "colab": {
          "base_uri": "https://localhost:8080/"
        },
        "id": "OkcFLVXOLZTW",
        "outputId": "40ed15a8-3988-4683-e15e-b573271d0cbe"
      },
      "execution_count": 12,
      "outputs": [
        {
          "output_type": "execute_result",
          "data": {
            "text/plain": [
              "[2, 4]"
            ]
          },
          "metadata": {},
          "execution_count": 12
        }
      ]
    },
    {
      "cell_type": "markdown",
      "source": [
        "Tuple Unpacking with Fuctions"
      ],
      "metadata": {
        "id": "Zq_UBBp_J0Kp"
      }
    },
    {
      "cell_type": "code",
      "source": [
        "stock_prices = [('APPL',200),('GOOG',400),('MSFT',100)]\n",
        "\n",
        "for item in stock_prices:\n",
        "  print(item)"
      ],
      "metadata": {
        "colab": {
          "base_uri": "https://localhost:8080/"
        },
        "id": "FLmDAQ6rM-sF",
        "outputId": "6c3a5fd2-64cf-4fc3-9949-f46aab53db8c"
      },
      "execution_count": 13,
      "outputs": [
        {
          "output_type": "stream",
          "name": "stdout",
          "text": [
            "('APPL', 200)\n",
            "('GOOG', 400)\n",
            "('MSFT', 100)\n"
          ]
        }
      ]
    },
    {
      "cell_type": "code",
      "source": [
        "for ticker,price in stock_prices:\n",
        "  print(price+0.1*price)"
      ],
      "metadata": {
        "colab": {
          "base_uri": "https://localhost:8080/"
        },
        "id": "AHdf8ooChLyv",
        "outputId": "c0df4469-6a95-405c-eb8c-679eb707c419"
      },
      "execution_count": 14,
      "outputs": [
        {
          "output_type": "stream",
          "name": "stdout",
          "text": [
            "220.0\n",
            "440.0\n",
            "110.0\n"
          ]
        }
      ]
    },
    {
      "cell_type": "code",
      "source": [
        "work_hours = [('Abby',100),('Billy',400),('Cassie',800)]\n",
        "\n",
        "def employee_check(work_hours):\n",
        "  current_max = 0\n",
        "  employee_of_month = ''\n",
        "\n",
        "  for employee,hours in work_hours:\n",
        "    if hours > current_max:\n",
        "      current_max = hours\n",
        "      employee_of_month = employee\n",
        "    else:\n",
        "      pass\n",
        "\n",
        "  return (employee_of_month,current_max)"
      ],
      "metadata": {
        "id": "o_hYRvMUiIB2"
      },
      "execution_count": 15,
      "outputs": []
    },
    {
      "cell_type": "code",
      "source": [
        "employee_check(work_hours)"
      ],
      "metadata": {
        "colab": {
          "base_uri": "https://localhost:8080/"
        },
        "id": "TvLDmr6-iPpx",
        "outputId": "d26e5d9a-8ffe-406e-f2c6-a01196b4b865"
      },
      "execution_count": 16,
      "outputs": [
        {
          "output_type": "execute_result",
          "data": {
            "text/plain": [
              "('Cassie', 800)"
            ]
          },
          "metadata": {},
          "execution_count": 16
        }
      ]
    },
    {
      "cell_type": "code",
      "source": [
        "name,hours = employee_check(work_hours)"
      ],
      "metadata": {
        "id": "wefAb2axiTE4"
      },
      "execution_count": 17,
      "outputs": []
    },
    {
      "cell_type": "code",
      "source": [
        "name"
      ],
      "metadata": {
        "colab": {
          "base_uri": "https://localhost:8080/",
          "height": 35
        },
        "id": "84Lpcmq6iqt_",
        "outputId": "42028b3e-aa58-40b4-c047-fa163ee339d3"
      },
      "execution_count": 18,
      "outputs": [
        {
          "output_type": "execute_result",
          "data": {
            "text/plain": [
              "'Cassie'"
            ],
            "application/vnd.google.colaboratory.intrinsic+json": {
              "type": "string"
            }
          },
          "metadata": {},
          "execution_count": 18
        }
      ]
    },
    {
      "cell_type": "code",
      "source": [
        "hours"
      ],
      "metadata": {
        "colab": {
          "base_uri": "https://localhost:8080/"
        },
        "id": "kL0_ypxqirek",
        "outputId": "0c1ba1c2-48bc-4467-ac30-80c83108a566"
      },
      "execution_count": 19,
      "outputs": [
        {
          "output_type": "execute_result",
          "data": {
            "text/plain": [
              "800"
            ]
          },
          "metadata": {},
          "execution_count": 19
        }
      ]
    },
    {
      "cell_type": "markdown",
      "source": [
        "Interaction between Fuctions"
      ],
      "metadata": {
        "id": "3qX8ynRUjDtj"
      }
    },
    {
      "cell_type": "code",
      "source": [
        "example = [1,2,3,4,5,6,7]\n",
        "\n",
        "from random import shuffle\n",
        "\n",
        "shuffle(example)\n",
        "example"
      ],
      "metadata": {
        "colab": {
          "base_uri": "https://localhost:8080/"
        },
        "id": "WJcFW7Uais7U",
        "outputId": "90ff0193-3133-4ccf-e30c-7f3b270cd6e4"
      },
      "execution_count": 20,
      "outputs": [
        {
          "output_type": "execute_result",
          "data": {
            "text/plain": [
              "[4, 5, 2, 3, 6, 7, 1]"
            ]
          },
          "metadata": {},
          "execution_count": 20
        }
      ]
    },
    {
      "cell_type": "code",
      "source": [
        "result = shuffle(example)\n",
        "result"
      ],
      "metadata": {
        "id": "I5PWLGsCkCDz"
      },
      "execution_count": 22,
      "outputs": []
    },
    {
      "cell_type": "code",
      "source": [
        "def shuffle_list(mylist):\n",
        "  shuffle(mylist)\n",
        "  return mylist"
      ],
      "metadata": {
        "id": "kwx7UFsgjqzb"
      },
      "execution_count": 21,
      "outputs": []
    },
    {
      "cell_type": "code",
      "source": [
        "result = shuffle_list(example)\n",
        "result"
      ],
      "metadata": {
        "colab": {
          "base_uri": "https://localhost:8080/"
        },
        "id": "mTZrDWAikHe0",
        "outputId": "69a1d3ae-f899-4103-9611-ff91400f0df0"
      },
      "execution_count": 23,
      "outputs": [
        {
          "output_type": "execute_result",
          "data": {
            "text/plain": [
              "[5, 4, 3, 2, 1, 6, 7]"
            ]
          },
          "metadata": {},
          "execution_count": 23
        }
      ]
    },
    {
      "cell_type": "code",
      "source": [
        "mylist = ['','0','']\n",
        "shuffle_list(mylist)"
      ],
      "metadata": {
        "colab": {
          "base_uri": "https://localhost:8080/"
        },
        "id": "PjHmuOYUkIBO",
        "outputId": "9caa0904-eea7-4758-e3b8-c37700f9da1c"
      },
      "execution_count": 24,
      "outputs": [
        {
          "output_type": "execute_result",
          "data": {
            "text/plain": [
              "['0', '', '']"
            ]
          },
          "metadata": {},
          "execution_count": 24
        }
      ]
    },
    {
      "cell_type": "code",
      "source": [
        "def player_guess():\n",
        "  guess = ''\n",
        "\n",
        "  while guess not in ['0','1','2']:\n",
        "    guess = input('Pick a number: 0,1,or 2')\n",
        "  return int(guess)"
      ],
      "metadata": {
        "id": "xSk2Vs4IkW-P"
      },
      "execution_count": 25,
      "outputs": []
    },
    {
      "cell_type": "code",
      "source": [
        "player_guess()"
      ],
      "metadata": {
        "colab": {
          "base_uri": "https://localhost:8080/"
        },
        "id": "HzLqrDLWk9_v",
        "outputId": "4b93f3eb-9126-40e6-c927-abeef1237df3"
      },
      "execution_count": 26,
      "outputs": [
        {
          "name": "stdout",
          "output_type": "stream",
          "text": [
            "Pick a number: 0,1,or 26\n",
            "Pick a number: 0,1,or 21\n"
          ]
        },
        {
          "output_type": "execute_result",
          "data": {
            "text/plain": [
              "1"
            ]
          },
          "metadata": {},
          "execution_count": 26
        }
      ]
    },
    {
      "cell_type": "code",
      "source": [
        "def check_guess(mylist,guess):\n",
        "  if mylist[guess] == '0':\n",
        "    print(\"Correct!\")\n",
        "  else:\n",
        "    print(\"Wrong guess!\")\n",
        "    print(mylist)"
      ],
      "metadata": {
        "id": "ygF2SIh2lFO5"
      },
      "execution_count": 27,
      "outputs": []
    },
    {
      "cell_type": "code",
      "source": [
        "# Initial List\n",
        "mylist = ['','0','']\n",
        "\n",
        "# Shuffle List\n",
        "mixedup_list = shuffle_list(mylist)\n",
        "\n",
        "# User Guess\n",
        "guess = player_guess()\n",
        "\n",
        "# Check Guess\n",
        "check_guess(mixedup_list,guess)"
      ],
      "metadata": {
        "colab": {
          "base_uri": "https://localhost:8080/"
        },
        "id": "xTU1YB4hl191",
        "outputId": "defd4304-bcf7-4a90-c42e-9e390f08a090"
      },
      "execution_count": 28,
      "outputs": [
        {
          "output_type": "stream",
          "name": "stdout",
          "text": [
            "Pick a number: 0,1,or 27\n",
            "Pick a number: 0,1,or 22\n",
            "Correct!\n"
          ]
        }
      ]
    },
    {
      "cell_type": "code",
      "source": [
        "def myfunc(a,b,c=0,d=0):\n",
        "  # Return 5% of the sum of a and b\n",
        "  return sum((a,b,c,d)) * 0.05"
      ],
      "metadata": {
        "id": "wceS7SwQmDaT"
      },
      "execution_count": 32,
      "outputs": []
    },
    {
      "cell_type": "code",
      "source": [
        "myfunc(40,60,100)"
      ],
      "metadata": {
        "colab": {
          "base_uri": "https://localhost:8080/"
        },
        "id": "Um111aLJvSF3",
        "outputId": "744ae6dd-a7cb-40e9-bb55-801ec4e50db1"
      },
      "execution_count": 33,
      "outputs": [
        {
          "output_type": "execute_result",
          "data": {
            "text/plain": [
              "10.0"
            ]
          },
          "metadata": {},
          "execution_count": 33
        }
      ]
    },
    {
      "cell_type": "code",
      "source": [
        "def myfunc(*args):  # with * can be any argument\n",
        "  return sum(args) * 0.05"
      ],
      "metadata": {
        "id": "4cPdswaOvURH"
      },
      "execution_count": 34,
      "outputs": []
    },
    {
      "cell_type": "code",
      "source": [
        "myfunc(40,60,100,15,85,73,27)"
      ],
      "metadata": {
        "colab": {
          "base_uri": "https://localhost:8080/"
        },
        "id": "W7D82VlmwH0J",
        "outputId": "421b8a08-e735-4ab5-df54-1b3cecf37d01"
      },
      "execution_count": 35,
      "outputs": [
        {
          "output_type": "execute_result",
          "data": {
            "text/plain": [
              "20.0"
            ]
          },
          "metadata": {},
          "execution_count": 35
        }
      ]
    },
    {
      "cell_type": "code",
      "source": [
        "def myfunc(*args):\n",
        "  for item in args:\n",
        "    print(item)"
      ],
      "metadata": {
        "id": "k7muIIUlwRZv"
      },
      "execution_count": 36,
      "outputs": []
    },
    {
      "cell_type": "code",
      "source": [
        "myfunc(40,60,100,15,85,73,27)"
      ],
      "metadata": {
        "colab": {
          "base_uri": "https://localhost:8080/"
        },
        "id": "ry26T5V5wqmW",
        "outputId": "223f29fe-de10-4d30-fd1d-2ed187d2d52e"
      },
      "execution_count": 37,
      "outputs": [
        {
          "output_type": "stream",
          "name": "stdout",
          "text": [
            "40\n",
            "60\n",
            "100\n",
            "15\n",
            "85\n",
            "73\n",
            "27\n"
          ]
        }
      ]
    },
    {
      "cell_type": "code",
      "source": [
        "def myfunc(**kwargs):  # key words arguments --> dictionary\n",
        "  print(kwargs)\n",
        "  if 'fruit' in kwargs:\n",
        "    print('My fruit of choice is {}'.format(kwargs['fruit']))\n",
        "  else:\n",
        "    print('I did not find any fruit here')"
      ],
      "metadata": {
        "id": "iavr64wewsdX"
      },
      "execution_count": 41,
      "outputs": []
    },
    {
      "cell_type": "code",
      "source": [
        "myfunc(fruit='apple',veggie='lettuce')"
      ],
      "metadata": {
        "colab": {
          "base_uri": "https://localhost:8080/"
        },
        "id": "wmMA1wU_xQfB",
        "outputId": "df3d2b4d-dfd8-43f1-9a38-31484d3e49d9"
      },
      "execution_count": 42,
      "outputs": [
        {
          "output_type": "stream",
          "name": "stdout",
          "text": [
            "{'fruit': 'apple', 'veggie': 'lettuce'}\n",
            "My fruit of choice is apple\n"
          ]
        }
      ]
    },
    {
      "cell_type": "code",
      "source": [
        "def myfunc(*args,**kwargs):\n",
        "  print(args)\n",
        "  print(kwargs)\n",
        "  print('I would like {} {}'.format(args[0],kwargs['food']))"
      ],
      "metadata": {
        "id": "CRBkspl5xQ_O"
      },
      "execution_count": 44,
      "outputs": []
    },
    {
      "cell_type": "code",
      "source": [
        "myfunc(10,20,30,fruit='orange',food='eggs',animal='dog')"
      ],
      "metadata": {
        "colab": {
          "base_uri": "https://localhost:8080/"
        },
        "id": "g4vZRHPRx5pv",
        "outputId": "7f02b044-217b-4f54-c810-8a7c7beab41a"
      },
      "execution_count": 45,
      "outputs": [
        {
          "output_type": "stream",
          "name": "stdout",
          "text": [
            "(10, 20, 30)\n",
            "{'fruit': 'orange', 'food': 'eggs', 'animal': 'dog'}\n",
            "I would like 10 eggs\n"
          ]
        }
      ]
    },
    {
      "cell_type": "code",
      "source": [
        "# Define a function takes in an arbitrary number of arguments, and returns a list containing only those arguments that are even.\n",
        "def myfunc(*args):\n",
        "    mylist = []\n",
        "    for num in args:\n",
        "        if num%2 == 0:\n",
        "            mylist.append(num) # .append () method modifies the list itself, but its return value is None.\n",
        "        else:\n",
        "            pass\n",
        "    return mylist"
      ],
      "metadata": {
        "id": "NR3TsqRAyFQU"
      },
      "execution_count": 46,
      "outputs": []
    },
    {
      "cell_type": "code",
      "source": [
        "# WRONG\n",
        "# The.upper () and.lower () return a new string and do not modify the original string\n",
        "# Strings are immutable in Python.\n",
        "def myfunc(mystr):\n",
        "    num = len(mystr)\n",
        "    for x in range(0,num):\n",
        "        if x%2 == 0:\n",
        "            mystr[x].upper()\n",
        "        else:\n",
        "            mystr[x].lower()\n",
        "    return mystr"
      ],
      "metadata": {
        "id": "0t2IMQFQ1-pq"
      },
      "execution_count": 49,
      "outputs": []
    },
    {
      "cell_type": "code",
      "source": [
        "myfunc('dhgafg')"
      ],
      "metadata": {
        "colab": {
          "base_uri": "https://localhost:8080/",
          "height": 35
        },
        "id": "Kp2YDhKC5aOr",
        "outputId": "db8ad3a7-b189-4bd4-88d2-c725fb9a12ba"
      },
      "execution_count": 48,
      "outputs": [
        {
          "output_type": "execute_result",
          "data": {
            "text/plain": [
              "'dhgafg'"
            ],
            "application/vnd.google.colaboratory.intrinsic+json": {
              "type": "string"
            }
          },
          "metadata": {},
          "execution_count": 48
        }
      ]
    },
    {
      "cell_type": "code",
      "source": [
        "def myfunc(mystr):\n",
        "    result = []\n",
        "    for i, char in enumerate(mystr):\n",
        "        if i % 2 == 0:\n",
        "            result.append(char.lower())\n",
        "        else:\n",
        "            result.append(char.upper())\n",
        "    return ''.join(result)"
      ],
      "metadata": {
        "id": "zgXWao6G5ecL"
      },
      "execution_count": 50,
      "outputs": []
    },
    {
      "cell_type": "code",
      "source": [
        "myfunc('dhgafg')"
      ],
      "metadata": {
        "colab": {
          "base_uri": "https://localhost:8080/",
          "height": 35
        },
        "id": "SUwxtnso66Kv",
        "outputId": "cf6ffe9b-4c4a-4706-b35a-c8787bd73879"
      },
      "execution_count": 51,
      "outputs": [
        {
          "output_type": "execute_result",
          "data": {
            "text/plain": [
              "'dHgAfG'"
            ],
            "application/vnd.google.colaboratory.intrinsic+json": {
              "type": "string"
            }
          },
          "metadata": {},
          "execution_count": 51
        }
      ]
    },
    {
      "cell_type": "markdown",
      "source": [
        "Warm-up Problems"
      ],
      "metadata": {
        "id": "1APmk7nBRmA9"
      }
    },
    {
      "cell_type": "code",
      "source": [
        "def lesser_of_two_evens(a,b):\n",
        "  if a%2 == 0 and b%2 == 0:\n",
        "    return min(a,b)\n",
        "  else:\n",
        "    return max(a,b)"
      ],
      "metadata": {
        "id": "In0ZwqZ_67ux"
      },
      "execution_count": 1,
      "outputs": []
    },
    {
      "cell_type": "code",
      "source": [
        "lesser_of_two_evens(2,4)"
      ],
      "metadata": {
        "colab": {
          "base_uri": "https://localhost:8080/"
        },
        "id": "WktplxwKGpOb",
        "outputId": "b0d6eef4-9b34-4bff-8e1d-6cfd9bb579a4"
      },
      "execution_count": 2,
      "outputs": [
        {
          "output_type": "execute_result",
          "data": {
            "text/plain": [
              "2"
            ]
          },
          "metadata": {},
          "execution_count": 2
        }
      ]
    },
    {
      "cell_type": "code",
      "source": [
        "lesser_of_two_evens(2,5)"
      ],
      "metadata": {
        "colab": {
          "base_uri": "https://localhost:8080/"
        },
        "id": "DwPP2smFGwiw",
        "outputId": "d615e842-01c2-40db-e26e-bbb3513142fa"
      },
      "execution_count": 3,
      "outputs": [
        {
          "output_type": "execute_result",
          "data": {
            "text/plain": [
              "5"
            ]
          },
          "metadata": {},
          "execution_count": 3
        }
      ]
    },
    {
      "cell_type": "code",
      "source": [
        "def animal_crackers(text):\n",
        "  word = text.lower().split() # A != a\n",
        "  return word[0][0] == word[1][0]"
      ],
      "metadata": {
        "id": "SvsO7c3YG0R4"
      },
      "execution_count": 40,
      "outputs": []
    },
    {
      "cell_type": "code",
      "source": [
        "animal_crackers('Levelheaded Llama')"
      ],
      "metadata": {
        "colab": {
          "base_uri": "https://localhost:8080/"
        },
        "id": "RKVX2iJhHroY",
        "outputId": "09becda4-d58d-4150-8d15-3f06390ae4fa"
      },
      "execution_count": 41,
      "outputs": [
        {
          "output_type": "execute_result",
          "data": {
            "text/plain": [
              "True"
            ]
          },
          "metadata": {},
          "execution_count": 41
        }
      ]
    },
    {
      "cell_type": "code",
      "source": [
        "animal_crackers('Crazy Kangaroo')"
      ],
      "metadata": {
        "colab": {
          "base_uri": "https://localhost:8080/"
        },
        "id": "yu1gCrYDH0Jv",
        "outputId": "8ffb983c-349b-4098-e492-b525614cff4f"
      },
      "execution_count": 42,
      "outputs": [
        {
          "output_type": "execute_result",
          "data": {
            "text/plain": [
              "False"
            ]
          },
          "metadata": {},
          "execution_count": 42
        }
      ]
    },
    {
      "cell_type": "code",
      "source": [
        "animal_crackers('Crazy cat')"
      ],
      "metadata": {
        "colab": {
          "base_uri": "https://localhost:8080/"
        },
        "id": "N05Ro-AHSlH_",
        "outputId": "c5d77822-5aa6-4992-cc63-8bed09d4c67a"
      },
      "execution_count": 43,
      "outputs": [
        {
          "output_type": "execute_result",
          "data": {
            "text/plain": [
              "True"
            ]
          },
          "metadata": {},
          "execution_count": 43
        }
      ]
    },
    {
      "cell_type": "code",
      "source": [
        "def makes_twenty(n1,n2):\n",
        "  return (n1 + n2) == 20 or n1 == 20 or n2 == 20"
      ],
      "metadata": {
        "id": "TpatrgxnTAEe"
      },
      "execution_count": 45,
      "outputs": []
    },
    {
      "cell_type": "code",
      "source": [
        "makes_twenty(20,10)"
      ],
      "metadata": {
        "colab": {
          "base_uri": "https://localhost:8080/"
        },
        "id": "IUcITF-lTX8m",
        "outputId": "e4a7b879-0022-4cd3-b551-2e2feaef1294"
      },
      "execution_count": 46,
      "outputs": [
        {
          "output_type": "execute_result",
          "data": {
            "text/plain": [
              "True"
            ]
          },
          "metadata": {},
          "execution_count": 46
        }
      ]
    },
    {
      "cell_type": "code",
      "source": [
        "makes_twenty(12,8)"
      ],
      "metadata": {
        "colab": {
          "base_uri": "https://localhost:8080/"
        },
        "id": "xziULbnITcZI",
        "outputId": "93232625-add6-4e23-8e74-8bc320af4ee9"
      },
      "execution_count": 47,
      "outputs": [
        {
          "output_type": "execute_result",
          "data": {
            "text/plain": [
              "True"
            ]
          },
          "metadata": {},
          "execution_count": 47
        }
      ]
    },
    {
      "cell_type": "code",
      "source": [
        "makes_twenty(2,3)"
      ],
      "metadata": {
        "colab": {
          "base_uri": "https://localhost:8080/"
        },
        "id": "fSOCyzjUTgz6",
        "outputId": "d5b9b0d6-9c3e-4b74-f3b1-ecd6dff7fbf2"
      },
      "execution_count": 48,
      "outputs": [
        {
          "output_type": "execute_result",
          "data": {
            "text/plain": [
              "False"
            ]
          },
          "metadata": {},
          "execution_count": 48
        }
      ]
    },
    {
      "cell_type": "code",
      "source": [
        "def other_side_of_seven(num):\n",
        "  x = num - 7\n",
        "  return 7 - x * 2"
      ],
      "metadata": {
        "id": "wgx8g6jcH5IW"
      },
      "execution_count": 7,
      "outputs": []
    },
    {
      "cell_type": "code",
      "source": [
        "other_side_of_seven(4)"
      ],
      "metadata": {
        "colab": {
          "base_uri": "https://localhost:8080/"
        },
        "id": "ESc-TnTdIwji",
        "outputId": "526d431c-6701-4db9-d530-9cfae945900c"
      },
      "execution_count": 8,
      "outputs": [
        {
          "output_type": "execute_result",
          "data": {
            "text/plain": [
              "13"
            ]
          },
          "metadata": {},
          "execution_count": 8
        }
      ]
    },
    {
      "cell_type": "code",
      "source": [
        "other_side_of_seven(12)"
      ],
      "metadata": {
        "colab": {
          "base_uri": "https://localhost:8080/"
        },
        "id": "4Xbe94bmIz6c",
        "outputId": "5bb9c9ba-968b-40f0-c4fa-97544c2e3750"
      },
      "execution_count": 9,
      "outputs": [
        {
          "output_type": "execute_result",
          "data": {
            "text/plain": [
              "-3"
            ]
          },
          "metadata": {},
          "execution_count": 9
        }
      ]
    },
    {
      "cell_type": "markdown",
      "source": [
        "Level 1 Problems"
      ],
      "metadata": {
        "id": "VYo21k_3UBwU"
      }
    },
    {
      "cell_type": "code",
      "source": [
        "# .capitalize() only works for the initial\n",
        "def old_macdonald(name):\n",
        "  return name[0].upper() + name[1:3] + name[3].upper() + name[4:]\n",
        "# return name[:3].capitalize() + name[3:].capitalize()"
      ],
      "metadata": {
        "id": "p8g09WkvI33V"
      },
      "execution_count": 20,
      "outputs": []
    },
    {
      "cell_type": "code",
      "source": [
        "old_macdonald('macdonald')"
      ],
      "metadata": {
        "colab": {
          "base_uri": "https://localhost:8080/",
          "height": 35
        },
        "id": "D9fuDSjHKHJj",
        "outputId": "7b520d86-604b-4464-a771-c8d5fa232ed7"
      },
      "execution_count": 19,
      "outputs": [
        {
          "output_type": "execute_result",
          "data": {
            "text/plain": [
              "'MacDonald'"
            ],
            "application/vnd.google.colaboratory.intrinsic+json": {
              "type": "string"
            }
          },
          "metadata": {},
          "execution_count": 19
        }
      ]
    },
    {
      "cell_type": "code",
      "source": [
        "def master_yoda(text):\n",
        "  word = text.split()\n",
        "  return ' '.join(word[::-1])"
      ],
      "metadata": {
        "id": "6A9JS3yDMIOZ"
      },
      "execution_count": 23,
      "outputs": []
    },
    {
      "cell_type": "code",
      "source": [
        "master_yoda('I am home')"
      ],
      "metadata": {
        "colab": {
          "base_uri": "https://localhost:8080/",
          "height": 35
        },
        "id": "BdOF6eAcNR4v",
        "outputId": "fc4c3101-73e6-4b3a-ace0-f15525b49d52"
      },
      "execution_count": 24,
      "outputs": [
        {
          "output_type": "execute_result",
          "data": {
            "text/plain": [
              "'home am I'"
            ],
            "application/vnd.google.colaboratory.intrinsic+json": {
              "type": "string"
            }
          },
          "metadata": {},
          "execution_count": 24
        }
      ]
    },
    {
      "cell_type": "code",
      "source": [
        "master_yoda('We are ready')"
      ],
      "metadata": {
        "colab": {
          "base_uri": "https://localhost:8080/",
          "height": 35
        },
        "id": "kiWicX30NW5b",
        "outputId": "5bc35c3f-10c4-4e20-94d2-283ab148c001"
      },
      "execution_count": 25,
      "outputs": [
        {
          "output_type": "execute_result",
          "data": {
            "text/plain": [
              "'ready are We'"
            ],
            "application/vnd.google.colaboratory.intrinsic+json": {
              "type": "string"
            }
          },
          "metadata": {},
          "execution_count": 25
        }
      ]
    },
    {
      "cell_type": "code",
      "source": [
        "def almost_there(n):\n",
        "  return abs(n - 100) <= 10 or abs(n - 200) <= 10"
      ],
      "metadata": {
        "id": "QqGCqma2Npdb"
      },
      "execution_count": 26,
      "outputs": []
    },
    {
      "cell_type": "code",
      "source": [
        "almost_there(90)"
      ],
      "metadata": {
        "colab": {
          "base_uri": "https://localhost:8080/"
        },
        "id": "Y-wnYrKoOVHC",
        "outputId": "a07c9c76-5988-40cf-ddca-1c874b76dae5"
      },
      "execution_count": 27,
      "outputs": [
        {
          "output_type": "execute_result",
          "data": {
            "text/plain": [
              "True"
            ]
          },
          "metadata": {},
          "execution_count": 27
        }
      ]
    },
    {
      "cell_type": "code",
      "source": [
        "almost_there(104)"
      ],
      "metadata": {
        "colab": {
          "base_uri": "https://localhost:8080/"
        },
        "id": "ruUBTD0oOYE1",
        "outputId": "ab0defcd-835a-4630-ffbb-ee3978a346a8"
      },
      "execution_count": 28,
      "outputs": [
        {
          "output_type": "execute_result",
          "data": {
            "text/plain": [
              "True"
            ]
          },
          "metadata": {},
          "execution_count": 28
        }
      ]
    },
    {
      "cell_type": "code",
      "source": [
        "almost_there(150)"
      ],
      "metadata": {
        "colab": {
          "base_uri": "https://localhost:8080/"
        },
        "id": "8FLQKlXXOaY4",
        "outputId": "07d0ec7d-00a2-41f5-d234-a8a3a9cdd1e7"
      },
      "execution_count": 29,
      "outputs": [
        {
          "output_type": "execute_result",
          "data": {
            "text/plain": [
              "False"
            ]
          },
          "metadata": {},
          "execution_count": 29
        }
      ]
    },
    {
      "cell_type": "code",
      "source": [
        "almost_there(209)"
      ],
      "metadata": {
        "colab": {
          "base_uri": "https://localhost:8080/"
        },
        "id": "qAQU7TFqOdD3",
        "outputId": "d0208e25-5649-4fc6-9711-b3e17bb41560"
      },
      "execution_count": 30,
      "outputs": [
        {
          "output_type": "execute_result",
          "data": {
            "text/plain": [
              "True"
            ]
          },
          "metadata": {},
          "execution_count": 30
        }
      ]
    },
    {
      "cell_type": "markdown",
      "source": [
        "Level 2 Problems"
      ],
      "metadata": {
        "id": "Z6EcPX0DVJLV"
      }
    },
    {
      "cell_type": "code",
      "source": [
        "def laughter(pattern,text):\n",
        "  num = 0\n",
        "  for i,letter in enumerate(text):\n",
        "    if pattern == text[i:i+len(pattern)]:\n",
        "      num += 1\n",
        "  return num"
      ],
      "metadata": {
        "id": "EZu_9qrAOsKY"
      },
      "execution_count": 37,
      "outputs": []
    },
    {
      "cell_type": "code",
      "source": [
        "laughter('hah','hahahah')"
      ],
      "metadata": {
        "colab": {
          "base_uri": "https://localhost:8080/"
        },
        "id": "ID8R7y1XQ6Q1",
        "outputId": "b5ce1342-10b2-43c8-8faa-437a9818eb5f"
      },
      "execution_count": 38,
      "outputs": [
        {
          "output_type": "execute_result",
          "data": {
            "text/plain": [
              "3"
            ]
          },
          "metadata": {},
          "execution_count": 38
        }
      ]
    },
    {
      "cell_type": "code",
      "source": [
        "def has_33(nums):\n",
        "  for i in range(0,len(nums)-1):\n",
        "    if nums[i] == nums[i+1] == 3: # nums[i:i+1] == [3,3]\n",
        "      return True\n",
        "  return False"
      ],
      "metadata": {
        "id": "s4xlFMvBRDe3"
      },
      "execution_count": 17,
      "outputs": []
    },
    {
      "cell_type": "code",
      "source": [
        "has_33([1,3,3])"
      ],
      "metadata": {
        "colab": {
          "base_uri": "https://localhost:8080/"
        },
        "id": "2TvdLLciKOIs",
        "outputId": "d50dd259-fa2f-40cf-9de7-97f470c62dab"
      },
      "execution_count": 18,
      "outputs": [
        {
          "output_type": "execute_result",
          "data": {
            "text/plain": [
              "True"
            ]
          },
          "metadata": {},
          "execution_count": 18
        }
      ]
    },
    {
      "cell_type": "code",
      "source": [
        "has_33([1,3,1,3])"
      ],
      "metadata": {
        "colab": {
          "base_uri": "https://localhost:8080/"
        },
        "id": "v5k1aK6PKTNY",
        "outputId": "9990a607-8002-4501-f19f-2a3940c2cbef"
      },
      "execution_count": 19,
      "outputs": [
        {
          "output_type": "execute_result",
          "data": {
            "text/plain": [
              "False"
            ]
          },
          "metadata": {},
          "execution_count": 19
        }
      ]
    },
    {
      "cell_type": "code",
      "source": [
        "has_33([3,1,3])"
      ],
      "metadata": {
        "colab": {
          "base_uri": "https://localhost:8080/"
        },
        "id": "hC3bF-_sKWgw",
        "outputId": "7bcc0b4d-bc07-4234-9e1f-f49116358760"
      },
      "execution_count": 20,
      "outputs": [
        {
          "output_type": "execute_result",
          "data": {
            "text/plain": [
              "False"
            ]
          },
          "metadata": {},
          "execution_count": 20
        }
      ]
    },
    {
      "cell_type": "code",
      "source": [
        "def paper_doll(text):\n",
        "  result = ''\n",
        "  for letter in text:\n",
        "    result += letter * 3\n",
        "  return result"
      ],
      "metadata": {
        "id": "_HeNF1BjLd2L"
      },
      "execution_count": 25,
      "outputs": []
    },
    {
      "cell_type": "code",
      "source": [
        "paper_doll('Hello')"
      ],
      "metadata": {
        "colab": {
          "base_uri": "https://localhost:8080/",
          "height": 35
        },
        "id": "TTxpbz1MLz3O",
        "outputId": "a48b5f18-13c3-44e3-9636-638e3090e150"
      },
      "execution_count": 26,
      "outputs": [
        {
          "output_type": "execute_result",
          "data": {
            "text/plain": [
              "'HHHeeellllllooo'"
            ],
            "application/vnd.google.colaboratory.intrinsic+json": {
              "type": "string"
            }
          },
          "metadata": {},
          "execution_count": 26
        }
      ]
    },
    {
      "cell_type": "code",
      "source": [
        "paper_doll('Mississippi')"
      ],
      "metadata": {
        "colab": {
          "base_uri": "https://localhost:8080/",
          "height": 35
        },
        "id": "wy_BlQfdL3cB",
        "outputId": "b6b55f1d-3483-43b4-c006-1a33ae0ebdeb"
      },
      "execution_count": 27,
      "outputs": [
        {
          "output_type": "execute_result",
          "data": {
            "text/plain": [
              "'MMMiiissssssiiissssssiiippppppiii'"
            ],
            "application/vnd.google.colaboratory.intrinsic+json": {
              "type": "string"
            }
          },
          "metadata": {},
          "execution_count": 27
        }
      ]
    },
    {
      "cell_type": "code",
      "source": [
        "def blackjack(a,b,c):\n",
        "  sum = a + b + c\n",
        "  if sum <= 21:\n",
        "    return sum\n",
        "  elif sum > 21 and 11 in [a,b,c]:\n",
        "    return sum - 10\n",
        "  else:\n",
        "    return 'BUST'\n",
        "# sum([a,b,c]) works and sum(a,b,c) won't work\n",
        "# sum(iterable, start=0)"
      ],
      "metadata": {
        "id": "Ggf25CnUL93I"
      },
      "execution_count": 3,
      "outputs": []
    },
    {
      "cell_type": "code",
      "source": [
        "blackjack(5,6,7)"
      ],
      "metadata": {
        "colab": {
          "base_uri": "https://localhost:8080/"
        },
        "id": "sffJhJBOWyPg",
        "outputId": "da5f5ff6-f7b0-46af-9c99-abbbe6d3e014"
      },
      "execution_count": 4,
      "outputs": [
        {
          "output_type": "execute_result",
          "data": {
            "text/plain": [
              "18"
            ]
          },
          "metadata": {},
          "execution_count": 4
        }
      ]
    },
    {
      "cell_type": "code",
      "source": [
        "blackjack(9,9,9)"
      ],
      "metadata": {
        "colab": {
          "base_uri": "https://localhost:8080/",
          "height": 35
        },
        "id": "2nbb8V-IYHij",
        "outputId": "cad969e1-4161-4ddf-8a81-15841c7121ea"
      },
      "execution_count": 5,
      "outputs": [
        {
          "output_type": "execute_result",
          "data": {
            "text/plain": [
              "'BUST'"
            ],
            "application/vnd.google.colaboratory.intrinsic+json": {
              "type": "string"
            }
          },
          "metadata": {},
          "execution_count": 5
        }
      ]
    },
    {
      "cell_type": "code",
      "source": [
        "blackjack(9,9,11)"
      ],
      "metadata": {
        "colab": {
          "base_uri": "https://localhost:8080/"
        },
        "id": "0NyyoCMzYY5s",
        "outputId": "a5bc7835-2fb6-4dfb-a512-f117bb630548"
      },
      "execution_count": 6,
      "outputs": [
        {
          "output_type": "execute_result",
          "data": {
            "text/plain": [
              "19"
            ]
          },
          "metadata": {},
          "execution_count": 6
        }
      ]
    },
    {
      "cell_type": "code",
      "source": [
        "def summer_69(arr):\n",
        "  total = 0\n",
        "  add = True\n",
        "\n",
        "  for num in arr:\n",
        "    while add:\n",
        "      if num != 6:\n",
        "        total += num\n",
        "        break\n",
        "      else:\n",
        "        add = False\n",
        "    while not add:\n",
        "      if num != 9:\n",
        "        break\n",
        "      else:\n",
        "        add = True\n",
        "        break\n",
        "  return total"
      ],
      "metadata": {
        "id": "KyEXbsEXYcFF"
      },
      "execution_count": 7,
      "outputs": []
    },
    {
      "cell_type": "code",
      "source": [
        "summer_69([1,3,5])"
      ],
      "metadata": {
        "colab": {
          "base_uri": "https://localhost:8080/"
        },
        "id": "BXisKZx0bypm",
        "outputId": "f9b41245-cc3b-4f48-a75c-dda353880c16"
      },
      "execution_count": 8,
      "outputs": [
        {
          "output_type": "execute_result",
          "data": {
            "text/plain": [
              "9"
            ]
          },
          "metadata": {},
          "execution_count": 8
        }
      ]
    },
    {
      "cell_type": "code",
      "source": [
        "summer_69([4,5,6,7,8,9])"
      ],
      "metadata": {
        "colab": {
          "base_uri": "https://localhost:8080/"
        },
        "id": "ahwfDmMzbyep",
        "outputId": "5bd2054b-401e-4ae8-b384-488439c6094e"
      },
      "execution_count": 9,
      "outputs": [
        {
          "output_type": "execute_result",
          "data": {
            "text/plain": [
              "9"
            ]
          },
          "metadata": {},
          "execution_count": 9
        }
      ]
    },
    {
      "cell_type": "code",
      "source": [
        "summer_69([2,1,6,9,11])"
      ],
      "metadata": {
        "colab": {
          "base_uri": "https://localhost:8080/"
        },
        "id": "bm1S8WSTbyOi",
        "outputId": "4bbf2d01-9f32-4270-8873-ac41c8a99172"
      },
      "execution_count": 10,
      "outputs": [
        {
          "output_type": "execute_result",
          "data": {
            "text/plain": [
              "14"
            ]
          },
          "metadata": {},
          "execution_count": 10
        }
      ]
    },
    {
      "cell_type": "code",
      "source": [],
      "metadata": {
        "id": "XwSS6-5sctpi"
      },
      "execution_count": null,
      "outputs": []
    }
  ]
}