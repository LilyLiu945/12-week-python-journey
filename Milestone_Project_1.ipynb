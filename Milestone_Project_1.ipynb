{
  "nbformat": 4,
  "nbformat_minor": 0,
  "metadata": {
    "colab": {
      "provenance": [],
      "authorship_tag": "ABX9TyOvWJcD8qIqti2atLQA/FHO",
      "include_colab_link": true
    },
    "kernelspec": {
      "name": "python3",
      "display_name": "Python 3"
    },
    "language_info": {
      "name": "python"
    }
  },
  "cells": [
    {
      "cell_type": "markdown",
      "metadata": {
        "id": "view-in-github",
        "colab_type": "text"
      },
      "source": [
        "<a href=\"https://colab.research.google.com/github/LilyLiu945/12-week-python-journey/blob/main/Milestone_Project_1.ipynb\" target=\"_parent\"><img src=\"https://colab.research.google.com/assets/colab-badge.svg\" alt=\"Open In Colab\"/></a>"
      ]
    },
    {
      "cell_type": "markdown",
      "source": [
        "Warm-up"
      ],
      "metadata": {
        "id": "_CL0heqjr6TF"
      }
    },
    {
      "cell_type": "markdown",
      "source": [
        "Display Information"
      ],
      "metadata": {
        "id": "JH1AGV6_srnU"
      }
    },
    {
      "cell_type": "code",
      "execution_count": null,
      "metadata": {
        "colab": {
          "base_uri": "https://localhost:8080/"
        },
        "id": "Zdz7JpV_raqT",
        "outputId": "e0d93a03-0329-40d9-8e71-80b5e3c11d65"
      },
      "outputs": [
        {
          "output_type": "stream",
          "name": "stdout",
          "text": [
            "[1, 2, 3]\n"
          ]
        }
      ],
      "source": [
        "print([1,2,3])"
      ]
    },
    {
      "cell_type": "code",
      "source": [
        "print([1,2,3])\n",
        "print([4,5,6])\n",
        "print([7,8,9])"
      ],
      "metadata": {
        "colab": {
          "base_uri": "https://localhost:8080/"
        },
        "id": "bGZpr_Hss1Gt",
        "outputId": "ac898878-630c-460f-ec44-5de7e58fb8d9"
      },
      "execution_count": null,
      "outputs": [
        {
          "output_type": "stream",
          "name": "stdout",
          "text": [
            "[1, 2, 3]\n",
            "[4, 5, 6]\n",
            "[7, 8, 9]\n"
          ]
        }
      ]
    },
    {
      "cell_type": "code",
      "source": [
        "def display(row1,row2,row3):\n",
        "  print(row1)\n",
        "  print(row2)\n",
        "  print(row3)"
      ],
      "metadata": {
        "id": "HM9cXG5hs4GV"
      },
      "execution_count": null,
      "outputs": []
    },
    {
      "cell_type": "code",
      "source": [
        "row1 = [' ',' ',' ']\n",
        "row2 = [' ',' ',' ']\n",
        "row3 = [' ',' ',' ']\n",
        "display(row1,row2,row3)"
      ],
      "metadata": {
        "colab": {
          "base_uri": "https://localhost:8080/"
        },
        "id": "c_NudYHwtHUt",
        "outputId": "08c3affa-ba1b-4ed6-f44f-f1f804cf6db7"
      },
      "execution_count": null,
      "outputs": [
        {
          "output_type": "stream",
          "name": "stdout",
          "text": [
            "[' ', ' ', ' ']\n",
            "[' ', ' ', ' ']\n",
            "[' ', ' ', ' ']\n"
          ]
        }
      ]
    },
    {
      "cell_type": "code",
      "source": [
        "row2[1] = 'X'"
      ],
      "metadata": {
        "id": "irJ_jGUZtO4s"
      },
      "execution_count": null,
      "outputs": []
    },
    {
      "cell_type": "code",
      "source": [
        "display(row1,row2,row3)"
      ],
      "metadata": {
        "colab": {
          "base_uri": "https://localhost:8080/"
        },
        "id": "G0V_oS17tlsF",
        "outputId": "61745560-e333-4e07-e1d4-b2f631261895"
      },
      "execution_count": null,
      "outputs": [
        {
          "output_type": "stream",
          "name": "stdout",
          "text": [
            "[' ', ' ', ' ']\n",
            "[' ', 'X', ' ']\n",
            "[' ', ' ', ' ']\n"
          ]
        }
      ]
    },
    {
      "cell_type": "markdown",
      "source": [
        "Accepting User Input"
      ],
      "metadata": {
        "id": "kPZpSygdvfjM"
      }
    },
    {
      "cell_type": "code",
      "source": [
        "input(\"Please enter a value: \")"
      ],
      "metadata": {
        "colab": {
          "base_uri": "https://localhost:8080/",
          "height": 53
        },
        "id": "Gc_dasN0vIgy",
        "outputId": "b3dc374b-f206-46f2-ae91-5654f1b8a3ea"
      },
      "execution_count": null,
      "outputs": [
        {
          "name": "stdout",
          "output_type": "stream",
          "text": [
            "Please enter a value: 2\n"
          ]
        },
        {
          "output_type": "execute_result",
          "data": {
            "text/plain": [
              "'2'"
            ],
            "application/vnd.google.colaboratory.intrinsic+json": {
              "type": "string"
            }
          },
          "metadata": {},
          "execution_count": 9
        }
      ]
    },
    {
      "cell_type": "code",
      "source": [
        "result = input(\"Please enter a value: \")"
      ],
      "metadata": {
        "colab": {
          "base_uri": "https://localhost:8080/"
        },
        "id": "j9vTHhkbvvVN",
        "outputId": "65c7a5da-7310-4844-d600-4bc407cdc2cc"
      },
      "execution_count": null,
      "outputs": [
        {
          "name": "stdout",
          "output_type": "stream",
          "text": [
            "Please enter a value: 2\n"
          ]
        }
      ]
    },
    {
      "cell_type": "code",
      "source": [
        "result\n",
        "# whatever you enter it will be a string"
      ],
      "metadata": {
        "colab": {
          "base_uri": "https://localhost:8080/",
          "height": 35
        },
        "id": "GsxRVDoIv21i",
        "outputId": "304152f0-40c3-4c01-def8-4df7fa7ace5b"
      },
      "execution_count": null,
      "outputs": [
        {
          "output_type": "execute_result",
          "data": {
            "text/plain": [
              "'2'"
            ],
            "application/vnd.google.colaboratory.intrinsic+json": {
              "type": "string"
            }
          },
          "metadata": {},
          "execution_count": 11
        }
      ]
    },
    {
      "cell_type": "code",
      "source": [
        "result_int = int(result)"
      ],
      "metadata": {
        "id": "RWwtCCvfv4Sc"
      },
      "execution_count": null,
      "outputs": []
    },
    {
      "cell_type": "code",
      "source": [
        "type(result)"
      ],
      "metadata": {
        "colab": {
          "base_uri": "https://localhost:8080/"
        },
        "id": "0ObCKD7ywJQC",
        "outputId": "a300c4f9-e953-4e9b-f30f-d12b95375a58"
      },
      "execution_count": null,
      "outputs": [
        {
          "output_type": "execute_result",
          "data": {
            "text/plain": [
              "str"
            ]
          },
          "metadata": {},
          "execution_count": 13
        }
      ]
    },
    {
      "cell_type": "code",
      "source": [
        "type(result_int)"
      ],
      "metadata": {
        "colab": {
          "base_uri": "https://localhost:8080/"
        },
        "id": "0F0CTzFSwMM5",
        "outputId": "88de3e8a-c5df-4f2b-9faf-aa87c1f55e52"
      },
      "execution_count": null,
      "outputs": [
        {
          "output_type": "execute_result",
          "data": {
            "text/plain": [
              "int"
            ]
          },
          "metadata": {},
          "execution_count": 14
        }
      ]
    },
    {
      "cell_type": "code",
      "source": [
        "type(2.3)"
      ],
      "metadata": {
        "colab": {
          "base_uri": "https://localhost:8080/"
        },
        "id": "kg5VZhoCwOzj",
        "outputId": "54912cf7-e3cb-4113-a638-79a531f0df82"
      },
      "execution_count": null,
      "outputs": [
        {
          "output_type": "execute_result",
          "data": {
            "text/plain": [
              "float"
            ]
          },
          "metadata": {},
          "execution_count": 15
        }
      ]
    },
    {
      "cell_type": "code",
      "source": [
        "float('3.14')"
      ],
      "metadata": {
        "colab": {
          "base_uri": "https://localhost:8080/"
        },
        "id": "MG0IlkemwRSj",
        "outputId": "3cba93ab-4a7f-44a6-a39b-502c92a29e9d"
      },
      "execution_count": null,
      "outputs": [
        {
          "output_type": "execute_result",
          "data": {
            "text/plain": [
              "3.14"
            ]
          },
          "metadata": {},
          "execution_count": 16
        }
      ]
    },
    {
      "cell_type": "code",
      "source": [
        "position_index = int(input(\"Choose an index position: \"))"
      ],
      "metadata": {
        "colab": {
          "base_uri": "https://localhost:8080/"
        },
        "id": "sKeUV_xkwUyU",
        "outputId": "1fc7e27f-e126-433e-bef3-31af95870e8c"
      },
      "execution_count": null,
      "outputs": [
        {
          "name": "stdout",
          "output_type": "stream",
          "text": [
            "Choose an index position: 2\n"
          ]
        }
      ]
    },
    {
      "cell_type": "code",
      "source": [
        "type(position_index)"
      ],
      "metadata": {
        "colab": {
          "base_uri": "https://localhost:8080/"
        },
        "id": "D17-iZgbwakJ",
        "outputId": "9093fede-0a8f-470d-b468-3f5af05beabe"
      },
      "execution_count": null,
      "outputs": [
        {
          "output_type": "execute_result",
          "data": {
            "text/plain": [
              "int"
            ]
          },
          "metadata": {},
          "execution_count": 26
        }
      ]
    },
    {
      "cell_type": "code",
      "source": [
        "row2[position_index]"
      ],
      "metadata": {
        "colab": {
          "base_uri": "https://localhost:8080/",
          "height": 35
        },
        "id": "Y0OwVmGRwkUV",
        "outputId": "c6d56ce5-8a9d-4fb4-e707-f60b1346da49"
      },
      "execution_count": null,
      "outputs": [
        {
          "output_type": "execute_result",
          "data": {
            "text/plain": [
              "' '"
            ],
            "application/vnd.google.colaboratory.intrinsic+json": {
              "type": "string"
            }
          },
          "metadata": {},
          "execution_count": 23
        }
      ]
    },
    {
      "cell_type": "code",
      "source": [
        "result = input(\"Enter a number: \")"
      ],
      "metadata": {
        "colab": {
          "base_uri": "https://localhost:8080/"
        },
        "id": "XJsndPwFwzfj",
        "outputId": "f9f0ba88-3b74-4486-ecbb-41ead9b4e3d6"
      },
      "execution_count": null,
      "outputs": [
        {
          "name": "stdout",
          "output_type": "stream",
          "text": [
            "Enter a number: 3\n"
          ]
        }
      ]
    },
    {
      "cell_type": "code",
      "source": [
        "2+2"
      ],
      "metadata": {
        "colab": {
          "base_uri": "https://localhost:8080/"
        },
        "id": "ye8TBUHmxOSI",
        "outputId": "9fb25de7-78fe-4980-a187-959750f3b717"
      },
      "execution_count": null,
      "outputs": [
        {
          "output_type": "execute_result",
          "data": {
            "text/plain": [
              "4"
            ]
          },
          "metadata": {},
          "execution_count": 28
        }
      ]
    },
    {
      "cell_type": "code",
      "source": [
        "input(\"Enter number: \")"
      ],
      "metadata": {
        "colab": {
          "base_uri": "https://localhost:8080/",
          "height": 53
        },
        "id": "IRBP0fSSxQZx",
        "outputId": "c0db9333-0b81-4d7c-a776-afb73a65ab72"
      },
      "execution_count": null,
      "outputs": [
        {
          "name": "stdout",
          "output_type": "stream",
          "text": [
            "Enter number: \n"
          ]
        },
        {
          "output_type": "execute_result",
          "data": {
            "text/plain": [
              "''"
            ],
            "application/vnd.google.colaboratory.intrinsic+json": {
              "type": "string"
            }
          },
          "metadata": {},
          "execution_count": 30
        }
      ]
    },
    {
      "cell_type": "markdown",
      "source": [
        "Validating User Input"
      ],
      "metadata": {
        "id": "kH2FgvqSxqiE"
      }
    },
    {
      "cell_type": "code",
      "source": [
        "def user_choice():\n",
        "\n",
        "  choice = input(\"Please enter a number (0-10): \")\n",
        "\n",
        "  return int(choice)"
      ],
      "metadata": {
        "id": "EJRS3lzhxhk-"
      },
      "execution_count": null,
      "outputs": []
    },
    {
      "cell_type": "code",
      "source": [
        "user_choice()"
      ],
      "metadata": {
        "colab": {
          "base_uri": "https://localhost:8080/"
        },
        "id": "bQ3geDuo3exq",
        "outputId": "666d647d-c9c8-46d1-c0a9-094ac4dc5157"
      },
      "execution_count": null,
      "outputs": [
        {
          "name": "stdout",
          "output_type": "stream",
          "text": [
            "Please enter a number (0-10): 9\n"
          ]
        },
        {
          "output_type": "execute_result",
          "data": {
            "text/plain": [
              "9"
            ]
          },
          "metadata": {},
          "execution_count": 33
        }
      ]
    },
    {
      "cell_type": "code",
      "source": [
        "some_value = '100'"
      ],
      "metadata": {
        "id": "c4_qfMe63g4b"
      },
      "execution_count": null,
      "outputs": []
    },
    {
      "cell_type": "code",
      "source": [
        "some_value.isdigit()"
      ],
      "metadata": {
        "colab": {
          "base_uri": "https://localhost:8080/"
        },
        "id": "QRxVj8rw6hGf",
        "outputId": "e7ee35b1-4159-487f-9c7c-6b682d3eae9d"
      },
      "execution_count": null,
      "outputs": [
        {
          "output_type": "execute_result",
          "data": {
            "text/plain": [
              "True"
            ]
          },
          "metadata": {},
          "execution_count": 35
        }
      ]
    },
    {
      "cell_type": "code",
      "source": [
        "def user_choice():\n",
        "\n",
        "  choice = 'WRONG'\n",
        "\n",
        "  while choice.isdigit() == False:\n",
        "\n",
        "    choice = input(\"Please enter a number (0-10): \")\n",
        "\n",
        "    if choice.isdigit() == False:\n",
        "      print(\"Sorry that is not a digit!\")\n",
        "\n",
        "  return int(choice)"
      ],
      "metadata": {
        "id": "QftlREAT6j2p"
      },
      "execution_count": null,
      "outputs": []
    },
    {
      "cell_type": "code",
      "source": [
        "user_choice()"
      ],
      "metadata": {
        "colab": {
          "base_uri": "https://localhost:8080/"
        },
        "id": "HvwEtTt07Uvp",
        "outputId": "26092725-feb5-4384-8d05-989fca77c11c"
      },
      "execution_count": null,
      "outputs": [
        {
          "name": "stdout",
          "output_type": "stream",
          "text": [
            "Please enter a number (0-10): two\n",
            "Sorry that is not a digit!\n",
            "Please enter a number (0-10): 2\n"
          ]
        },
        {
          "output_type": "execute_result",
          "data": {
            "text/plain": [
              "2"
            ]
          },
          "metadata": {},
          "execution_count": 39
        }
      ]
    },
    {
      "cell_type": "code",
      "source": [
        "def user_choice():\n",
        "  # Variable\n",
        "  # Initial\n",
        "  choice = 'WRONG'\n",
        "  acceptable_range = range(0,10)\n",
        "  within_range = False\n",
        "\n",
        "  # Two conditions to check\n",
        "  while choice.isdigit() == False or within_range == False:\n",
        "\n",
        "    choice = input(\"Please enter a number (0-10): \")\n",
        "\n",
        "    # Digit Check\n",
        "    if choice.isdigit() == False:\n",
        "      print(\"Sorry that is not a digit!\")\n",
        "\n",
        "    # Range Check\n",
        "    if choice.isdigit() == True:\n",
        "    # The two IFs are logically independent\n",
        "      if int(choice) in acceptable_range:\n",
        "        within_range = True\n",
        "      else:\n",
        "        print(\"Sorry you are out of acceptable range (0-10)\")\n",
        "        within_range = False\n",
        "\n",
        "  return int(choice)"
      ],
      "metadata": {
        "id": "VyILxMSr7UZV"
      },
      "execution_count": null,
      "outputs": []
    },
    {
      "cell_type": "code",
      "source": [
        "user_choice()"
      ],
      "metadata": {
        "colab": {
          "base_uri": "https://localhost:8080/"
        },
        "id": "3mNEk5zO8yq2",
        "outputId": "44b280c6-2d16-49cd-afa3-498c6096f8a3"
      },
      "execution_count": null,
      "outputs": [
        {
          "name": "stdout",
          "output_type": "stream",
          "text": [
            "Please enter a number (0-10): two\n",
            "Sorry that is not a digit!\n",
            "Please enter a number (0-10): 200\n",
            "Sorry you are out of acceptable range (0-10)\n",
            "Please enter a number (0-10): 3\n"
          ]
        },
        {
          "output_type": "execute_result",
          "data": {
            "text/plain": [
              "3"
            ]
          },
          "metadata": {},
          "execution_count": 41
        }
      ]
    },
    {
      "cell_type": "markdown",
      "source": [
        "Simple User Interaction"
      ],
      "metadata": {
        "id": "Q1AMx2S1-_dB"
      }
    },
    {
      "cell_type": "code",
      "source": [
        "game_list = [0,1,2]"
      ],
      "metadata": {
        "id": "Wo1RN-ch_OzN"
      },
      "execution_count": null,
      "outputs": []
    },
    {
      "cell_type": "code",
      "source": [
        "def display_game(game_list):\n",
        "  print(\"Here is the current list: \")\n",
        "  print(game_list)"
      ],
      "metadata": {
        "id": "CIJ1kGyOXWQG"
      },
      "execution_count": null,
      "outputs": []
    },
    {
      "cell_type": "code",
      "source": [
        "display_game(game_list)"
      ],
      "metadata": {
        "colab": {
          "base_uri": "https://localhost:8080/"
        },
        "id": "y5RMRGDyXl4W",
        "outputId": "e8db83ce-3fc2-47a3-b327-d2ad123186be"
      },
      "execution_count": null,
      "outputs": [
        {
          "output_type": "stream",
          "name": "stdout",
          "text": [
            "Here is the current list: \n",
            "[0, 1, 2]\n"
          ]
        }
      ]
    },
    {
      "cell_type": "code",
      "source": [
        "def position_choice():\n",
        "\n",
        "  choice = 'wrong'\n",
        "\n",
        "  while choice not in ['0','1','2']:\n",
        "\n",
        "    choice = input(\"Pick a position (0,1,2): \")\n",
        "\n",
        "    if choice not in ['0','1','2']:\n",
        "      print(\"Sorry, invalid choice!\")\n",
        "\n",
        "  return int(choice)"
      ],
      "metadata": {
        "id": "GRnR2FOUXoo3"
      },
      "execution_count": null,
      "outputs": []
    },
    {
      "cell_type": "code",
      "source": [
        "position_choice()"
      ],
      "metadata": {
        "colab": {
          "base_uri": "https://localhost:8080/"
        },
        "id": "nkLkX1tSLj8o",
        "outputId": "2fc18402-6159-4861-b39d-1c1a15ed1406"
      },
      "execution_count": null,
      "outputs": [
        {
          "name": "stdout",
          "output_type": "stream",
          "text": [
            "Pick a position (0,1,2): 1\n"
          ]
        },
        {
          "output_type": "execute_result",
          "data": {
            "text/plain": [
              "1"
            ]
          },
          "metadata": {},
          "execution_count": 12
        }
      ]
    },
    {
      "cell_type": "code",
      "source": [
        "def replacement_choice(game_list,position):\n",
        "\n",
        "  user_placement = input(\"Type a string to place at position:\")\n",
        "\n",
        "  game_list[position] = user_placement\n",
        "\n",
        "  return game_list"
      ],
      "metadata": {
        "id": "ByIPMCmhLne1"
      },
      "execution_count": null,
      "outputs": []
    },
    {
      "cell_type": "code",
      "source": [
        "def gameon_choice():\n",
        "\n",
        "  choice = 'wrong'\n",
        "\n",
        "  while choice not in ['Y','N']:\n",
        "\n",
        "    choice = input(\"Keep playing? (Y or N) \")\n",
        "\n",
        "    if choice not in ['Y','N']:\n",
        "      print(\"Sorry, please choose Y or N\")\n",
        "\n",
        "  if choice == \"Y\":\n",
        "    return True\n",
        "  else:\n",
        "    return False"
      ],
      "metadata": {
        "id": "W5-JVOENMKxN"
      },
      "execution_count": null,
      "outputs": []
    },
    {
      "cell_type": "code",
      "source": [
        "gameon_choice()"
      ],
      "metadata": {
        "colab": {
          "base_uri": "https://localhost:8080/"
        },
        "id": "fJwxtQ4yOQSA",
        "outputId": "6b41833a-58b1-4388-c4aa-bd57be2cb6ac"
      },
      "execution_count": null,
      "outputs": [
        {
          "name": "stdout",
          "output_type": "stream",
          "text": [
            "Keep playing? (Y or N) y\n",
            "Sorry, please choose Y or N\n",
            "Keep playing? (Y or N) Y\n"
          ]
        },
        {
          "output_type": "execute_result",
          "data": {
            "text/plain": [
              "True"
            ]
          },
          "metadata": {},
          "execution_count": 16
        }
      ]
    },
    {
      "cell_type": "code",
      "source": [
        "game_on = True\n",
        "game_list = [0,1,2]\n",
        "\n",
        "while game_on:\n",
        "\n",
        "  display_game(game_list)\n",
        "\n",
        "  position = position_choice()\n",
        "\n",
        "  game_list = replacement_choice(game_list,position)\n",
        "\n",
        "  display_game(game_list)\n",
        "\n",
        "  game_on = gameon_choice()"
      ],
      "metadata": {
        "colab": {
          "base_uri": "https://localhost:8080/"
        },
        "id": "2GUEl7t1OSbN",
        "outputId": "366c93d8-0303-4cd8-f4a0-b57cfab06576"
      },
      "execution_count": null,
      "outputs": [
        {
          "name": "stdout",
          "output_type": "stream",
          "text": [
            "Here is the current list: \n",
            "[0, 1, 2]\n",
            "Pick a position (0,1,2): two\n",
            "Sorry, invalid choice!\n",
            "Pick a position (0,1,2): 1\n",
            "Type a string to place at position:my choice\n",
            "Here is the current list: \n",
            "[0, 'my choice', 2]\n",
            "Keep playing? (Y or N) Y\n",
            "Here is the current list: \n",
            "[0, 'my choice', 2]\n",
            "Pick a position (0,1,2): 0\n",
            "Type a string to place at position:test\n",
            "Here is the current list: \n",
            "['test', 'my choice', 2]\n",
            "Keep playing? (Y or N) N\n"
          ]
        }
      ]
    },
    {
      "cell_type": "markdown",
      "source": [
        "## **Milestone Project: Tic Tac Toe**"
      ],
      "metadata": {
        "id": "eskoMPyORWZX"
      }
    },
    {
      "cell_type": "markdown",
      "source": [
        "My solution:"
      ],
      "metadata": {
        "id": "NZA_Q-HN50gt"
      }
    },
    {
      "cell_type": "code",
      "source": [
        "from IPython.display import clear_output\n",
        "\n",
        "def display_board(board):\n",
        "\n",
        "  print(' '+board[7]+' | '+board[8]+' | '+board[9]+' ')\n",
        "  print('---|---|---')\n",
        "  print(' '+board[4]+' | '+board[5]+' | '+board[6]+' ')\n",
        "  print('---|---|---')\n",
        "  print(' '+board[1]+' | '+board[2]+' | '+board[3]+' ')"
      ],
      "metadata": {
        "id": "Rjm-E6pZRdwR"
      },
      "execution_count": null,
      "outputs": []
    },
    {
      "cell_type": "code",
      "source": [
        "test_board = ['#','X','O','X','O','X','O','X','O','X']\n",
        "display_board(test_board)"
      ],
      "metadata": {
        "colab": {
          "base_uri": "https://localhost:8080/"
        },
        "id": "lLdKWHwDU0A9",
        "outputId": "1f386cd6-fbc6-4d48-9740-a6476dcb9727"
      },
      "execution_count": null,
      "outputs": [
        {
          "output_type": "stream",
          "name": "stdout",
          "text": [
            " X | O | X \n",
            "---|---|---\n",
            " O | X | O \n",
            "---|---|---\n",
            " X | O | X \n"
          ]
        }
      ]
    },
    {
      "cell_type": "code",
      "source": [
        "def player_input():\n",
        "\n",
        "  marker = ''\n",
        "\n",
        "  while not (marker == 'X' or marker == 'O'):\n",
        "    marker = input('Player 1: Do you want to be X or O?')\n",
        "\n",
        "  if marker == 'X':\n",
        "    print('You are the first to play.')\n",
        "  else:\n",
        "    print('You are the second to play.')"
      ],
      "metadata": {
        "id": "zNeC_1N1U4g2"
      },
      "execution_count": null,
      "outputs": []
    },
    {
      "cell_type": "code",
      "source": [
        "def place_marker(board, marker, position):\n",
        "\n",
        "  board[position] = marker"
      ],
      "metadata": {
        "id": "YFuQiggwXvzz"
      },
      "execution_count": null,
      "outputs": []
    },
    {
      "cell_type": "code",
      "source": [
        "def win_check(board, marker):\n",
        "  if board[1]==board[2]==board[3]==marker:\n",
        "    return True\n",
        "  elif board[4]==board[5]==board[6]==marker:\n",
        "    return True\n",
        "  elif board[7]==board[8]==board[9]==marker:\n",
        "    return True\n",
        "  elif board[1]==board[4]==board[7]==marker:\n",
        "    return True\n",
        "  elif board[2]==board[5]==board[8]==marker:\n",
        "    return True\n",
        "  elif board[3]==board[6]==board[9]==marker:\n",
        "    return True\n",
        "  elif board[1]==board[5]==board[9]==marker:\n",
        "    return True\n",
        "  elif board[3]==board[5]==board[7]==marker:\n",
        "    return True\n",
        "  else:\n",
        "    return False"
      ],
      "metadata": {
        "id": "l2QFFVSVbrkH"
      },
      "execution_count": null,
      "outputs": []
    },
    {
      "cell_type": "code",
      "source": [
        "def space_check(board,position):\n",
        "  if board[position] == ' ':\n",
        "    return True\n",
        "  else:\n",
        "    return False"
      ],
      "metadata": {
        "id": "1eDktvL0bzOL"
      },
      "execution_count": null,
      "outputs": []
    },
    {
      "cell_type": "code",
      "source": [
        "def player_choice():\n",
        "\n",
        "  position = 0\n",
        "\n",
        "  while position not in range(1,10):\n",
        "\n",
        "    return int(input('Choose your next position(1-9):'))"
      ],
      "metadata": {
        "id": "jcpTbxIfdBqQ"
      },
      "execution_count": null,
      "outputs": []
    },
    {
      "cell_type": "code",
      "source": [
        "position = player_choice()"
      ],
      "metadata": {
        "colab": {
          "base_uri": "https://localhost:8080/"
        },
        "id": "lQZH6OIWqv4D",
        "outputId": "b1760f29-c3e8-4f8a-8906-c521e6e9dc6b"
      },
      "execution_count": null,
      "outputs": [
        {
          "name": "stdout",
          "output_type": "stream",
          "text": [
            "Choose your next position(1-9):1\n"
          ]
        }
      ]
    },
    {
      "cell_type": "code",
      "source": [
        "position"
      ],
      "metadata": {
        "colab": {
          "base_uri": "https://localhost:8080/"
        },
        "id": "KW1vTw20q79_",
        "outputId": "9bfbed58-4995-4da0-aa65-1df0b66349d1"
      },
      "execution_count": null,
      "outputs": [
        {
          "output_type": "execute_result",
          "data": {
            "text/plain": [
              "1"
            ]
          },
          "metadata": {},
          "execution_count": 22
        }
      ]
    },
    {
      "cell_type": "code",
      "source": [
        "def replay():\n",
        "\n",
        "  again = ''\n",
        "\n",
        "  while again not in ['Y','N']:\n",
        "\n",
        "    again = input('Do you want to play again? (Y or N)')\n",
        "\n",
        "  if again == 'Y':\n",
        "    return True\n",
        "  else:\n",
        "    return False"
      ],
      "metadata": {
        "id": "hs-RMApnfThY"
      },
      "execution_count": null,
      "outputs": []
    },
    {
      "cell_type": "code",
      "source": [
        "def tic_tac_toe():\n",
        "\n",
        "  board = ['#',' ',' ',' ',' ',' ',' ',' ',' ',' ']\n",
        "  step = 0\n",
        "  marker = 'X'\n",
        "\n",
        "  display_board(board)\n",
        "  player_input()\n",
        "\n",
        "  while step < 9:\n",
        "\n",
        "    position = player_choice()\n",
        "    space = space_check(board,position)\n",
        "\n",
        "    if space == False:\n",
        "      print('This space is full. Please choose another space.')\n",
        "      continue\n",
        "\n",
        "    else:\n",
        "\n",
        "      place_marker(board, marker, position)\n",
        "      display_board(board)\n",
        "      ending = win_check(board, marker)\n",
        "\n",
        "      if ending == True:\n",
        "\n",
        "        print('Congratulations!')\n",
        "\n",
        "        gameon = replay()\n",
        "        if gameon == True:\n",
        "\n",
        "          clear_output()\n",
        "          tic_tac_toe()\n",
        "\n",
        "        else:\n",
        "          break\n",
        "\n",
        "      else:\n",
        "          pass\n",
        "\n",
        "      step += 1\n",
        "      marker = 'X' if marker == 'O' else 'O'\n",
        "\n",
        "  if step == 9:\n",
        "    print('The board is full.')\n",
        "    gameon = replay()\n",
        "    if gameon == True:\n",
        "      clear_output()\n",
        "      tic_tac_toe()\n",
        "    else:\n",
        "      print('Done')\n",
        "  else:\n",
        "    print('Done')"
      ],
      "metadata": {
        "id": "gf727NSmgSWk"
      },
      "execution_count": null,
      "outputs": []
    },
    {
      "cell_type": "code",
      "source": [
        "tic_tac_toe()"
      ],
      "metadata": {
        "colab": {
          "base_uri": "https://localhost:8080/"
        },
        "id": "IEVpmlY9ogwX",
        "outputId": "1c2b57d0-d7be-4555-971e-19a6ce398283"
      },
      "execution_count": null,
      "outputs": [
        {
          "output_type": "stream",
          "name": "stdout",
          "text": [
            "   |   |   \n",
            "---|---|---\n",
            "   |   |   \n",
            "---|---|---\n",
            "   |   |   \n",
            "Player 1: Do you want to be X or O?X\n",
            "You are the first to play.\n",
            "Choose your next position(1-9):5\n",
            "5\n",
            "True\n",
            "   |   |   \n",
            "---|---|---\n",
            "   | X |   \n",
            "---|---|---\n",
            "   |   |   \n",
            "1\n",
            "O\n",
            "Choose your next position(1-9):1\n",
            "1\n",
            "True\n",
            "   |   |   \n",
            "---|---|---\n",
            "   | X |   \n",
            "---|---|---\n",
            " O |   |   \n",
            "2\n",
            "X\n",
            "Choose your next position(1-9):3\n",
            "3\n",
            "True\n",
            "   |   |   \n",
            "---|---|---\n",
            "   | X |   \n",
            "---|---|---\n",
            " O |   | X \n",
            "3\n",
            "O\n",
            "Choose your next position(1-9):7\n",
            "7\n",
            "True\n",
            " O |   |   \n",
            "---|---|---\n",
            "   | X |   \n",
            "---|---|---\n",
            " O |   | X \n",
            "4\n",
            "X\n",
            "Choose your next position(1-9):4\n",
            "4\n",
            "True\n",
            " O |   |   \n",
            "---|---|---\n",
            " X | X |   \n",
            "---|---|---\n",
            " O |   | X \n",
            "5\n",
            "O\n",
            "Choose your next position(1-9):6\n",
            "6\n",
            "True\n",
            " O |   |   \n",
            "---|---|---\n",
            " X | X | O \n",
            "---|---|---\n",
            " O |   | X \n",
            "6\n",
            "X\n",
            "Choose your next position(1-9):9\n",
            "9\n",
            "True\n",
            " O |   | X \n",
            "---|---|---\n",
            " X | X | O \n",
            "---|---|---\n",
            " O |   | X \n",
            "7\n",
            "O\n",
            "Choose your next position(1-9):8\n",
            "8\n",
            "True\n",
            " O | O | X \n",
            "---|---|---\n",
            " X | X | O \n",
            "---|---|---\n",
            " O |   | X \n",
            "8\n",
            "X\n",
            "Choose your next position(1-9):2\n",
            "2\n",
            "True\n",
            " O | O | X \n",
            "---|---|---\n",
            " X | X | O \n",
            "---|---|---\n",
            " O | X | X \n",
            "9\n",
            "O\n",
            "The board is full.\n",
            "Do you want to play again? (Y or N)N\n",
            "Done\n"
          ]
        }
      ]
    },
    {
      "cell_type": "markdown",
      "source": [
        "Teacher's solution"
      ],
      "metadata": {
        "id": "ZkMdQfv854gU"
      }
    },
    {
      "cell_type": "code",
      "source": [
        "from IPython.display import clear_output\n",
        "\n",
        "def display_board(board):\n",
        "    clear_output()  # Remember, this only works in jupyter!\n",
        "\n",
        "    print('   |   |')\n",
        "    print(' ' + board[7] + ' | ' + board[8] + ' | ' + board[9])\n",
        "    print('   |   |')\n",
        "    print('-----------')\n",
        "    print('   |   |')\n",
        "    print(' ' + board[4] + ' | ' + board[5] + ' | ' + board[6])\n",
        "    print('   |   |')\n",
        "    print('-----------')\n",
        "    print('   |   |')\n",
        "    print(' ' + board[1] + ' | ' + board[2] + ' | ' + board[3])\n",
        "    print('   |   |')"
      ],
      "metadata": {
        "id": "TMKTWqQbo0Ay"
      },
      "execution_count": null,
      "outputs": []
    },
    {
      "cell_type": "code",
      "source": [
        "def player_input():\n",
        "    marker = ''\n",
        "\n",
        "    while not (marker == 'X' or marker == 'O'):\n",
        "        marker = input('Player 1: Do you want to be X or O? ').upper()\n",
        "\n",
        "    if marker == 'X':\n",
        "        return ('X', 'O')\n",
        "    else:\n",
        "        return ('O', 'X')"
      ],
      "metadata": {
        "id": "V_Eep-JZ6iNW"
      },
      "execution_count": null,
      "outputs": []
    },
    {
      "cell_type": "code",
      "source": [
        "def place_marker(board, marker, position):\n",
        "    board[position] = marker"
      ],
      "metadata": {
        "id": "W5RtJG_56poo"
      },
      "execution_count": null,
      "outputs": []
    },
    {
      "cell_type": "code",
      "source": [
        "def win_check(board,mark):\n",
        "\n",
        "    return ((board[7] == mark and board[8] == mark and board[9] == mark) or # across the top\n",
        "    (board[4] == mark and board[5] == mark and board[6] == mark) or # across the middle\n",
        "    (board[1] == mark and board[2] == mark and board[3] == mark) or # across the bottom\n",
        "    (board[7] == mark and board[4] == mark and board[1] == mark) or # down the middle\n",
        "    (board[8] == mark and board[5] == mark and board[2] == mark) or # down the middle\n",
        "    (board[9] == mark and board[6] == mark and board[3] == mark) or # down the right side\n",
        "    (board[7] == mark and board[5] == mark and board[3] == mark) or # diagonal\n",
        "    (board[9] == mark and board[5] == mark and board[1] == mark)) # diagonal"
      ],
      "metadata": {
        "id": "c2LOKN566sV4"
      },
      "execution_count": null,
      "outputs": []
    },
    {
      "cell_type": "code",
      "source": [
        "import random\n",
        "\n",
        "def choose_first():\n",
        "    if random.randint(0, 1) == 0:\n",
        "        return 'Player 2'\n",
        "    else:\n",
        "        return 'Player 1'"
      ],
      "metadata": {
        "id": "Z7WOx_ly62Gu"
      },
      "execution_count": null,
      "outputs": []
    },
    {
      "cell_type": "code",
      "source": [
        "def space_check(board, position):\n",
        "\n",
        "    return board[position] == ' '"
      ],
      "metadata": {
        "id": "Fl-B2PmO66Is"
      },
      "execution_count": null,
      "outputs": []
    },
    {
      "cell_type": "code",
      "source": [
        "def full_board_check(board):\n",
        "    for i in range(1,10):\n",
        "        if space_check(board, i):\n",
        "            return False\n",
        "    return True"
      ],
      "metadata": {
        "id": "EtZ3F8F77FBw"
      },
      "execution_count": null,
      "outputs": []
    },
    {
      "cell_type": "code",
      "source": [
        "def player_choice(board):\n",
        "    position = 0\n",
        "\n",
        "    while position not in [1,2,3,4,5,6,7,8,9] or not space_check(board, position):\n",
        "        position = int(input('Choose your next position: (1-9) '))\n",
        "\n",
        "    return position"
      ],
      "metadata": {
        "id": "nW-4mRjL7HWO"
      },
      "execution_count": null,
      "outputs": []
    },
    {
      "cell_type": "code",
      "source": [
        "def replay():\n",
        "\n",
        "    return input('Do you want to play again? Enter Yes or No: ').lower().startswith('y')"
      ],
      "metadata": {
        "id": "wBKZdVzQ7KFo"
      },
      "execution_count": null,
      "outputs": []
    },
    {
      "cell_type": "code",
      "source": [
        "print('Welcome to Tic Tac Toe!')\n",
        "\n",
        "while True:\n",
        "    # Reset the board\n",
        "    theBoard = [' '] * 10\n",
        "    player1_marker, player2_marker = player_input()\n",
        "    turn = choose_first()\n",
        "    print(turn + ' will go first.')\n",
        "\n",
        "    play_game = input('Are you ready to play? Enter Yes or No.')\n",
        "\n",
        "    if play_game.lower()[0] == 'y':\n",
        "        game_on = True\n",
        "    else:\n",
        "        game_on = False\n",
        "\n",
        "    while game_on:\n",
        "        if turn == 'Player 1':\n",
        "            # Player1's turn.\n",
        "\n",
        "            display_board(theBoard)\n",
        "            position = player_choice(theBoard)\n",
        "            place_marker(theBoard, player1_marker, position)\n",
        "\n",
        "            if win_check(theBoard, player1_marker):\n",
        "                display_board(theBoard)\n",
        "                print('Congratulations! You have won the game!')\n",
        "                game_on = False\n",
        "            else:\n",
        "                if full_board_check(theBoard):\n",
        "                    display_board(theBoard)\n",
        "                    print('The game is a draw!')\n",
        "                    break\n",
        "                else:\n",
        "                    turn = 'Player 2'\n",
        "\n",
        "        else:\n",
        "            # Player2's turn.\n",
        "\n",
        "            display_board(theBoard)\n",
        "            position = player_choice(theBoard)\n",
        "            place_marker(theBoard, player2_marker, position)\n",
        "\n",
        "            if win_check(theBoard, player2_marker):\n",
        "                display_board(theBoard)\n",
        "                print('Player 2 has won!')\n",
        "                game_on = False\n",
        "            else:\n",
        "                if full_board_check(theBoard):\n",
        "                    display_board(theBoard)\n",
        "                    print('The game is a draw!')\n",
        "                    break\n",
        "                else:\n",
        "                    turn = 'Player 1'\n",
        "\n",
        "    if not replay():\n",
        "        break"
      ],
      "metadata": {
        "colab": {
          "base_uri": "https://localhost:8080/"
        },
        "id": "7QqTgrLE7N31",
        "outputId": "691a436e-b451-41d4-b575-7dec9a037d1d"
      },
      "execution_count": null,
      "outputs": [
        {
          "name": "stdout",
          "output_type": "stream",
          "text": [
            "   |   |\n",
            " X | X | O\n",
            "   |   |\n",
            "-----------\n",
            "   |   |\n",
            " O | O | X\n",
            "   |   |\n",
            "-----------\n",
            "   |   |\n",
            " X | O | O\n",
            "   |   |\n",
            "The game is a draw!\n",
            "Do you want to play again? Enter Yes or No: N\n"
          ]
        }
      ]
    }
  ]
}