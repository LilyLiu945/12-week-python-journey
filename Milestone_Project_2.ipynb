{
  "nbformat": 4,
  "nbformat_minor": 0,
  "metadata": {
    "colab": {
      "provenance": [],
      "authorship_tag": "ABX9TyNiXfxYQ01pjjWSQ2dnI1io",
      "include_colab_link": true
    },
    "kernelspec": {
      "name": "python3",
      "display_name": "Python 3"
    },
    "language_info": {
      "name": "python"
    }
  },
  "cells": [
    {
      "cell_type": "markdown",
      "metadata": {
        "id": "view-in-github",
        "colab_type": "text"
      },
      "source": [
        "<a href=\"https://colab.research.google.com/github/LilyLiu945/12-week-python-journey/blob/main/Milestone_Project_2.ipynb\" target=\"_parent\"><img src=\"https://colab.research.google.com/assets/colab-badge.svg\" alt=\"Open In Colab\"/></a>"
      ]
    },
    {
      "cell_type": "markdown",
      "source": [
        "Project 1: War"
      ],
      "metadata": {
        "id": "hv21xPrxMK5X"
      }
    },
    {
      "cell_type": "markdown",
      "source": [
        "Card Class"
      ],
      "metadata": {
        "id": "9b5b-wo2MOoV"
      }
    },
    {
      "cell_type": "code",
      "source": [
        "import random\n",
        "suits = ('Hearts','Diamonds','Spades','Clubs')\n",
        "ranks = ('Two','Three','Four','Five','Six','Seven','Eight','Nine','Ten','Jack','Queen','King','Ace')\n",
        "values = {'Two':2,'Three':3,'Four':4,'Five':5,'Six':6,'Seven':7,'Eight':8,\n",
        "          'Nine':9,'Ten':10,'Jack':11,'Queen':12,'King':13,'Ace':14}"
      ],
      "metadata": {
        "id": "zBvbwIXfdlQZ"
      },
      "execution_count": null,
      "outputs": []
    },
    {
      "cell_type": "code",
      "execution_count": null,
      "metadata": {
        "id": "NNAobkXJFLV5"
      },
      "outputs": [],
      "source": [
        "class Card:\n",
        "\n",
        "  def __init__(self,suit,rank):\n",
        "    self.suit = suit\n",
        "    self.rank = rank\n",
        "    self.value = values[rank]\n",
        "\n",
        "  def __str__(self):\n",
        "    return self.rank + \" of \" + self.suit\n"
      ]
    },
    {
      "cell_type": "code",
      "source": [
        "three_of_clubs = Card(\"Clubs\",'Three')"
      ],
      "metadata": {
        "id": "acm2HHQhc9tw"
      },
      "execution_count": null,
      "outputs": []
    },
    {
      "cell_type": "code",
      "source": [
        "three_of_clubs.value"
      ],
      "metadata": {
        "colab": {
          "base_uri": "https://localhost:8080/"
        },
        "id": "tyErrvnOc9nl",
        "outputId": "a5c05a59-b277-4093-9fad-9eb212733237"
      },
      "execution_count": null,
      "outputs": [
        {
          "output_type": "execute_result",
          "data": {
            "text/plain": [
              "3"
            ]
          },
          "metadata": {},
          "execution_count": 25
        }
      ]
    },
    {
      "cell_type": "code",
      "source": [],
      "metadata": {
        "id": "OnnZzku9c9b4"
      },
      "execution_count": null,
      "outputs": []
    },
    {
      "cell_type": "code",
      "source": [
        "two_hearts = Card(\"Hearts\",\"Two\")"
      ],
      "metadata": {
        "id": "ytCrQKILbapL"
      },
      "execution_count": null,
      "outputs": []
    },
    {
      "cell_type": "code",
      "source": [
        "two_hearts"
      ],
      "metadata": {
        "colab": {
          "base_uri": "https://localhost:8080/"
        },
        "id": "No41MA3LbkxQ",
        "outputId": "003ed49b-b513-4a68-ff6a-6ab06f962cc3"
      },
      "execution_count": null,
      "outputs": [
        {
          "output_type": "execute_result",
          "data": {
            "text/plain": [
              "<__main__.Card at 0x7dc256a068d0>"
            ]
          },
          "metadata": {},
          "execution_count": 27
        }
      ]
    },
    {
      "cell_type": "code",
      "source": [
        "print(two_hearts)"
      ],
      "metadata": {
        "colab": {
          "base_uri": "https://localhost:8080/"
        },
        "id": "wlnYeqCcbpWk",
        "outputId": "1e21ecd7-5a6c-42c4-c0db-acacc9c20b2e"
      },
      "execution_count": null,
      "outputs": [
        {
          "output_type": "stream",
          "name": "stdout",
          "text": [
            "Two of Hearts\n"
          ]
        }
      ]
    },
    {
      "cell_type": "code",
      "source": [
        "two_hearts.suit"
      ],
      "metadata": {
        "colab": {
          "base_uri": "https://localhost:8080/",
          "height": 35
        },
        "id": "f-EgwPuqbs_8",
        "outputId": "43607c07-3c3a-459a-bbbe-9cd17e67cbb2"
      },
      "execution_count": null,
      "outputs": [
        {
          "output_type": "execute_result",
          "data": {
            "text/plain": [
              "'Hearts'"
            ],
            "application/vnd.google.colaboratory.intrinsic+json": {
              "type": "string"
            }
          },
          "metadata": {},
          "execution_count": 29
        }
      ]
    },
    {
      "cell_type": "code",
      "source": [
        "two_hearts.rank"
      ],
      "metadata": {
        "colab": {
          "base_uri": "https://localhost:8080/",
          "height": 35
        },
        "id": "WjvoiDc7bwas",
        "outputId": "b769d676-15d1-4dc9-9a3f-ad2305f43de0"
      },
      "execution_count": null,
      "outputs": [
        {
          "output_type": "execute_result",
          "data": {
            "text/plain": [
              "'Two'"
            ],
            "application/vnd.google.colaboratory.intrinsic+json": {
              "type": "string"
            }
          },
          "metadata": {},
          "execution_count": 30
        }
      ]
    },
    {
      "cell_type": "code",
      "source": [
        "values[two_hearts.rank]"
      ],
      "metadata": {
        "colab": {
          "base_uri": "https://localhost:8080/"
        },
        "id": "midcD91mcKRQ",
        "outputId": "8c82855c-1eeb-45fa-a96c-4af2f280cbbf"
      },
      "execution_count": null,
      "outputs": [
        {
          "output_type": "execute_result",
          "data": {
            "text/plain": [
              "2"
            ]
          },
          "metadata": {},
          "execution_count": 31
        }
      ]
    },
    {
      "cell_type": "code",
      "source": [
        "two_hearts.value < three_of_clubs.value"
      ],
      "metadata": {
        "colab": {
          "base_uri": "https://localhost:8080/"
        },
        "id": "H65vMsqEcOBR",
        "outputId": "a27b802c-d658-47ad-c19b-afe35adeb04b"
      },
      "execution_count": null,
      "outputs": [
        {
          "output_type": "execute_result",
          "data": {
            "text/plain": [
              "True"
            ]
          },
          "metadata": {},
          "execution_count": 32
        }
      ]
    },
    {
      "cell_type": "code",
      "source": [
        "two_hearts.value == three_of_clubs.value"
      ],
      "metadata": {
        "colab": {
          "base_uri": "https://localhost:8080/"
        },
        "id": "TCaeUW40dZHc",
        "outputId": "46fc5813-20f7-4ed3-d6c6-a532f0139620"
      },
      "execution_count": null,
      "outputs": [
        {
          "output_type": "execute_result",
          "data": {
            "text/plain": [
              "False"
            ]
          },
          "metadata": {},
          "execution_count": 33
        }
      ]
    },
    {
      "cell_type": "markdown",
      "source": [
        "Deck Class"
      ],
      "metadata": {
        "id": "4K8vsu-9jlpn"
      }
    },
    {
      "cell_type": "code",
      "source": [
        "class Deck:\n",
        "\n",
        "  def __init__(self):\n",
        "    self.all_cards = []\n",
        "\n",
        "    for suit in suits:\n",
        "      for rank in ranks:\n",
        "\n",
        "        created_card = Card(suit,rank)\n",
        "        self.all_cards.append(created_card)\n",
        "\n",
        "  def shuffle(self):\n",
        "    random.shuffle(self.all_cards)\n",
        "\n",
        "  def deal_one(self):\n",
        "    return self.all_cards.pop()"
      ],
      "metadata": {
        "id": "Yyh5-lmGdhGg"
      },
      "execution_count": null,
      "outputs": []
    },
    {
      "cell_type": "code",
      "source": [
        "new_deck = Deck()"
      ],
      "metadata": {
        "id": "Kg6cAItrgkSf"
      },
      "execution_count": null,
      "outputs": []
    },
    {
      "cell_type": "code",
      "source": [
        "new_deck.shuffle()"
      ],
      "metadata": {
        "id": "_RXKbKazixnb"
      },
      "execution_count": null,
      "outputs": []
    },
    {
      "cell_type": "code",
      "source": [
        "mycard = new_deck.deal_one()"
      ],
      "metadata": {
        "id": "dvy7edx3i19k"
      },
      "execution_count": null,
      "outputs": []
    },
    {
      "cell_type": "code",
      "source": [
        "print(mycard)"
      ],
      "metadata": {
        "colab": {
          "base_uri": "https://localhost:8080/"
        },
        "id": "TqEQSMhFi11y",
        "outputId": "7406dba4-ed91-46f2-8137-4256e8babdf1"
      },
      "execution_count": null,
      "outputs": [
        {
          "output_type": "stream",
          "name": "stdout",
          "text": [
            "Three of Diamonds\n"
          ]
        }
      ]
    },
    {
      "cell_type": "code",
      "source": [
        "len(new_deck.all_cards)"
      ],
      "metadata": {
        "colab": {
          "base_uri": "https://localhost:8080/"
        },
        "id": "icJ7bi5fi1r3",
        "outputId": "80da9e27-21e6-4773-cb9b-6c2c50fc5322"
      },
      "execution_count": null,
      "outputs": [
        {
          "output_type": "execute_result",
          "data": {
            "text/plain": [
              "51"
            ]
          },
          "metadata": {},
          "execution_count": 57
        }
      ]
    },
    {
      "cell_type": "code",
      "source": [
        "bottom_card = new_deck.all_cards[-1]"
      ],
      "metadata": {
        "id": "pm7ujhcjgmoD"
      },
      "execution_count": null,
      "outputs": []
    },
    {
      "cell_type": "code",
      "source": [
        "for card_object in new_deck.all_cards:\n",
        "  print(card_object)"
      ],
      "metadata": {
        "colab": {
          "base_uri": "https://localhost:8080/"
        },
        "id": "sN_PR-V1gpuA",
        "outputId": "3fcd489e-44e0-4ab5-fb95-6bd624dbe39b"
      },
      "execution_count": null,
      "outputs": [
        {
          "output_type": "stream",
          "name": "stdout",
          "text": [
            "Two of Hearts\n",
            "Three of Hearts\n",
            "Four of Hearts\n",
            "Five of Hearts\n",
            "Six of Hearts\n",
            "Seven of Hearts\n",
            "Eight of Hearts\n",
            "Nine of Hearts\n",
            "Ten of Hearts\n",
            "Jack of Hearts\n",
            "Queen of Hearts\n",
            "King of Hearts\n",
            "Ace of Hearts\n",
            "Two of Diamonds\n",
            "Three of Diamonds\n",
            "Four of Diamonds\n",
            "Five of Diamonds\n",
            "Six of Diamonds\n",
            "Seven of Diamonds\n",
            "Eight of Diamonds\n",
            "Nine of Diamonds\n",
            "Ten of Diamonds\n",
            "Jack of Diamonds\n",
            "Queen of Diamonds\n",
            "King of Diamonds\n",
            "Ace of Diamonds\n",
            "Two of Spades\n",
            "Three of Spades\n",
            "Four of Spades\n",
            "Five of Spades\n",
            "Six of Spades\n",
            "Seven of Spades\n",
            "Eight of Spades\n",
            "Nine of Spades\n",
            "Ten of Spades\n",
            "Jack of Spades\n",
            "Queen of Spades\n",
            "King of Spades\n",
            "Ace of Spades\n",
            "Two of Clubs\n",
            "Three of Clubs\n",
            "Four of Clubs\n",
            "Five of Clubs\n",
            "Six of Clubs\n",
            "Seven of Clubs\n",
            "Eight of Clubs\n",
            "Nine of Clubs\n",
            "Ten of Clubs\n",
            "Jack of Clubs\n",
            "Queen of Clubs\n",
            "King of Clubs\n",
            "Ace of Clubs\n"
          ]
        }
      ]
    },
    {
      "cell_type": "code",
      "source": [
        "new_deck.shuffle()"
      ],
      "metadata": {
        "id": "j2ba4gZMgzEQ"
      },
      "execution_count": null,
      "outputs": []
    },
    {
      "cell_type": "code",
      "source": [
        "print(new_deck.all_cards[-1])"
      ],
      "metadata": {
        "colab": {
          "base_uri": "https://localhost:8080/"
        },
        "id": "mfz1Hog1iTzc",
        "outputId": "24bbd0f1-5be5-479c-e514-73e18a309aeb"
      },
      "execution_count": null,
      "outputs": [
        {
          "output_type": "stream",
          "name": "stdout",
          "text": [
            "Ten of Diamonds\n"
          ]
        }
      ]
    },
    {
      "cell_type": "markdown",
      "source": [
        "Player Class"
      ],
      "metadata": {
        "id": "ZIfy3xENjo9z"
      }
    },
    {
      "cell_type": "code",
      "source": [
        "class Player:\n",
        "\n",
        "  def __init__(self,name):\n",
        "\n",
        "    self.name = name\n",
        "    self.all_cards = []\n",
        "\n",
        "  def remove_one(self):\n",
        "    return self.all_cards.pop(0)\n",
        "\n",
        "  def add_cards(self,new_cards):\n",
        "    if type(new_cards) == type([]):\n",
        "      self.all_cards.extend(new_cards)\n",
        "    else:\n",
        "      self.all_cards.append(new_cards)\n",
        "\n",
        "  def __str__(self):\n",
        "    return f'Player {self.name} has {len(self.all_cards)} cards.'"
      ],
      "metadata": {
        "id": "-D0k2K8riaOs"
      },
      "execution_count": null,
      "outputs": []
    },
    {
      "cell_type": "code",
      "source": [
        "new_player = Player(\"Jose\")"
      ],
      "metadata": {
        "id": "qLdfDfzEWdj0"
      },
      "execution_count": null,
      "outputs": []
    },
    {
      "cell_type": "code",
      "source": [
        "print(new_player)"
      ],
      "metadata": {
        "colab": {
          "base_uri": "https://localhost:8080/"
        },
        "id": "9Hl_VgbmWi9s",
        "outputId": "08ae30f6-382e-4195-f12a-24ae91b19981"
      },
      "execution_count": null,
      "outputs": [
        {
          "output_type": "stream",
          "name": "stdout",
          "text": [
            "Player Jose has 0 cards.\n"
          ]
        }
      ]
    },
    {
      "cell_type": "code",
      "source": [
        "new_player.add_cards(mycard)"
      ],
      "metadata": {
        "id": "pgL8bsTlWlB_"
      },
      "execution_count": null,
      "outputs": []
    },
    {
      "cell_type": "code",
      "source": [
        "print(new_player)"
      ],
      "metadata": {
        "colab": {
          "base_uri": "https://localhost:8080/"
        },
        "id": "fmdJloxZY7YD",
        "outputId": "6146bb6a-3322-4043-b2ca-686dcbfdc492"
      },
      "execution_count": null,
      "outputs": [
        {
          "output_type": "stream",
          "name": "stdout",
          "text": [
            "Player Jose has 1 cards.\n"
          ]
        }
      ]
    },
    {
      "cell_type": "code",
      "source": [
        "print(new_player.all_cards[0])"
      ],
      "metadata": {
        "colab": {
          "base_uri": "https://localhost:8080/"
        },
        "id": "S7wAlb-kZLqB",
        "outputId": "d7e9e6f2-f62b-4578-c9aa-d7a5b0de91cb"
      },
      "execution_count": null,
      "outputs": [
        {
          "output_type": "stream",
          "name": "stdout",
          "text": [
            "Two of Hearts\n"
          ]
        }
      ]
    },
    {
      "cell_type": "code",
      "source": [
        "new_player.add_cards([mycard,mycard,mycard])"
      ],
      "metadata": {
        "id": "-arvuIREZU6N"
      },
      "execution_count": null,
      "outputs": []
    },
    {
      "cell_type": "code",
      "source": [
        "print(new_player)"
      ],
      "metadata": {
        "colab": {
          "base_uri": "https://localhost:8080/"
        },
        "id": "fPjv-8AlbpEr",
        "outputId": "540f68e9-fb4d-435e-9d7b-c8892429db0b"
      },
      "execution_count": null,
      "outputs": [
        {
          "output_type": "stream",
          "name": "stdout",
          "text": [
            "Player Jose has 4 cards.\n"
          ]
        }
      ]
    },
    {
      "cell_type": "code",
      "source": [
        "new_player.remove_one()"
      ],
      "metadata": {
        "colab": {
          "base_uri": "https://localhost:8080/"
        },
        "id": "S6PFp1XObspo",
        "outputId": "ca52dc7f-19a2-4f2e-a29a-0a1df01ed919"
      },
      "execution_count": null,
      "outputs": [
        {
          "output_type": "execute_result",
          "data": {
            "text/plain": [
              "<__main__.Card at 0x7c2d3718c410>"
            ]
          },
          "metadata": {},
          "execution_count": 28
        }
      ]
    },
    {
      "cell_type": "code",
      "source": [
        "print(new_player)"
      ],
      "metadata": {
        "colab": {
          "base_uri": "https://localhost:8080/"
        },
        "id": "_R1Z4o0DeNFN",
        "outputId": "39b76f13-8f3f-4e19-e959-64830d63768c"
      },
      "execution_count": null,
      "outputs": [
        {
          "output_type": "stream",
          "name": "stdout",
          "text": [
            "Player Jose has 3 cards.\n"
          ]
        }
      ]
    },
    {
      "cell_type": "markdown",
      "source": [
        "Game Logic"
      ],
      "metadata": {
        "id": "f4acOqPeeTNc"
      }
    },
    {
      "cell_type": "code",
      "source": [
        "# GAME SETUP\n",
        "player_one = Player(\"A\")\n",
        "player_two = Player(\"B\")\n",
        "\n",
        "new_deck = Deck()\n",
        "new_deck.shuffle()\n",
        "\n",
        "for x in range(26):\n",
        "  player_one.add_cards(new_deck.deal_one())\n",
        "  player_two.add_cards(new_deck.deal_one())"
      ],
      "metadata": {
        "id": "JHs_MSh5eQGc"
      },
      "execution_count": null,
      "outputs": []
    },
    {
      "cell_type": "code",
      "source": [
        "print(player_one.all_cards[0])"
      ],
      "metadata": {
        "colab": {
          "base_uri": "https://localhost:8080/"
        },
        "id": "1rtbeqzAwdq4",
        "outputId": "1dab8caf-edc2-4111-e1cc-f2d159231cd4"
      },
      "execution_count": null,
      "outputs": [
        {
          "output_type": "stream",
          "name": "stdout",
          "text": [
            "King of Hearts\n"
          ]
        }
      ]
    },
    {
      "cell_type": "code",
      "source": [
        "game_on = True"
      ],
      "metadata": {
        "id": "CNBstCn2wlT0"
      },
      "execution_count": null,
      "outputs": []
    },
    {
      "cell_type": "code",
      "source": [
        "round_num = 0\n",
        "\n",
        "while game_on:\n",
        "\n",
        "  round_num += 1\n",
        "  print(f\"Round {round_num}\")\n",
        "\n",
        "  if len(player_one.all_cards) == 0:\n",
        "    print('Player A, out of cards! Player B Wins')\n",
        "    game_on = False\n",
        "    break\n",
        "\n",
        "  if len(player_two.all_cards) == 0:\n",
        "    print('Player B, out of cards! Player A Wins')\n",
        "    game_on = False\n",
        "    break\n",
        "\n",
        "  # START A NEW ROUND\n",
        "  player_one_cards = []\n",
        "  player_one_cards.append(player_one.remove_one())\n",
        "\n",
        "  player_two_cards = []\n",
        "  player_two_cards.append(player_two.remove_one())\n",
        "\n",
        "  # WHILE AT WAR\n",
        "  at_war = True\n",
        "\n",
        "  while at_war:\n",
        "\n",
        "    if player_one_cards[-1].value > player_two_cards[-1].value:\n",
        "\n",
        "      player_one.add_cards(player_one_cards)\n",
        "      player_one.add_cards(player_two_cards)\n",
        "\n",
        "      at_war = False\n",
        "\n",
        "    elif player_one_cards[-1].value < player_two_cards[-1].value:\n",
        "\n",
        "      player_two.add_cards(player_one_cards)\n",
        "      player_two.add_cards(player_two_cards)\n",
        "\n",
        "      at_war = False\n",
        "\n",
        "    else:\n",
        "      print('WAR!')\n",
        "\n",
        "      if len(player_one.all_cards) < 5:\n",
        "        print('Player A unable to declare war.')\n",
        "        print('Player B Wins!')\n",
        "        game_one = False\n",
        "        break\n",
        "\n",
        "      elif len(player_two.all_cards) < 5:\n",
        "        print('Player B unable to declare war.')\n",
        "        print('Player A Wins!')\n",
        "        game_one = False\n",
        "        break\n",
        "\n",
        "      else:\n",
        "        for num in range(5):\n",
        "          player_one_cards.append(player_one.remove_one())\n",
        "          player_two_cards.append(player_two.remove_one())\n"
      ],
      "metadata": {
        "colab": {
          "base_uri": "https://localhost:8080/"
        },
        "id": "Az6yIHtbwpEP",
        "outputId": "a3d1c1cd-8728-4bab-c66e-ad29dc81b1d2"
      },
      "execution_count": null,
      "outputs": [
        {
          "output_type": "stream",
          "name": "stdout",
          "text": [
            "Round 1\n",
            "Round 2\n",
            "Round 3\n",
            "Round 4\n",
            "Round 5\n",
            "Round 6\n",
            "Round 7\n",
            "Round 8\n",
            "Round 9\n",
            "Round 10\n",
            "Round 11\n",
            "Round 12\n",
            "Round 13\n",
            "Round 14\n",
            "Round 15\n",
            "Round 16\n",
            "Round 17\n",
            "Round 18\n",
            "Round 19\n",
            "Round 20\n",
            "Round 21\n",
            "Round 22\n",
            "Round 23\n",
            "Round 24\n",
            "Round 25\n",
            "Round 26\n",
            "Round 27\n",
            "Round 28\n",
            "Round 29\n",
            "Round 30\n",
            "Round 31\n",
            "Round 32\n",
            "Round 33\n",
            "Round 34\n",
            "Round 35\n",
            "Round 36\n",
            "Round 37\n",
            "Round 38\n",
            "WAR!\n",
            "Round 39\n",
            "Round 40\n",
            "Round 41\n",
            "Round 42\n",
            "Round 43\n",
            "Round 44\n",
            "Round 45\n",
            "Round 46\n",
            "WAR!\n",
            "Round 47\n",
            "Round 48\n",
            "Round 49\n",
            "Round 50\n",
            "Round 51\n",
            "Round 52\n",
            "Round 53\n",
            "Round 54\n",
            "Round 55\n",
            "Round 56\n",
            "Round 57\n",
            "Round 58\n",
            "Round 59\n",
            "Round 60\n",
            "Round 61\n",
            "Round 62\n",
            "Round 63\n",
            "WAR!\n",
            "Round 64\n",
            "Round 65\n",
            "Round 66\n",
            "Round 67\n",
            "Round 68\n",
            "Round 69\n",
            "Round 70\n",
            "Round 71\n",
            "Round 72\n",
            "Round 73\n",
            "Round 74\n",
            "Round 75\n",
            "Round 76\n",
            "Round 77\n",
            "Round 78\n",
            "Round 79\n",
            "Round 80\n",
            "Round 81\n",
            "WAR!\n",
            "Round 82\n",
            "Round 83\n",
            "Round 84\n",
            "Round 85\n",
            "Round 86\n",
            "Round 87\n",
            "Round 88\n",
            "WAR!\n",
            "Round 89\n",
            "Round 90\n",
            "Round 91\n",
            "Round 92\n",
            "Round 93\n",
            "Round 94\n",
            "Round 95\n",
            "Round 96\n",
            "Round 97\n",
            "Round 98\n",
            "Round 99\n",
            "Round 100\n",
            "Round 101\n",
            "WAR!\n",
            "Round 102\n",
            "Round 103\n",
            "Round 104\n",
            "Round 105\n",
            "Round 106\n",
            "Round 107\n",
            "Round 108\n",
            "Round 109\n",
            "Round 110\n",
            "Round 111\n",
            "WAR!\n",
            "Round 112\n",
            "Round 113\n",
            "Round 114\n",
            "Round 115\n",
            "Round 116\n",
            "Round 117\n",
            "Round 118\n",
            "Round 119\n",
            "Round 120\n",
            "Round 121\n",
            "WAR!\n",
            "Round 122\n",
            "Round 123\n",
            "Round 124\n",
            "Round 125\n",
            "Round 126\n",
            "Round 127\n",
            "Round 128\n",
            "Round 129\n",
            "Round 130\n",
            "Round 131\n",
            "Round 132\n",
            "Round 133\n",
            "Round 134\n",
            "Round 135\n",
            "Round 136\n",
            "Round 137\n",
            "Round 138\n",
            "Round 139\n",
            "Round 140\n",
            "Round 141\n",
            "Round 142\n",
            "Round 143\n",
            "Round 144\n",
            "Round 145\n",
            "Round 146\n",
            "Round 147\n",
            "WAR!\n",
            "Player B unable to declare war.\n",
            "Player A Wins!\n",
            "Round 148\n",
            "Round 149\n",
            "Round 150\n",
            "Round 151\n",
            "Round 152\n",
            "Round 153\n",
            "Round 154\n",
            "Round 155\n",
            "Round 156\n",
            "Round 157\n",
            "Round 158\n",
            "Round 159\n",
            "Round 160\n",
            "Round 161\n",
            "Round 162\n",
            "Round 163\n",
            "Player B, out of cards! Player A Wins\n"
          ]
        }
      ]
    },
    {
      "cell_type": "markdown",
      "source": [
        "Project 2: BlackJack"
      ],
      "metadata": {
        "id": "MkpB6MGheIiQ"
      }
    },
    {
      "cell_type": "markdown",
      "source": [
        "*   Human Player Goal: Get closer to a total value of 21 than the computer dealer does.\n",
        "*   Posible Actions:\n",
        "1.   **Hit** (Recieve another card)\n",
        "2.   **Stay**(Stop recieving Cards)\n",
        "*   Ignore actions like \"Insurancs\", \"Split\", or \"Double Down\"\n",
        "*   Special Rules:\n",
        "1.   Face Cards count as a value of 10.\n",
        "2.   Aces can count as either 1 or 11 whichever value is preferable to the player.\n",
        "\n",
        "\n",
        "\n"
      ],
      "metadata": {
        "id": "fg0Lu2b5fAxH"
      }
    },
    {
      "cell_type": "code",
      "source": [
        "import random\n",
        "suits = ('Hearts','Diamonds','Spades','Clubs')\n",
        "ranks = ('Two','Three','Four','Five','Six','Seven','Eight','Nine','Ten','Jack','Queen','King','Ace')\n",
        "values = {'Two':2,'Three':3,'Four':4,'Five':5,'Six':6,'Seven':7,'Eight':8,\n",
        "          'Nine':9,'Ten':10,'Jack':10,'Queen':10,'King':10,'Ace':11}"
      ],
      "metadata": {
        "id": "baKvhFv1eITe"
      },
      "execution_count": null,
      "outputs": []
    },
    {
      "cell_type": "code",
      "source": [
        "class Card():\n",
        "  def __init__(self,suit,rank):\n",
        "    self.suit = suit\n",
        "    self.rank = rank\n",
        "    self.value = values[rank]\n",
        "\n",
        "  def __str__(self):\n",
        "    return self.rank + \" of \" + self.suit"
      ],
      "metadata": {
        "id": "Nhg1cvEUBzmb"
      },
      "execution_count": null,
      "outputs": []
    },
    {
      "cell_type": "code",
      "source": [
        "class Deck:\n",
        "    def __init__(self):\n",
        "        self.all_cards = [Card(suit, rank) for suit in suits for rank in ranks]\n",
        "        self.shuffle() # Avoid forgetting to shuffle the cards manually.\n",
        "\n",
        "    def shuffle(self):\n",
        "        random.shuffle(self.all_cards)\n",
        "\n",
        "    def deal_one(self):\n",
        "        return self.all_cards.pop()"
      ],
      "metadata": {
        "id": "nasQN0DMCIlZ"
      },
      "execution_count": null,
      "outputs": []
    },
    {
      "cell_type": "code",
      "source": [
        "def calculate_sum(cards):\n",
        "    total = 0\n",
        "    aces = 0\n",
        "    for card in cards:\n",
        "        total += card.value\n",
        "        if card.rank == 'Ace':\n",
        "            aces += 1\n",
        "    while total > 21 and aces: # aces != 0\n",
        "        total -= 10\n",
        "        aces -= 1\n",
        "    return total"
      ],
      "metadata": {
        "id": "Dz4p5Gu9OUgP"
      },
      "execution_count": null,
      "outputs": []
    },
    {
      "cell_type": "code",
      "source": [
        "class Dealer:\n",
        "    def __init__(self):\n",
        "        self.all_cards = []\n",
        "\n",
        "    def add_cards(self, new_card):\n",
        "        self.all_cards.append(new_card)\n",
        "\n",
        "    def show_upcard(self):\n",
        "        return self.all_cards[0]\n",
        "\n",
        "    def reveal_all(self):\n",
        "        return self.all_cards\n",
        "\n",
        "    def calculate_sum(self):\n",
        "        return calculate_sum(self.all_cards)"
      ],
      "metadata": {
        "id": "oye68sHZDPzD"
      },
      "execution_count": null,
      "outputs": []
    },
    {
      "cell_type": "code",
      "source": [
        "class Player:\n",
        "    def __init__(self):\n",
        "        self.all_cards = []\n",
        "\n",
        "    def add_cards(self, new_card):\n",
        "        self.all_cards.append(new_card)\n",
        "\n",
        "    def reveal_all(self):\n",
        "        return self.all_cards\n",
        "\n",
        "    def calculate_sum(self):\n",
        "        return calculate_sum(self.all_cards)"
      ],
      "metadata": {
        "id": "mwDRM6Z3C9sQ"
      },
      "execution_count": null,
      "outputs": []
    },
    {
      "cell_type": "code",
      "source": [
        "def play_blackjack():\n",
        "    print(\"Welcome to Blackjack!\\n\")\n",
        "\n",
        "    # SETTINGS\n",
        "    deck = Deck()\n",
        "    player = Player()\n",
        "    dealer = Dealer()\n",
        "\n",
        "    for i in range(2):\n",
        "        player.add_cards(deck.deal_one())\n",
        "        dealer.add_cards(deck.deal_one())\n",
        "\n",
        "    print(\"Dealer shows:\", dealer.show_upcard())\n",
        "    print(\"Your cards:\", [str(card) for card in player.reveal_all()])\n",
        "\n",
        "    player_sum = player.calculate_sum()\n",
        "\n",
        "    if player_sum == 21:\n",
        "        print(\"Blackjack! You win immediately!\")\n",
        "        return\n",
        "\n",
        "    # Player Turn\n",
        "    while True:\n",
        "        choice = input(\"Do you want to hit or stay? \").lower()\n",
        "        if choice == 'hit':\n",
        "            new_card = deck.deal_one()\n",
        "            player.add_cards(new_card)\n",
        "            player_sum = player.calculate_sum()\n",
        "            print(\"You drew:\", new_card)\n",
        "            print(\"Your cards:\", [str(card) for card in player.reveal_all()])\n",
        "            if player_sum > 21:\n",
        "                print(\"Bust! You lose.\")\n",
        "                return\n",
        "            elif player_sum == 21:\n",
        "                print(\"You hit 21!\")\n",
        "                break\n",
        "        elif choice == 'stay':\n",
        "            break\n",
        "        else:\n",
        "            print(\"Please type 'hit' or 'stay'.\")\n",
        "\n",
        "    # Dealer Turn\n",
        "    print(\"\\nDealer's turn...\")\n",
        "    print(\"Dealer's cards:\", [str(card) for card in dealer.reveal_all()])\n",
        "    dealer_sum = dealer.calculate_sum()\n",
        "\n",
        "    while dealer_sum < 17:\n",
        "        card = deck.deal_one()\n",
        "        dealer.add_cards(card)\n",
        "        dealer_sum = dealer.calculate_sum()\n",
        "        print(\"Dealer draws:\", card)\n",
        "\n",
        "    print(\"Dealer's final hand:\", [str(card) for card in dealer.reveal_all()])\n",
        "    print(\"Dealer's total:\", dealer_sum)\n",
        "\n",
        "    if dealer_sum > 21:\n",
        "        print(\"Dealer busts! You win!\")\n",
        "    elif dealer_sum > player_sum:\n",
        "        print(\"Dealer wins!\")\n",
        "    elif dealer_sum < player_sum:\n",
        "        print(\"You win!\")\n",
        "    else:\n",
        "        print(\"It's a tie!\")"
      ],
      "metadata": {
        "id": "2zDVLIxbHLvU"
      },
      "execution_count": null,
      "outputs": []
    },
    {
      "cell_type": "code",
      "source": [
        "play_blackjack()"
      ],
      "metadata": {
        "colab": {
          "base_uri": "https://localhost:8080/"
        },
        "id": "egZtXvPuIvQI",
        "outputId": "503f997f-5dae-47af-e8ea-8e6978f18d9d"
      },
      "execution_count": null,
      "outputs": [
        {
          "output_type": "stream",
          "name": "stdout",
          "text": [
            "Welcome to Blackjack!\n",
            "\n",
            "Dealer shows: Queen of Diamonds\n",
            "Your cards: ['King of Spades', 'King of Hearts']\n",
            "Do you want to hit or stay? stay\n",
            "\n",
            "Dealer's turn...\n",
            "Dealer's cards: ['Queen of Diamonds', 'Two of Hearts']\n",
            "Dealer draws: Queen of Clubs\n",
            "Dealer's final hand: ['Queen of Diamonds', 'Two of Hearts', 'Queen of Clubs']\n",
            "Dealer's total: 22\n",
            "Dealer busts! You win!\n"
          ]
        }
      ]
    }
  ]
}