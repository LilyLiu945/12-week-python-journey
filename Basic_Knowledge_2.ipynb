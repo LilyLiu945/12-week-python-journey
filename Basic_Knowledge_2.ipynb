{
  "nbformat": 4,
  "nbformat_minor": 0,
  "metadata": {
    "colab": {
      "provenance": [],
      "authorship_tag": "ABX9TyNXWPM7rXb1VzsLhXDUzQAf",
      "include_colab_link": true
    },
    "kernelspec": {
      "name": "python3",
      "display_name": "Python 3"
    },
    "language_info": {
      "name": "python"
    }
  },
  "cells": [
    {
      "cell_type": "markdown",
      "metadata": {
        "id": "view-in-github",
        "colab_type": "text"
      },
      "source": [
        "<a href=\"https://colab.research.google.com/github/LilyLiu945/12-week-python-journey/blob/main/Basic_Knowledge_2.ipynb\" target=\"_parent\"><img src=\"https://colab.research.google.com/assets/colab-badge.svg\" alt=\"Open In Colab\"/></a>"
      ]
    },
    {
      "cell_type": "markdown",
      "source": [
        "Challenge Problems"
      ],
      "metadata": {
        "id": "ns8SWGwIepib"
      }
    },
    {
      "cell_type": "code",
      "execution_count": null,
      "metadata": {
        "id": "A-P7u9gHekTV"
      },
      "outputs": [],
      "source": [
        "# Better Version!\n",
        "def spy_game(nums):\n",
        "\n",
        "  code = [0,0,7,'x']\n",
        "\n",
        "  for num in nums:\n",
        "    if num == code[0]:\n",
        "      code.pop(0)\n",
        "  return len(code) == 1"
      ]
    },
    {
      "cell_type": "code",
      "source": [
        "def spy_game(l):\n",
        "    for i in range(0, len(l)):\n",
        "        if l[i] == 0:\n",
        "            for j in range(i+1, len(l)):\n",
        "                if l[j] == 0:\n",
        "                    for k in range(j+1, len(l)):\n",
        "                        if l[k] == 7:\n",
        "                            return True\n",
        "    return False"
      ],
      "metadata": {
        "id": "C6psuI2elZxM"
      },
      "execution_count": null,
      "outputs": []
    },
    {
      "cell_type": "code",
      "source": [
        "spy_game([1,2,4,0,0,7,5])"
      ],
      "metadata": {
        "colab": {
          "base_uri": "https://localhost:8080/"
        },
        "id": "46HZaGjFfw1P",
        "outputId": "2b66314d-88ad-4a3d-dfdd-76106f695277"
      },
      "execution_count": null,
      "outputs": [
        {
          "output_type": "execute_result",
          "data": {
            "text/plain": [
              "True"
            ]
          },
          "metadata": {},
          "execution_count": 16
        }
      ]
    },
    {
      "cell_type": "code",
      "source": [
        "spy_game([1,0,2,4,0,5,7])"
      ],
      "metadata": {
        "colab": {
          "base_uri": "https://localhost:8080/"
        },
        "id": "erP1x-d6f6By",
        "outputId": "6d951515-d0e5-480f-f440-2b18cfaca785"
      },
      "execution_count": null,
      "outputs": [
        {
          "output_type": "execute_result",
          "data": {
            "text/plain": [
              "True"
            ]
          },
          "metadata": {},
          "execution_count": 17
        }
      ]
    },
    {
      "cell_type": "code",
      "source": [
        "spy_game([1,7,2,0,4,5,0])"
      ],
      "metadata": {
        "colab": {
          "base_uri": "https://localhost:8080/"
        },
        "id": "t8GQUUR2jNuR",
        "outputId": "69bfa494-0794-4f69-fc00-f4f0d8db62a9"
      },
      "execution_count": null,
      "outputs": [
        {
          "output_type": "execute_result",
          "data": {
            "text/plain": [
              "False"
            ]
          },
          "metadata": {},
          "execution_count": 18
        }
      ]
    },
    {
      "cell_type": "code",
      "source": [
        "# Returns the number of prime numbers taht exist up to and including a given number.\n",
        "def count_primes(num):\n",
        "\n",
        "# Check for 0 or 1 input\n",
        "  if num < 2:\n",
        "    return 0\n",
        "\n",
        "# 2 or greater\n",
        "# Store prime numbers\n",
        "  primes = [2]\n",
        "# Counter going up to the imput num\n",
        "  x = 3\n",
        "\n",
        "# x is going through every number up to input num\n",
        "  while x <= num:\n",
        "    # Check if x is prime\n",
        "    for y in range(3,x,2): # Best method: in primes!!!\n",
        "      if x%y == 0:\n",
        "        x += 2\n",
        "        break\n",
        "    else:\n",
        "      primes.append(x)\n",
        "      x += 2\n",
        "  print(primes)\n",
        "  return len(primes)\n",
        "\n",
        "# for item in iterable:\n",
        "#   if:\n",
        "#     break\n",
        "# else:\n",
        "\n",
        "# Only when the for loop \"ends naturally\" (no break) will it enter the else"
      ],
      "metadata": {
        "id": "rbI5h7QAm-7v"
      },
      "execution_count": null,
      "outputs": []
    },
    {
      "cell_type": "code",
      "source": [
        "# Another Version\n",
        "def is_prime(n):\n",
        "  # Exclude 0, 1 and even numbers other than 2\n",
        "  if n < 2:\n",
        "    return False\n",
        "  if n == 2:\n",
        "    return True\n",
        "  if n % 2 == 0:\n",
        "    return False\n",
        "\n",
        "  # Only check to the square root\n",
        "  for i in range(3, int(n**0.5) + 1, 2):\n",
        "    if n % i == 0:\n",
        "      return False\n",
        "  return True\n",
        "\n",
        "def count_primes(num):\n",
        "  return len([x for x in range(2, num+1) if is_prime(x)])"
      ],
      "metadata": {
        "id": "QSyLuVYkivgr"
      },
      "execution_count": null,
      "outputs": []
    },
    {
      "cell_type": "code",
      "source": [
        "count_primes(100)"
      ],
      "metadata": {
        "colab": {
          "base_uri": "https://localhost:8080/"
        },
        "id": "QoqNpqH9ZYSm",
        "outputId": "84f2b78a-6359-441f-fe4a-5133f224ec86"
      },
      "execution_count": null,
      "outputs": [
        {
          "output_type": "stream",
          "name": "stdout",
          "text": [
            "[2, 3, 5, 7, 11, 13, 17, 19, 23, 29, 31, 37, 41, 43, 47, 53, 59, 61, 67, 71, 73, 79, 83, 89, 97]\n"
          ]
        },
        {
          "output_type": "execute_result",
          "data": {
            "text/plain": [
              "25"
            ]
          },
          "metadata": {},
          "execution_count": 8
        }
      ]
    },
    {
      "cell_type": "code",
      "source": [
        "def print_big(letter):\n",
        "  patterns = {1:'  *  ',2:' * * ',3:'*   *',4:'*****',5:'**** ',6:'   * ',7:' *   ',8:'*  * ',9:'*    '}\n",
        "  alphabet = {'A':[1,2,4,3,3],'B':[5,3,5,3,5],'C':[4,9,9,9,4],'D':[5,3,3,3,5],'E':[4,9,4,9,4]}\n",
        "  for pattern in alphabet[letter.upper()]:\n",
        "    print(patterns[pattern])"
      ],
      "metadata": {
        "id": "usoe1QksopFy"
      },
      "execution_count": null,
      "outputs": []
    },
    {
      "cell_type": "code",
      "source": [
        "print_big('a')"
      ],
      "metadata": {
        "colab": {
          "base_uri": "https://localhost:8080/"
        },
        "id": "9-o3Gwq3qJ8s",
        "outputId": "6c285fa2-fb50-4383-d12d-6ab7ddbe100b"
      },
      "execution_count": null,
      "outputs": [
        {
          "output_type": "stream",
          "name": "stdout",
          "text": [
            "  *  \n",
            " * * \n",
            "*****\n",
            "*   *\n",
            "*   *\n"
          ]
        }
      ]
    },
    {
      "cell_type": "markdown",
      "source": [
        "Lambda Expressions, Map and Filter"
      ],
      "metadata": {
        "id": "udimBnhMqhcR"
      }
    },
    {
      "cell_type": "code",
      "source": [
        "def square(num):\n",
        "  return num**2"
      ],
      "metadata": {
        "id": "HZRv-Ja_qM80"
      },
      "execution_count": null,
      "outputs": []
    },
    {
      "cell_type": "code",
      "source": [
        "my_nums = [1,2,3,4,5]"
      ],
      "metadata": {
        "id": "jxjAOSEpq_Gf"
      },
      "execution_count": null,
      "outputs": []
    },
    {
      "cell_type": "code",
      "source": [
        "for item in map(square,my_nums):\n",
        "  print(item)"
      ],
      "metadata": {
        "colab": {
          "base_uri": "https://localhost:8080/"
        },
        "id": "8p7sOKTLrCEB",
        "outputId": "9fc36a87-6b40-4ef7-ec5a-2e61a5553696"
      },
      "execution_count": null,
      "outputs": [
        {
          "output_type": "stream",
          "name": "stdout",
          "text": [
            "1\n",
            "4\n",
            "9\n",
            "16\n",
            "25\n"
          ]
        }
      ]
    },
    {
      "cell_type": "code",
      "source": [
        "list((map(square,my_nums)))"
      ],
      "metadata": {
        "colab": {
          "base_uri": "https://localhost:8080/"
        },
        "id": "1ng-9FFarHN4",
        "outputId": "8881e59f-fc29-4705-9bde-d07e738c9b47"
      },
      "execution_count": null,
      "outputs": [
        {
          "output_type": "execute_result",
          "data": {
            "text/plain": [
              "[1, 4, 9, 16, 25]"
            ]
          },
          "metadata": {},
          "execution_count": 17
        }
      ]
    },
    {
      "cell_type": "code",
      "source": [
        "def splicer(mystring):\n",
        "  if len(mystring)%2 == 0:\n",
        "    return 'EVEN'\n",
        "  else:\n",
        "    return mystring[0]"
      ],
      "metadata": {
        "id": "4DUhbONJrbuS"
      },
      "execution_count": null,
      "outputs": []
    },
    {
      "cell_type": "code",
      "source": [
        "names = ['Andy','Eve','Sally']"
      ],
      "metadata": {
        "id": "hosEPWiJrrQN"
      },
      "execution_count": null,
      "outputs": []
    },
    {
      "cell_type": "code",
      "source": [
        "list(map(splicer,names))"
      ],
      "metadata": {
        "colab": {
          "base_uri": "https://localhost:8080/"
        },
        "id": "M3j4MeLJrysk",
        "outputId": "c0707a4e-5a5a-4568-eade-2cd02f270de7"
      },
      "execution_count": null,
      "outputs": [
        {
          "output_type": "execute_result",
          "data": {
            "text/plain": [
              "['EVEN', 'E', 'S']"
            ]
          },
          "metadata": {},
          "execution_count": 21
        }
      ]
    },
    {
      "cell_type": "code",
      "source": [
        "def check_even(num):\n",
        "  return num%2 == 0"
      ],
      "metadata": {
        "id": "aun1zY9gr2w9"
      },
      "execution_count": null,
      "outputs": []
    },
    {
      "cell_type": "code",
      "source": [
        "mynums = [1,2,3,4,5,6]"
      ],
      "metadata": {
        "id": "hn7PJpFvsLKB"
      },
      "execution_count": null,
      "outputs": []
    },
    {
      "cell_type": "code",
      "source": [
        "filter(check_even,mynums)"
      ],
      "metadata": {
        "colab": {
          "base_uri": "https://localhost:8080/"
        },
        "id": "jFw1hgMOsOxJ",
        "outputId": "f0627015-e2df-4717-dbd9-20b34816d3ee"
      },
      "execution_count": null,
      "outputs": [
        {
          "output_type": "execute_result",
          "data": {
            "text/plain": [
              "<filter at 0x7ebcb93f1d80>"
            ]
          },
          "metadata": {},
          "execution_count": 24
        }
      ]
    },
    {
      "cell_type": "code",
      "source": [
        "list(filter(check_even,mynums))"
      ],
      "metadata": {
        "colab": {
          "base_uri": "https://localhost:8080/"
        },
        "id": "zprUUcRSsX6j",
        "outputId": "90fd1ed7-fd4e-4007-e1df-347c86e773b8"
      },
      "execution_count": null,
      "outputs": [
        {
          "output_type": "execute_result",
          "data": {
            "text/plain": [
              "[2, 4, 6]"
            ]
          },
          "metadata": {},
          "execution_count": 25
        }
      ]
    },
    {
      "cell_type": "code",
      "source": [
        "for n in filter(check_even,mynums):\n",
        "  print(n)"
      ],
      "metadata": {
        "colab": {
          "base_uri": "https://localhost:8080/"
        },
        "id": "6rtHlHfOsauo",
        "outputId": "05290cae-a25f-4e11-a53b-351e2caaa36d"
      },
      "execution_count": null,
      "outputs": [
        {
          "output_type": "stream",
          "name": "stdout",
          "text": [
            "2\n",
            "4\n",
            "6\n"
          ]
        }
      ]
    },
    {
      "cell_type": "code",
      "source": [
        "def square(num): return num ** 2"
      ],
      "metadata": {
        "id": "fdYdOwKssdxs"
      },
      "execution_count": null,
      "outputs": []
    },
    {
      "cell_type": "code",
      "source": [
        "square(3)"
      ],
      "metadata": {
        "colab": {
          "base_uri": "https://localhost:8080/"
        },
        "id": "gc39xJAruIpQ",
        "outputId": "ba6e7b5b-2208-40f4-fa6f-5efc5ee9c7c5"
      },
      "execution_count": null,
      "outputs": [
        {
          "output_type": "execute_result",
          "data": {
            "text/plain": [
              "9"
            ]
          },
          "metadata": {},
          "execution_count": 32
        }
      ]
    },
    {
      "cell_type": "code",
      "source": [
        "lambda num: num ** 2"
      ],
      "metadata": {
        "colab": {
          "base_uri": "https://localhost:8080/"
        },
        "id": "3yCovMqUuMqo",
        "outputId": "b0d8d435-f341-458a-a3f7-9871c824651e"
      },
      "execution_count": null,
      "outputs": [
        {
          "output_type": "execute_result",
          "data": {
            "text/plain": [
              "<function __main__.<lambda>(num)>"
            ]
          },
          "metadata": {},
          "execution_count": 33
        }
      ]
    },
    {
      "cell_type": "code",
      "source": [
        "square = lambda num: num ** 2"
      ],
      "metadata": {
        "id": "lQXho2BTugUH"
      },
      "execution_count": null,
      "outputs": []
    },
    {
      "cell_type": "code",
      "source": [
        "square(3)"
      ],
      "metadata": {
        "colab": {
          "base_uri": "https://localhost:8080/"
        },
        "id": "E0pXuzeCum_W",
        "outputId": "3d2084f1-c063-4574-c98a-724ecb71a8ae"
      },
      "execution_count": null,
      "outputs": [
        {
          "output_type": "execute_result",
          "data": {
            "text/plain": [
              "9"
            ]
          },
          "metadata": {},
          "execution_count": 35
        }
      ]
    },
    {
      "cell_type": "code",
      "source": [
        "list(map(lambda num: num**2,mynums))"
      ],
      "metadata": {
        "colab": {
          "base_uri": "https://localhost:8080/"
        },
        "id": "NXi8ZXynuoW8",
        "outputId": "bda4b999-947a-4979-88f2-b28e419afe1f"
      },
      "execution_count": null,
      "outputs": [
        {
          "output_type": "execute_result",
          "data": {
            "text/plain": [
              "[1, 4, 9, 16, 25, 36]"
            ]
          },
          "metadata": {},
          "execution_count": 36
        }
      ]
    },
    {
      "cell_type": "code",
      "source": [
        "list(filter(lambda num: num%2 == 0,mynums))"
      ],
      "metadata": {
        "colab": {
          "base_uri": "https://localhost:8080/"
        },
        "id": "ELmd7RxWu5mH",
        "outputId": "caf302e9-d331-4902-97f5-963cb68ec170"
      },
      "execution_count": null,
      "outputs": [
        {
          "output_type": "execute_result",
          "data": {
            "text/plain": [
              "[2, 4, 6]"
            ]
          },
          "metadata": {},
          "execution_count": 37
        }
      ]
    },
    {
      "cell_type": "code",
      "source": [
        "list(map(lambda x: x[::-1],names))"
      ],
      "metadata": {
        "colab": {
          "base_uri": "https://localhost:8080/"
        },
        "id": "eNKLw750vGkX",
        "outputId": "b0932514-6dd4-48cd-9c7a-d9f4055a6ab2"
      },
      "execution_count": null,
      "outputs": [
        {
          "output_type": "execute_result",
          "data": {
            "text/plain": [
              "['ydnA', 'evE', 'yllaS']"
            ]
          },
          "metadata": {},
          "execution_count": 38
        }
      ]
    },
    {
      "cell_type": "markdown",
      "source": [
        "Nested Statements and Scope"
      ],
      "metadata": {
        "id": "OabEHm0kvGCo"
      }
    },
    {
      "cell_type": "markdown",
      "source": [
        "LEGB Rule:\n",
        "*   Local\n",
        "*   Enclosing function locals\n",
        "*   Global(module)\n",
        "*   Built-in(Python)"
      ],
      "metadata": {
        "id": "siK1yC-Ou25U"
      }
    },
    {
      "cell_type": "code",
      "source": [
        "# lambda num:num**2"
      ],
      "metadata": {
        "colab": {
          "base_uri": "https://localhost:8080/"
        },
        "id": "67bHPUH0x47A",
        "outputId": "8b4bc04b-beee-43e6-a411-8e8ba7fe6d63"
      },
      "execution_count": null,
      "outputs": [
        {
          "output_type": "execute_result",
          "data": {
            "text/plain": [
              "<function __main__.<lambda>(num)>"
            ]
          },
          "metadata": {},
          "execution_count": 39
        }
      ]
    },
    {
      "cell_type": "code",
      "source": [
        "# Global\n",
        "name = 'THIS IS A GLOBAL STRING'\n",
        "\n",
        "def greet():\n",
        "  # Enclosing\n",
        "  name = 'Sammy'\n",
        "\n",
        "  def hello():\n",
        "    # Local\n",
        "    name = 'I AM LOCAL'\n",
        "    print('Hello '+name)\n",
        "\n",
        "  hello()"
      ],
      "metadata": {
        "id": "QEGKkOA61QOK"
      },
      "execution_count": null,
      "outputs": []
    },
    {
      "cell_type": "code",
      "source": [
        "greet()"
      ],
      "metadata": {
        "colab": {
          "base_uri": "https://localhost:8080/"
        },
        "id": "PottwClE2JaO",
        "outputId": "2f6d66bb-7f40-4447-abd6-f20d1b3ecc1d"
      },
      "execution_count": null,
      "outputs": [
        {
          "output_type": "stream",
          "name": "stdout",
          "text": [
            "Hello I AM LOCAL\n"
          ]
        }
      ]
    },
    {
      "cell_type": "code",
      "source": [
        "x = 50\n",
        "\n",
        "def func():\n",
        "  global x\n",
        "  print(f'X is {x}')\n",
        "\n",
        "  # Local Reassignment on a Global Variable!\n",
        "  x = 'NEW VALUE'\n",
        "  print(f'I JUST LOCALLY CHANGED X TO {x}')\n",
        "  return x"
      ],
      "metadata": {
        "id": "cTlBCvAM3H0m"
      },
      "execution_count": null,
      "outputs": []
    },
    {
      "cell_type": "code",
      "source": [
        "print(x)"
      ],
      "metadata": {
        "colab": {
          "base_uri": "https://localhost:8080/"
        },
        "id": "Wcwnao9A4F8e",
        "outputId": "06974f4e-5f9c-44ec-b250-8f44da06ac0b"
      },
      "execution_count": null,
      "outputs": [
        {
          "output_type": "stream",
          "name": "stdout",
          "text": [
            "50\n"
          ]
        }
      ]
    },
    {
      "cell_type": "code",
      "source": [
        "x = func()"
      ],
      "metadata": {
        "colab": {
          "base_uri": "https://localhost:8080/"
        },
        "id": "0kY-Krw64J0x",
        "outputId": "a8300551-5f91-483c-a261-50d5e1499c76"
      },
      "execution_count": null,
      "outputs": [
        {
          "output_type": "stream",
          "name": "stdout",
          "text": [
            "X is 50\n",
            "I JUST LOCALLY CHANGED X TO NEW VALUE\n"
          ]
        }
      ]
    },
    {
      "cell_type": "code",
      "source": [
        "print(x)"
      ],
      "metadata": {
        "colab": {
          "base_uri": "https://localhost:8080/"
        },
        "id": "IcWKzhv03WQ_",
        "outputId": "3d5baab8-13f5-4fb4-a944-f80a01f8ce7e"
      },
      "execution_count": null,
      "outputs": [
        {
          "output_type": "stream",
          "name": "stdout",
          "text": [
            "NEW VALUE\n"
          ]
        }
      ]
    },
    {
      "cell_type": "markdown",
      "source": [
        "Homework"
      ],
      "metadata": {
        "id": "E-b4bALy401i"
      }
    },
    {
      "cell_type": "code",
      "source": [
        "import math\n",
        "def vol(rad):\n",
        "  return 4 / 3 * math.pi * (rad**3)"
      ],
      "metadata": {
        "id": "8cdEXqID3jVW"
      },
      "execution_count": null,
      "outputs": []
    },
    {
      "cell_type": "code",
      "source": [
        "vol(2)"
      ],
      "metadata": {
        "colab": {
          "base_uri": "https://localhost:8080/"
        },
        "id": "gb8S7ufm5270",
        "outputId": "a1f415c5-e941-40cc-9424-0e62d78a2bb7"
      },
      "execution_count": null,
      "outputs": [
        {
          "output_type": "execute_result",
          "data": {
            "text/plain": [
              "33.510321638291124"
            ]
          },
          "metadata": {},
          "execution_count": 67
        }
      ]
    },
    {
      "cell_type": "code",
      "source": [
        "def ran_check(num,low,high):\n",
        "  if num in range(low,high+1):\n",
        "    print(f'{num} is in the range between {low} and {high}')\n",
        "  else:\n",
        "    print(f'{num} is not in the range between {low} and {high}')"
      ],
      "metadata": {
        "id": "sPwvn36O54fI"
      },
      "execution_count": null,
      "outputs": []
    },
    {
      "cell_type": "code",
      "source": [
        "ran_check(5,2,7)"
      ],
      "metadata": {
        "colab": {
          "base_uri": "https://localhost:8080/"
        },
        "id": "WqJ7dLZD7NWf",
        "outputId": "a866c52e-02af-4a0b-e101-2e0668133d72"
      },
      "execution_count": null,
      "outputs": [
        {
          "output_type": "stream",
          "name": "stdout",
          "text": [
            "5 is in the range between 2 and 7\n"
          ]
        }
      ]
    },
    {
      "cell_type": "code",
      "source": [
        "def ran_bool(num,low,high):\n",
        "  return num in range(low,high+1)"
      ],
      "metadata": {
        "id": "G-ARM61g7QH5"
      },
      "execution_count": null,
      "outputs": []
    },
    {
      "cell_type": "code",
      "source": [
        "ran_bool(11,1,10)"
      ],
      "metadata": {
        "colab": {
          "base_uri": "https://localhost:8080/"
        },
        "id": "oJtC5Z1H7aUn",
        "outputId": "b1d5b251-70d6-46e0-da72-2d778238a183"
      },
      "execution_count": null,
      "outputs": [
        {
          "output_type": "execute_result",
          "data": {
            "text/plain": [
              "False"
            ]
          },
          "metadata": {},
          "execution_count": 74
        }
      ]
    },
    {
      "cell_type": "code",
      "source": [
        "def up_low(s):\n",
        "  d = {'upper':0,'lower':0}\n",
        "  for c in s:\n",
        "    if c.isupper():\n",
        "      d['upper'] += 1\n",
        "    elif c.islower():\n",
        "      d['lower'] += 1\n",
        "    else:\n",
        "      pass\n",
        "  print(f'Original String: {s}')\n",
        "  print(f'Lowercase count: {d[\"lower\"]}')\n",
        "  print(f'Uppercase count: {d[\"upper\"]}')"
      ],
      "metadata": {
        "id": "bYGwqG6u8w-2"
      },
      "execution_count": null,
      "outputs": []
    },
    {
      "cell_type": "code",
      "source": [
        "s = 'Hello Mr. Rogers, how are you this fine Tuesday?'\n",
        "up_low(s)"
      ],
      "metadata": {
        "colab": {
          "base_uri": "https://localhost:8080/"
        },
        "id": "MD1uBFd8730X",
        "outputId": "a9a35ad7-1368-4fc0-feb1-0ee4d2739e03"
      },
      "execution_count": null,
      "outputs": [
        {
          "output_type": "stream",
          "name": "stdout",
          "text": [
            "Original String: Hello Mr. Rogers, how are you this fine Tuesday?\n",
            "Lowercase count: 33\n",
            "Uppercase count: 4\n"
          ]
        }
      ]
    },
    {
      "cell_type": "code",
      "source": [
        "def unique_list(lst):\n",
        "  return list(set(lst))"
      ],
      "metadata": {
        "id": "sgIk1PbC81Ws"
      },
      "execution_count": null,
      "outputs": []
    },
    {
      "cell_type": "code",
      "source": [
        "unique_list([1,1,1,1,2,2,3,3,3,3,4,5])"
      ],
      "metadata": {
        "colab": {
          "base_uri": "https://localhost:8080/"
        },
        "id": "OE7g5usT9C01",
        "outputId": "855a7d0f-c845-4827-a508-bed1c208444e"
      },
      "execution_count": null,
      "outputs": [
        {
          "output_type": "execute_result",
          "data": {
            "text/plain": [
              "[1, 2, 3, 4, 5]"
            ]
          },
          "metadata": {},
          "execution_count": 78
        }
      ]
    },
    {
      "cell_type": "code",
      "source": [
        "def multiply(numbers):\n",
        "  product = 1\n",
        "  for num in numbers:\n",
        "    product *= num\n",
        "  return product"
      ],
      "metadata": {
        "id": "OkmID9NO9g4-"
      },
      "execution_count": null,
      "outputs": []
    },
    {
      "cell_type": "code",
      "source": [
        "multiply([1,2,3,-4])"
      ],
      "metadata": {
        "colab": {
          "base_uri": "https://localhost:8080/"
        },
        "id": "-CdtDZiV9uN9",
        "outputId": "c20a8d8e-b781-4ba8-bf0b-4ad65f25f385"
      },
      "execution_count": null,
      "outputs": [
        {
          "output_type": "execute_result",
          "data": {
            "text/plain": [
              "-24"
            ]
          },
          "metadata": {},
          "execution_count": 81
        }
      ]
    },
    {
      "cell_type": "code",
      "source": [
        "def palindrome(s):\n",
        "  # Remove space string\n",
        "  s = s.replace(' ','')\n",
        "  return s == s[::-1]"
      ],
      "metadata": {
        "id": "BhrhZs6J-gFg"
      },
      "execution_count": null,
      "outputs": []
    },
    {
      "cell_type": "code",
      "source": [
        "palindrome('hel le h')"
      ],
      "metadata": {
        "colab": {
          "base_uri": "https://localhost:8080/"
        },
        "id": "GY7WnW-9-0I3",
        "outputId": "d1f8bfbb-2452-491e-eadc-230663c3a5f7"
      },
      "execution_count": null,
      "outputs": [
        {
          "output_type": "execute_result",
          "data": {
            "text/plain": [
              "True"
            ]
          },
          "metadata": {},
          "execution_count": 10
        }
      ]
    },
    {
      "cell_type": "code",
      "source": [
        "import string\n",
        "\n",
        "def ispangram(str1):\n",
        "  return set(string.ascii_lowercase) <= set(str1.lower())\n",
        "# Subset Comparison"
      ],
      "metadata": {
        "id": "kW3z22Eq_IWj"
      },
      "execution_count": null,
      "outputs": []
    },
    {
      "cell_type": "code",
      "source": [
        "ispangram(\"The quick brown fox jumps over the lazy dog\")"
      ],
      "metadata": {
        "colab": {
          "base_uri": "https://localhost:8080/"
        },
        "id": "DXlADPO7k0iS",
        "outputId": "e5326e4a-ec77-417c-c37f-b7ddac2570f5"
      },
      "execution_count": null,
      "outputs": [
        {
          "output_type": "execute_result",
          "data": {
            "text/plain": [
              "True"
            ]
          },
          "metadata": {},
          "execution_count": 7
        }
      ]
    },
    {
      "cell_type": "code",
      "source": [
        "string.ascii_lowercase"
      ],
      "metadata": {
        "colab": {
          "base_uri": "https://localhost:8080/",
          "height": 35
        },
        "id": "aPkzPweEk_vC",
        "outputId": "c5ec411b-3153-4226-83a3-7a1e2dbe2752"
      },
      "execution_count": null,
      "outputs": [
        {
          "output_type": "execute_result",
          "data": {
            "text/plain": [
              "'abcdefghijklmnopqrstuvwxyz'"
            ],
            "application/vnd.google.colaboratory.intrinsic+json": {
              "type": "string"
            }
          },
          "metadata": {},
          "execution_count": 3
        }
      ]
    },
    {
      "cell_type": "markdown",
      "source": [
        "OOP (Object Oriented Programming)"
      ],
      "metadata": {
        "id": "Ocxg4MoLny05"
      }
    },
    {
      "cell_type": "code",
      "source": [
        "mylist = [1,2,3]"
      ],
      "metadata": {
        "id": "-2DerSf2lGWq"
      },
      "execution_count": null,
      "outputs": []
    },
    {
      "cell_type": "code",
      "source": [
        "myset = set()"
      ],
      "metadata": {
        "id": "m0JHxVJvVrEs"
      },
      "execution_count": null,
      "outputs": []
    },
    {
      "cell_type": "code",
      "source": [
        "type(myset)"
      ],
      "metadata": {
        "colab": {
          "base_uri": "https://localhost:8080/"
        },
        "id": "S2pgP1CCVuvO",
        "outputId": "aa190b29-8388-4647-b806-a33033a4bf61"
      },
      "execution_count": null,
      "outputs": [
        {
          "output_type": "execute_result",
          "data": {
            "text/plain": [
              "set"
            ]
          },
          "metadata": {},
          "execution_count": 3
        }
      ]
    },
    {
      "cell_type": "code",
      "source": [
        "type(mylist)"
      ],
      "metadata": {
        "colab": {
          "base_uri": "https://localhost:8080/"
        },
        "id": "kcF4IyvTVx2g",
        "outputId": "20747c4c-5702-4125-998d-03c9bdbda0e9"
      },
      "execution_count": null,
      "outputs": [
        {
          "output_type": "execute_result",
          "data": {
            "text/plain": [
              "list"
            ]
          },
          "metadata": {},
          "execution_count": 4
        }
      ]
    },
    {
      "cell_type": "code",
      "source": [
        "class Sample():\n",
        "  pass"
      ],
      "metadata": {
        "id": "hiaQeypeV0GS"
      },
      "execution_count": null,
      "outputs": []
    },
    {
      "cell_type": "code",
      "source": [
        "my_sample = Sample()"
      ],
      "metadata": {
        "id": "B4My7EoOWDbJ"
      },
      "execution_count": null,
      "outputs": []
    },
    {
      "cell_type": "code",
      "source": [
        "type(my_sample)"
      ],
      "metadata": {
        "colab": {
          "base_uri": "https://localhost:8080/"
        },
        "id": "sxBKGsSxWI5w",
        "outputId": "31981079-23b5-45da-8ef1-0a23bbea99c3"
      },
      "execution_count": null,
      "outputs": [
        {
          "output_type": "execute_result",
          "data": {
            "text/plain": [
              "__main__.Sample"
            ]
          },
          "metadata": {},
          "execution_count": 7
        }
      ]
    },
    {
      "cell_type": "code",
      "source": [
        "class Dog():\n",
        "\n",
        "  # CLASS OBJECT ATTRIBUTE\n",
        "  # SAME FOR ANY INSTANCE OF A CLASS\n",
        "  species = 'mammal'\n",
        "\n",
        "  def __init__(self,breed,name,spots):\n",
        "\n",
        "    # Attributes\n",
        "    # We take in the argument\n",
        "    # Assign it using self.attribute_name\n",
        "    self.breed = breed\n",
        "    self.name = name\n",
        "\n",
        "    # Expect boolean True/False\n",
        "    self.spots = spots\n",
        "\n",
        "  # Actions------>Methods\n",
        "  def bark(self,number):\n",
        "    print('WOOF! My name is {} and the number is {}'.format(self.name,number))"
      ],
      "metadata": {
        "id": "W31Nv9dFWLJt"
      },
      "execution_count": null,
      "outputs": []
    },
    {
      "cell_type": "code",
      "source": [
        "my_dog = Dog(breed='Lab',name='Sammy',spots=False)"
      ],
      "metadata": {
        "id": "XSgFlZ0PaF6H"
      },
      "execution_count": null,
      "outputs": []
    },
    {
      "cell_type": "code",
      "source": [
        "type(my_dog)"
      ],
      "metadata": {
        "colab": {
          "base_uri": "https://localhost:8080/",
          "height": 104
        },
        "id": "9xq6E8eHavVv",
        "outputId": "919e00dd-273a-4c92-d63d-88f3cb67eab0"
      },
      "execution_count": null,
      "outputs": [
        {
          "output_type": "execute_result",
          "data": {
            "text/plain": [
              "__main__.Dog"
            ],
            "text/html": [
              "<div style=\"max-width:800px; border: 1px solid var(--colab-border-color);\"><style>\n",
              "      pre.function-repr-contents {\n",
              "        overflow-x: auto;\n",
              "        padding: 8px 12px;\n",
              "        max-height: 500px;\n",
              "      }\n",
              "\n",
              "      pre.function-repr-contents.function-repr-contents-collapsed {\n",
              "        cursor: pointer;\n",
              "        max-height: 100px;\n",
              "      }\n",
              "    </style>\n",
              "    <pre style=\"white-space: initial; background:\n",
              "         var(--colab-secondary-surface-color); padding: 8px 12px;\n",
              "         border-bottom: 1px solid var(--colab-border-color);\"><b>Dog</b><br/>def __init__(breed, name, spots)</pre><pre class=\"function-repr-contents function-repr-contents-collapsed\" style=\"\"><a class=\"filepath\" style=\"display:none\" href=\"#\"></a>&lt;no docstring&gt;</pre></div>"
            ]
          },
          "metadata": {},
          "execution_count": 33
        }
      ]
    },
    {
      "cell_type": "code",
      "source": [
        "my_dog.breed"
      ],
      "metadata": {
        "colab": {
          "base_uri": "https://localhost:8080/",
          "height": 35
        },
        "id": "NagKj4s2a1pm",
        "outputId": "f440e640-dbca-401f-90ee-a88d2763bf28"
      },
      "execution_count": null,
      "outputs": [
        {
          "output_type": "execute_result",
          "data": {
            "text/plain": [
              "'Lab'"
            ],
            "application/vnd.google.colaboratory.intrinsic+json": {
              "type": "string"
            }
          },
          "metadata": {},
          "execution_count": 34
        }
      ]
    },
    {
      "cell_type": "code",
      "source": [
        "my_dog.name"
      ],
      "metadata": {
        "colab": {
          "base_uri": "https://localhost:8080/",
          "height": 35
        },
        "id": "T1GDBR7Da7mY",
        "outputId": "6a7e925a-b38b-414e-caf8-a7dc50452696"
      },
      "execution_count": null,
      "outputs": [
        {
          "output_type": "execute_result",
          "data": {
            "text/plain": [
              "'Sammy'"
            ],
            "application/vnd.google.colaboratory.intrinsic+json": {
              "type": "string"
            }
          },
          "metadata": {},
          "execution_count": 35
        }
      ]
    },
    {
      "cell_type": "code",
      "source": [
        "my_dog.spots"
      ],
      "metadata": {
        "id": "0c-Iyei_dCzv",
        "outputId": "74b38293-b51b-417d-fb53-d7e284dcd41d",
        "colab": {
          "base_uri": "https://localhost:8080/"
        }
      },
      "execution_count": null,
      "outputs": [
        {
          "output_type": "execute_result",
          "data": {
            "text/plain": [
              "False"
            ]
          },
          "metadata": {},
          "execution_count": 36
        }
      ]
    },
    {
      "cell_type": "code",
      "source": [
        "my_dog.species"
      ],
      "metadata": {
        "id": "_HgkxHVqdE62",
        "colab": {
          "base_uri": "https://localhost:8080/",
          "height": 35
        },
        "outputId": "19d560ab-3ab6-445b-9ed4-b10f819aaf6d"
      },
      "execution_count": null,
      "outputs": [
        {
          "output_type": "execute_result",
          "data": {
            "text/plain": [
              "'mammal'"
            ],
            "application/vnd.google.colaboratory.intrinsic+json": {
              "type": "string"
            }
          },
          "metadata": {},
          "execution_count": 37
        }
      ]
    },
    {
      "cell_type": "code",
      "source": [
        "my_dog.bark(10)"
      ],
      "metadata": {
        "colab": {
          "base_uri": "https://localhost:8080/"
        },
        "id": "ltPvgOppIXy3",
        "outputId": "50eec75c-c2f7-4ec6-803c-11675b9917f5"
      },
      "execution_count": null,
      "outputs": [
        {
          "output_type": "stream",
          "name": "stdout",
          "text": [
            "WOOF! My name is Sammy and the number is 10\n"
          ]
        }
      ]
    },
    {
      "cell_type": "code",
      "source": [
        "class Circle():\n",
        "\n",
        "  # CLASS OBJECT ATTRIBUTE\n",
        "  pi = 3.14\n",
        "\n",
        "  def __init__(self,radius=1):\n",
        "\n",
        "    self.radius = radius\n",
        "    self.area = radius*radius*self.pi # Better: Circle.pi\n",
        "\n",
        "  # METHOD\n",
        "  def get_circumference(self):\n",
        "    return self.radius * self.pi * 2"
      ],
      "metadata": {
        "id": "9nH3hF5rIbB6"
      },
      "execution_count": null,
      "outputs": []
    },
    {
      "cell_type": "code",
      "source": [
        "my_circle = Circle(30)"
      ],
      "metadata": {
        "id": "Tvh73T_fKrcK"
      },
      "execution_count": null,
      "outputs": []
    },
    {
      "cell_type": "code",
      "source": [
        "my_circle.pi"
      ],
      "metadata": {
        "colab": {
          "base_uri": "https://localhost:8080/"
        },
        "id": "tBMXlDHKKv08",
        "outputId": "394138df-46ab-4433-acc5-d9134a0b2b14"
      },
      "execution_count": null,
      "outputs": [
        {
          "output_type": "execute_result",
          "data": {
            "text/plain": [
              "3.14"
            ]
          },
          "metadata": {},
          "execution_count": 52
        }
      ]
    },
    {
      "cell_type": "code",
      "source": [
        "my_circle.radius"
      ],
      "metadata": {
        "colab": {
          "base_uri": "https://localhost:8080/"
        },
        "id": "SUDw6WSfKySm",
        "outputId": "059f92d3-3f43-45cd-d7e8-0a147f09302a"
      },
      "execution_count": null,
      "outputs": [
        {
          "output_type": "execute_result",
          "data": {
            "text/plain": [
              "30"
            ]
          },
          "metadata": {},
          "execution_count": 53
        }
      ]
    },
    {
      "cell_type": "code",
      "source": [
        "my_circle.area"
      ],
      "metadata": {
        "colab": {
          "base_uri": "https://localhost:8080/"
        },
        "id": "5YKXhN06LNZz",
        "outputId": "d1da11b8-13c2-4976-8d76-aeba40d6daf8"
      },
      "execution_count": null,
      "outputs": [
        {
          "output_type": "execute_result",
          "data": {
            "text/plain": [
              "2826.0"
            ]
          },
          "metadata": {},
          "execution_count": 54
        }
      ]
    },
    {
      "cell_type": "code",
      "source": [
        "my_circle.get_circumference()"
      ],
      "metadata": {
        "colab": {
          "base_uri": "https://localhost:8080/"
        },
        "id": "BJJ2a1VbK30I",
        "outputId": "433974b8-1743-44ae-c8c6-7d09a3c282d7"
      },
      "execution_count": null,
      "outputs": [
        {
          "output_type": "execute_result",
          "data": {
            "text/plain": [
              "188.4"
            ]
          },
          "metadata": {},
          "execution_count": 55
        }
      ]
    },
    {
      "cell_type": "code",
      "source": [
        "class Animal():\n",
        "\n",
        "  def __init__(self):\n",
        "    print(\"ANIMAL CREAYED\")\n",
        "\n",
        "  def who_am_i(self):\n",
        "    print(\"I am an animal\")\n",
        "\n",
        "  def eat(self):\n",
        "    print(\"I am eating\")"
      ],
      "metadata": {
        "id": "HA2P8bqIK_GG"
      },
      "execution_count": null,
      "outputs": []
    },
    {
      "cell_type": "code",
      "source": [
        "class Dog(Animal):\n",
        "\n",
        "  def __init__(self):\n",
        "    Animal.__init__(self)\n",
        "    print(\"Dog Created\")\n",
        "\n",
        "  def who_am_i(self):\n",
        "    print(\"I am a dog\")\n",
        "\n",
        "  def bark(self):\n",
        "    print(\"WOOF!\")"
      ],
      "metadata": {
        "id": "alfUcl_bMIYm"
      },
      "execution_count": null,
      "outputs": []
    },
    {
      "cell_type": "code",
      "source": [
        "mydog = Dog()"
      ],
      "metadata": {
        "colab": {
          "base_uri": "https://localhost:8080/"
        },
        "id": "4fF_ysFYMe2u",
        "outputId": "cddba363-494a-4ce4-ccc2-f935eb952922"
      },
      "execution_count": null,
      "outputs": [
        {
          "output_type": "stream",
          "name": "stdout",
          "text": [
            "ANIMAL CREAYED\n",
            "Dog Created\n"
          ]
        }
      ]
    },
    {
      "cell_type": "code",
      "source": [
        "mydog.eat()"
      ],
      "metadata": {
        "colab": {
          "base_uri": "https://localhost:8080/"
        },
        "id": "Vod9EWwpMjoO",
        "outputId": "8326abd5-83ca-4988-d529-236d8ccb48b0"
      },
      "execution_count": null,
      "outputs": [
        {
          "output_type": "stream",
          "name": "stdout",
          "text": [
            "I am eating\n"
          ]
        }
      ]
    },
    {
      "cell_type": "code",
      "source": [
        "myanimal = Animal()"
      ],
      "metadata": {
        "colab": {
          "base_uri": "https://localhost:8080/"
        },
        "id": "7wv70edXMDPi",
        "outputId": "898a38dd-a764-43d1-cb0f-d67a97c094e8"
      },
      "execution_count": null,
      "outputs": [
        {
          "output_type": "stream",
          "name": "stdout",
          "text": [
            "ANIMAL CREAYED\n"
          ]
        }
      ]
    },
    {
      "cell_type": "code",
      "source": [
        "mydog.who_am_i()"
      ],
      "metadata": {
        "colab": {
          "base_uri": "https://localhost:8080/"
        },
        "id": "lOzvl1FmMGi-",
        "outputId": "12efc54c-3169-455f-97f1-73952ac811c4"
      },
      "execution_count": null,
      "outputs": [
        {
          "output_type": "stream",
          "name": "stdout",
          "text": [
            "I am a dog\n"
          ]
        }
      ]
    },
    {
      "cell_type": "code",
      "source": [
        "mydog.bark()"
      ],
      "metadata": {
        "colab": {
          "base_uri": "https://localhost:8080/"
        },
        "id": "sB41t5ErM2MI",
        "outputId": "640da044-00b1-4a61-b285-e949bbe51d22"
      },
      "execution_count": null,
      "outputs": [
        {
          "output_type": "stream",
          "name": "stdout",
          "text": [
            "WOOF!\n"
          ]
        }
      ]
    },
    {
      "cell_type": "markdown",
      "source": [
        "Polymorphism"
      ],
      "metadata": {
        "id": "gFzMR2ARNYdA"
      }
    },
    {
      "cell_type": "code",
      "source": [
        "class Dog():\n",
        "\n",
        "  def __init__(self,name):\n",
        "    self.name = name\n",
        "\n",
        "  def speak(self):\n",
        "    return self.name + \" says woof!\""
      ],
      "metadata": {
        "id": "jJr4RsziNGfb"
      },
      "execution_count": null,
      "outputs": []
    },
    {
      "cell_type": "code",
      "source": [
        "class Cat():\n",
        "\n",
        "  def __init__(self,name):\n",
        "    self.name = name\n",
        "\n",
        "  def speak(self):\n",
        "    return self.name + \" says meow!\""
      ],
      "metadata": {
        "id": "U1DJudRzNvpK"
      },
      "execution_count": null,
      "outputs": []
    },
    {
      "cell_type": "code",
      "source": [
        "niko = Dog(\"niko\")\n",
        "felix = Cat(\"felix\")"
      ],
      "metadata": {
        "id": "-gi6zcKVNtzA"
      },
      "execution_count": null,
      "outputs": []
    },
    {
      "cell_type": "code",
      "source": [
        "print(niko.speak())"
      ],
      "metadata": {
        "colab": {
          "base_uri": "https://localhost:8080/"
        },
        "id": "n966ELgDN7RP",
        "outputId": "a22392ca-98ec-4fbe-f346-a82c4de91056"
      },
      "execution_count": null,
      "outputs": [
        {
          "output_type": "stream",
          "name": "stdout",
          "text": [
            "niko says woof!\n"
          ]
        }
      ]
    },
    {
      "cell_type": "code",
      "source": [
        "print(felix.speak())"
      ],
      "metadata": {
        "colab": {
          "base_uri": "https://localhost:8080/"
        },
        "id": "YGdvwW1mN-XL",
        "outputId": "eac35fc7-6f95-4387-d483-886d3ad6b472"
      },
      "execution_count": null,
      "outputs": [
        {
          "output_type": "stream",
          "name": "stdout",
          "text": [
            "felix says meow!\n"
          ]
        }
      ]
    },
    {
      "cell_type": "code",
      "source": [
        "for pet in [niko,felix]:\n",
        "\n",
        "  print(type(pet))\n",
        "  print(pet.speak())"
      ],
      "metadata": {
        "colab": {
          "base_uri": "https://localhost:8080/"
        },
        "id": "D9Np4aKIOOfW",
        "outputId": "dab553c0-b32b-4f16-c30f-48edc2d190a8"
      },
      "execution_count": null,
      "outputs": [
        {
          "output_type": "stream",
          "name": "stdout",
          "text": [
            "<class '__main__.Dog'>\n",
            "niko says woof!\n",
            "<class '__main__.Cat'>\n",
            "felix says meow!\n"
          ]
        }
      ]
    },
    {
      "cell_type": "code",
      "source": [
        "def pet_speak(pet):\n",
        "  print(pet.speak())"
      ],
      "metadata": {
        "id": "c5XemREpOZa6"
      },
      "execution_count": null,
      "outputs": []
    },
    {
      "cell_type": "code",
      "source": [
        "pet_speak(niko)"
      ],
      "metadata": {
        "colab": {
          "base_uri": "https://localhost:8080/"
        },
        "id": "tkYHZknGOwd5",
        "outputId": "3755bca2-3297-4438-8566-60866f27715d"
      },
      "execution_count": null,
      "outputs": [
        {
          "output_type": "stream",
          "name": "stdout",
          "text": [
            "niko says woof!\n"
          ]
        }
      ]
    },
    {
      "cell_type": "code",
      "source": [
        "class Animal():\n",
        "\n",
        "  def __init__(self,name):\n",
        "    self.name = name\n",
        "\n",
        "  def speak(self):\n",
        "    raise NotImplementedError(\"Subclass must implement this abstract method\")"
      ],
      "metadata": {
        "id": "oWCtf00qQA7P"
      },
      "execution_count": null,
      "outputs": []
    },
    {
      "cell_type": "code",
      "source": [
        "class Dog(Animal):\n",
        "\n",
        "  def speak(self):\n",
        "    return self.name + \" says woof!\""
      ],
      "metadata": {
        "id": "QUJWtDfwQBWv"
      },
      "execution_count": null,
      "outputs": []
    },
    {
      "cell_type": "code",
      "source": [
        "class Cat(Animal):\n",
        "\n",
        "  def speak(self):\n",
        "    return self.name + \" says meow!\""
      ],
      "metadata": {
        "id": "0stHl-clQMFM"
      },
      "execution_count": null,
      "outputs": []
    },
    {
      "cell_type": "code",
      "source": [
        "fido = Dog(\"Fido\")"
      ],
      "metadata": {
        "id": "I0z3qUJsQSby"
      },
      "execution_count": null,
      "outputs": []
    },
    {
      "cell_type": "code",
      "source": [
        "isis = Cat(\"Isis\")"
      ],
      "metadata": {
        "id": "x7L9zHT9QWnn"
      },
      "execution_count": null,
      "outputs": []
    },
    {
      "cell_type": "code",
      "source": [
        "print(fido.speak())"
      ],
      "metadata": {
        "colab": {
          "base_uri": "https://localhost:8080/"
        },
        "id": "wr0UFocyQZsI",
        "outputId": "9625f6a4-bfc4-45f2-a50a-4ce32240c7d7"
      },
      "execution_count": null,
      "outputs": [
        {
          "output_type": "stream",
          "name": "stdout",
          "text": [
            "Fido says woof!\n"
          ]
        }
      ]
    },
    {
      "cell_type": "code",
      "source": [
        "print(isis.speak())"
      ],
      "metadata": {
        "colab": {
          "base_uri": "https://localhost:8080/"
        },
        "id": "3Z6Iq9jaQdzz",
        "outputId": "3754015f-f680-4537-baf9-d3e2d10b519b"
      },
      "execution_count": null,
      "outputs": [
        {
          "output_type": "stream",
          "name": "stdout",
          "text": [
            "Isis says meow!\n"
          ]
        }
      ]
    },
    {
      "cell_type": "code",
      "source": [
        "mylist = [1,2,3]"
      ],
      "metadata": {
        "id": "08dEEZgaQfvQ"
      },
      "execution_count": null,
      "outputs": []
    },
    {
      "cell_type": "code",
      "source": [
        "len(mylist)"
      ],
      "metadata": {
        "colab": {
          "base_uri": "https://localhost:8080/"
        },
        "id": "oDnWVd2FtJol",
        "outputId": "e667f51b-b9ec-4b42-c582-a5f2a4c2773a"
      },
      "execution_count": null,
      "outputs": [
        {
          "output_type": "execute_result",
          "data": {
            "text/plain": [
              "3"
            ]
          },
          "metadata": {},
          "execution_count": 2
        }
      ]
    },
    {
      "cell_type": "code",
      "source": [
        "class Book():\n",
        "\n",
        "  def __init__(self,title,author,pages):\n",
        "\n",
        "    self.title = title\n",
        "    self.author = author\n",
        "    self.pages = pages\n",
        "\n",
        "  def __str__(self):\n",
        "    return f\"{self.title} by {self.author}\"\n",
        "\n",
        "  def __len__(self):\n",
        "    return self.pages\n",
        "\n",
        "  def __del__(self):\n",
        "    print(\"A book object has been deleted\")"
      ],
      "metadata": {
        "id": "bMcL9PCttLat"
      },
      "execution_count": null,
      "outputs": []
    },
    {
      "cell_type": "code",
      "source": [
        "b = Book('Python rocks','Jose',200)"
      ],
      "metadata": {
        "id": "KOzQ10uQtT_b"
      },
      "execution_count": null,
      "outputs": []
    },
    {
      "cell_type": "code",
      "source": [
        "print(b)"
      ],
      "metadata": {
        "colab": {
          "base_uri": "https://localhost:8080/"
        },
        "id": "lw5svNsitt0J",
        "outputId": "0562e6ac-855c-4393-dc9c-529bfa0959b2"
      },
      "execution_count": null,
      "outputs": [
        {
          "output_type": "stream",
          "name": "stdout",
          "text": [
            "Python rocks by Jose\n"
          ]
        }
      ]
    },
    {
      "cell_type": "code",
      "source": [
        "str(b)"
      ],
      "metadata": {
        "colab": {
          "base_uri": "https://localhost:8080/",
          "height": 35
        },
        "id": "F0ZhB2tQtu5R",
        "outputId": "1d18d35b-b7d7-4c08-cf90-7d1bb9539c0b"
      },
      "execution_count": null,
      "outputs": [
        {
          "output_type": "execute_result",
          "data": {
            "text/plain": [
              "'Python rocks by Jose'"
            ],
            "application/vnd.google.colaboratory.intrinsic+json": {
              "type": "string"
            }
          },
          "metadata": {},
          "execution_count": 37
        }
      ]
    },
    {
      "cell_type": "code",
      "source": [
        "len(b)"
      ],
      "metadata": {
        "colab": {
          "base_uri": "https://localhost:8080/"
        },
        "id": "vAUP46yKt_ju",
        "outputId": "832c7821-ee60-4402-f987-d2f92feaec60"
      },
      "execution_count": null,
      "outputs": [
        {
          "output_type": "execute_result",
          "data": {
            "text/plain": [
              "200"
            ]
          },
          "metadata": {},
          "execution_count": 38
        }
      ]
    },
    {
      "cell_type": "code",
      "source": [
        "del b\n",
        "# del b merely removes the name of variable b from the current namespace, but there might still be references behind Colab"
      ],
      "metadata": {
        "id": "eKkmbMkhuKsK"
      },
      "execution_count": null,
      "outputs": []
    },
    {
      "cell_type": "code",
      "source": [
        "b"
      ],
      "metadata": {
        "colab": {
          "base_uri": "https://localhost:8080/",
          "height": 180
        },
        "id": "MWhBNeX4uMk_",
        "outputId": "74a67e2f-23aa-4d17-874e-2311dc4fbd27"
      },
      "execution_count": null,
      "outputs": [
        {
          "output_type": "error",
          "ename": "NameError",
          "evalue": "name 'b' is not defined",
          "traceback": [
            "\u001b[0;31m---------------------------------------------------------------------------\u001b[0m",
            "\u001b[0;31mNameError\u001b[0m                                 Traceback (most recent call last)",
            "\u001b[0;32m<ipython-input-40-89e6c98d9288>\u001b[0m in \u001b[0;36m<cell line: 0>\u001b[0;34m()\u001b[0m\n\u001b[0;32m----> 1\u001b[0;31m \u001b[0mb\u001b[0m\u001b[0;34m\u001b[0m\u001b[0;34m\u001b[0m\u001b[0m\n\u001b[0m",
            "\u001b[0;31mNameError\u001b[0m: name 'b' is not defined"
          ]
        }
      ]
    },
    {
      "cell_type": "markdown",
      "source": [
        "OOP Homework"
      ],
      "metadata": {
        "id": "xwHJMgFhwm7i"
      }
    },
    {
      "cell_type": "markdown",
      "source": [
        "Problem 1: Accept coordinates as a pair of tuples and return the slope and distance of the line."
      ],
      "metadata": {
        "id": "LfLztYSuwsU1"
      }
    },
    {
      "cell_type": "code",
      "source": [
        "class Line():\n",
        "\n",
        "  def __init__(self,coor1,coor2):\n",
        "    self.coor1 = coor1\n",
        "    self.coor2 = coor2\n",
        "\n",
        "  def distance(self):\n",
        "    x1,y1 = self.coor1\n",
        "    x2,y2 = self.coor2\n",
        "    return ((x2-x1)**2 + (y2-y1)**2)**0.5\n",
        "\n",
        "  def slope(self):\n",
        "    x1,y1 = self.coor1\n",
        "    x2,y2 = self.coor2\n",
        "    return (y2-y1)/(x2-x1)"
      ],
      "metadata": {
        "id": "bQD9gG7AuNie"
      },
      "execution_count": null,
      "outputs": []
    },
    {
      "cell_type": "code",
      "source": [
        "coordinate1 = (3,2)\n",
        "coordinate2 = (8,10)\n",
        "\n",
        "li = Line(coordinate1,coordinate2)"
      ],
      "metadata": {
        "id": "vF_IQHx9yQnK"
      },
      "execution_count": null,
      "outputs": []
    },
    {
      "cell_type": "code",
      "source": [
        "li.distance()"
      ],
      "metadata": {
        "colab": {
          "base_uri": "https://localhost:8080/"
        },
        "id": "7PFeE6ZUyeTF",
        "outputId": "038c798d-2d6f-4093-eeae-c964d34aee20"
      },
      "execution_count": null,
      "outputs": [
        {
          "output_type": "execute_result",
          "data": {
            "text/plain": [
              "9.433981132056603"
            ]
          },
          "metadata": {},
          "execution_count": 43
        }
      ]
    },
    {
      "cell_type": "code",
      "source": [
        "li.slope()"
      ],
      "metadata": {
        "colab": {
          "base_uri": "https://localhost:8080/"
        },
        "id": "whZowRD_yguV",
        "outputId": "ee5bb3bb-b5d2-4c11-cd45-7705233f2adf"
      },
      "execution_count": null,
      "outputs": [
        {
          "output_type": "execute_result",
          "data": {
            "text/plain": [
              "1.6"
            ]
          },
          "metadata": {},
          "execution_count": 44
        }
      ]
    },
    {
      "cell_type": "markdown",
      "source": [
        "Problem 2"
      ],
      "metadata": {
        "id": "RDrZvnpyyne_"
      }
    },
    {
      "cell_type": "code",
      "source": [
        "class Cylinder():\n",
        "  pi = 3.14\n",
        "\n",
        "  def __init__(self,height = 1,radius = 1):\n",
        "    self.height = height\n",
        "    self.radius = radius\n",
        "\n",
        "  def volume(self):\n",
        "    return self.pi * (self.radius ** 2) * self.height\n",
        "\n",
        "  def surface_area(self):\n",
        "    return 2 * self.pi * self.radius * (self.radius + self.height)"
      ],
      "metadata": {
        "id": "KkCTApauyjHh"
      },
      "execution_count": null,
      "outputs": []
    },
    {
      "cell_type": "code",
      "source": [
        "c = Cylinder(2,3)"
      ],
      "metadata": {
        "id": "s-bbVtg8zwVe"
      },
      "execution_count": null,
      "outputs": []
    },
    {
      "cell_type": "code",
      "source": [
        "c.volume()"
      ],
      "metadata": {
        "colab": {
          "base_uri": "https://localhost:8080/"
        },
        "id": "aS9UXSopz1CS",
        "outputId": "fc1568dd-5e30-4327-ec06-7a547be5688c"
      },
      "execution_count": null,
      "outputs": [
        {
          "output_type": "execute_result",
          "data": {
            "text/plain": [
              "56.52"
            ]
          },
          "metadata": {},
          "execution_count": 47
        }
      ]
    },
    {
      "cell_type": "code",
      "source": [
        "c.surface_area()"
      ],
      "metadata": {
        "colab": {
          "base_uri": "https://localhost:8080/"
        },
        "id": "dQpBBbJ0z3Qy",
        "outputId": "31c1cd3b-2a3d-48b1-cb7b-de14481a90b2"
      },
      "execution_count": null,
      "outputs": [
        {
          "output_type": "execute_result",
          "data": {
            "text/plain": [
              "94.2"
            ]
          },
          "metadata": {},
          "execution_count": 48
        }
      ]
    },
    {
      "cell_type": "markdown",
      "source": [
        "OOP Challenge"
      ],
      "metadata": {
        "id": "ATb1jmgi0wjq"
      }
    },
    {
      "cell_type": "code",
      "source": [
        "class Account():\n",
        "\n",
        "  def __init__(self,owner,balance):\n",
        "    self.owner = owner\n",
        "    self.balance = balance\n",
        "\n",
        "  def __str__(self):\n",
        "    return f\"Account owner: {self.owner}\\nAccount balance: ${self.balance}\"\n",
        "\n",
        "  def deposit(self,amount):\n",
        "    self.balance += amount\n",
        "    print(f\"Deposit Accepted. New balance: ${self.balance}\")\n",
        "\n",
        "  def withdraw(self,amount):\n",
        "    if self.balance >= amount:\n",
        "      self.balance -= amount\n",
        "      print(f\"Withdraw Accepted. New balance: ${self.balance}\")\n",
        "    else:\n",
        "      print(\"Funds Unavailable!\")"
      ],
      "metadata": {
        "id": "fKUZS4tzz6GQ"
      },
      "execution_count": null,
      "outputs": []
    },
    {
      "cell_type": "code",
      "source": [
        "acct1 = Account('Jose',100)"
      ],
      "metadata": {
        "id": "mTyrDeY83odL"
      },
      "execution_count": null,
      "outputs": []
    },
    {
      "cell_type": "code",
      "source": [
        "print(acct1)"
      ],
      "metadata": {
        "colab": {
          "base_uri": "https://localhost:8080/"
        },
        "id": "ZHifmjl23unf",
        "outputId": "5f5c3769-d4e0-40d5-e73b-e965a3c0ece1"
      },
      "execution_count": null,
      "outputs": [
        {
          "output_type": "stream",
          "name": "stdout",
          "text": [
            "Account owner: Jose\n",
            "Account balance: $100\n"
          ]
        }
      ]
    },
    {
      "cell_type": "code",
      "source": [
        "acct1.owner"
      ],
      "metadata": {
        "colab": {
          "base_uri": "https://localhost:8080/",
          "height": 35
        },
        "id": "mlhBl1Vk3wXr",
        "outputId": "ff8ede04-d964-41bb-8b09-03aa4f9ee3a1"
      },
      "execution_count": null,
      "outputs": [
        {
          "output_type": "execute_result",
          "data": {
            "text/plain": [
              "'Jose'"
            ],
            "application/vnd.google.colaboratory.intrinsic+json": {
              "type": "string"
            }
          },
          "metadata": {},
          "execution_count": 52
        }
      ]
    },
    {
      "cell_type": "code",
      "source": [
        "acct1.balance"
      ],
      "metadata": {
        "colab": {
          "base_uri": "https://localhost:8080/"
        },
        "id": "uKeDyBCi3yy_",
        "outputId": "4da8ba29-70a0-471b-ced7-637a7e6dec5d"
      },
      "execution_count": null,
      "outputs": [
        {
          "output_type": "execute_result",
          "data": {
            "text/plain": [
              "100"
            ]
          },
          "metadata": {},
          "execution_count": 53
        }
      ]
    },
    {
      "cell_type": "code",
      "source": [
        "acct1.deposit(50)"
      ],
      "metadata": {
        "colab": {
          "base_uri": "https://localhost:8080/"
        },
        "id": "qKIVl9HV30z_",
        "outputId": "ade53227-d521-4bbc-98d0-08b89bfff896"
      },
      "execution_count": null,
      "outputs": [
        {
          "output_type": "stream",
          "name": "stdout",
          "text": [
            "Deposit Accepted. New balance: $150\n"
          ]
        }
      ]
    },
    {
      "cell_type": "code",
      "source": [
        "acct1.withdraw(75)"
      ],
      "metadata": {
        "colab": {
          "base_uri": "https://localhost:8080/"
        },
        "id": "7a-agXWF34sc",
        "outputId": "86a4e474-8e39-4cbb-d8bb-647e1de8e13b"
      },
      "execution_count": null,
      "outputs": [
        {
          "output_type": "stream",
          "name": "stdout",
          "text": [
            "Withdraw Accepted. New balance: $75\n"
          ]
        }
      ]
    },
    {
      "cell_type": "code",
      "source": [
        "acct1.withdraw(500)"
      ],
      "metadata": {
        "colab": {
          "base_uri": "https://localhost:8080/"
        },
        "id": "dxJe2ALP38EG",
        "outputId": "203fff52-2dd0-452b-d2e6-a1308e137c30"
      },
      "execution_count": null,
      "outputs": [
        {
          "output_type": "stream",
          "name": "stdout",
          "text": [
            "Funds Unavailable!\n"
          ]
        }
      ]
    },
    {
      "cell_type": "markdown",
      "source": [
        "Modules and Packages"
      ],
      "metadata": {
        "id": "9NX-xa3UX_RP"
      }
    },
    {
      "cell_type": "markdown",
      "source": [
        "Errors and Exception Handling\n",
        "\n",
        "*   try\n",
        "*   except\n",
        "*   finally\n",
        "\n"
      ],
      "metadata": {
        "id": "RQxNBLaf0sGD"
      }
    },
    {
      "cell_type": "code",
      "source": [
        "def add(n1,n2):\n",
        "  print(n1+n2)"
      ],
      "metadata": {
        "id": "9g8miVgL4A0Y"
      },
      "execution_count": null,
      "outputs": []
    },
    {
      "cell_type": "code",
      "source": [
        "add(10,20)"
      ],
      "metadata": {
        "colab": {
          "base_uri": "https://localhost:8080/"
        },
        "id": "0-6Y4Hl51K0b",
        "outputId": "8ca9ad03-f061-445f-c319-b70059275759"
      },
      "execution_count": null,
      "outputs": [
        {
          "output_type": "stream",
          "name": "stdout",
          "text": [
            "30\n"
          ]
        }
      ]
    },
    {
      "cell_type": "code",
      "source": [
        "number1 = 10"
      ],
      "metadata": {
        "id": "Pmg2_Bnf1a_E"
      },
      "execution_count": null,
      "outputs": []
    },
    {
      "cell_type": "code",
      "source": [
        "number2 = input(\"Please provide a number: \")"
      ],
      "metadata": {
        "colab": {
          "base_uri": "https://localhost:8080/"
        },
        "id": "wHg-FaU81e39",
        "outputId": "9d0ef9ea-f3b1-4723-97c1-4337c96636e0"
      },
      "execution_count": null,
      "outputs": [
        {
          "name": "stdout",
          "output_type": "stream",
          "text": [
            "Please provide a number: 20\n"
          ]
        }
      ]
    },
    {
      "cell_type": "code",
      "source": [
        "add(number1,number2)\n",
        "print(\"Something happened!\")"
      ],
      "metadata": {
        "colab": {
          "base_uri": "https://localhost:8080/",
          "height": 269
        },
        "id": "zqFunxnZkvZO",
        "outputId": "aae4db16-d140-4719-9dec-89657ea12e62"
      },
      "execution_count": null,
      "outputs": [
        {
          "output_type": "error",
          "ename": "TypeError",
          "evalue": "unsupported operand type(s) for +: 'int' and 'str'",
          "traceback": [
            "\u001b[0;31m---------------------------------------------------------------------------\u001b[0m",
            "\u001b[0;31mTypeError\u001b[0m                                 Traceback (most recent call last)",
            "\u001b[0;32m<ipython-input-8-c15b1ab87eee>\u001b[0m in \u001b[0;36m<cell line: 0>\u001b[0;34m()\u001b[0m\n\u001b[0;32m----> 1\u001b[0;31m \u001b[0madd\u001b[0m\u001b[0;34m(\u001b[0m\u001b[0mnumber1\u001b[0m\u001b[0;34m,\u001b[0m\u001b[0mnumber2\u001b[0m\u001b[0;34m)\u001b[0m\u001b[0;34m\u001b[0m\u001b[0;34m\u001b[0m\u001b[0m\n\u001b[0m\u001b[1;32m      2\u001b[0m \u001b[0mprint\u001b[0m\u001b[0;34m(\u001b[0m\u001b[0;34m\"Something happened!\"\u001b[0m\u001b[0;34m)\u001b[0m\u001b[0;34m\u001b[0m\u001b[0;34m\u001b[0m\u001b[0m\n",
            "\u001b[0;32m<ipython-input-3-a1646ea78e7e>\u001b[0m in \u001b[0;36madd\u001b[0;34m(n1, n2)\u001b[0m\n\u001b[1;32m      1\u001b[0m \u001b[0;32mdef\u001b[0m \u001b[0madd\u001b[0m\u001b[0;34m(\u001b[0m\u001b[0mn1\u001b[0m\u001b[0;34m,\u001b[0m\u001b[0mn2\u001b[0m\u001b[0;34m)\u001b[0m\u001b[0;34m:\u001b[0m\u001b[0;34m\u001b[0m\u001b[0;34m\u001b[0m\u001b[0m\n\u001b[0;32m----> 2\u001b[0;31m   \u001b[0mprint\u001b[0m\u001b[0;34m(\u001b[0m\u001b[0mn1\u001b[0m\u001b[0;34m+\u001b[0m\u001b[0mn2\u001b[0m\u001b[0;34m)\u001b[0m\u001b[0;34m\u001b[0m\u001b[0;34m\u001b[0m\u001b[0m\n\u001b[0m",
            "\u001b[0;31mTypeError\u001b[0m: unsupported operand type(s) for +: 'int' and 'str'"
          ]
        }
      ]
    },
    {
      "cell_type": "code",
      "source": [
        "try:\n",
        "  result = 10 + 10\n",
        "except:\n",
        "  print(\"Hey it looks like you aren't adding correctly!\")\n",
        "else:\n",
        "  print(\"Add went well!\")\n",
        "  print(result)"
      ],
      "metadata": {
        "colab": {
          "base_uri": "https://localhost:8080/"
        },
        "id": "0HccGMYJk5Eg",
        "outputId": "2a2ecb79-073b-451e-dfbb-a93454123ff2"
      },
      "execution_count": null,
      "outputs": [
        {
          "output_type": "stream",
          "name": "stdout",
          "text": [
            "Add went well!\n",
            "20\n"
          ]
        }
      ]
    },
    {
      "cell_type": "code",
      "source": [
        "try:\n",
        "  f = open('testfile','r')\n",
        "  f.write(\"Write a test line\")\n",
        "except TypeError:\n",
        "  print(\"There was a type error!\")\n",
        "except OSError:\n",
        "  print(\"Hey you have an OS Error!\")\n",
        "except:\n",
        "  print(\"All other exceptions!\")\n",
        "finally:\n",
        "  print(\"I always run!\")"
      ],
      "metadata": {
        "colab": {
          "base_uri": "https://localhost:8080/"
        },
        "id": "Nw7UTu3TmrE-",
        "outputId": "154bcc9f-a03e-4540-d0d9-6a301d879ecd"
      },
      "execution_count": null,
      "outputs": [
        {
          "output_type": "stream",
          "name": "stdout",
          "text": [
            "Hey you have an OS Error!\n",
            "I always run!\n"
          ]
        }
      ]
    },
    {
      "cell_type": "code",
      "source": [
        "def ask_for_int():\n",
        "\n",
        "  while True:\n",
        "    try:\n",
        "      result = int(input(\"Please provide number:\"))\n",
        "    except:\n",
        "      print(\"Whoops! That is not a number.\")\n",
        "      continue\n",
        "    else: # no exception\n",
        "      print(\"Yes thank you!\")\n",
        "      break\n",
        "    finally:\n",
        "      print(\"End of try/except/finally.\")\n",
        "      print(\"I will always run at the end!\")"
      ],
      "metadata": {
        "id": "qldDjoaNo8Ad"
      },
      "execution_count": null,
      "outputs": []
    },
    {
      "cell_type": "code",
      "source": [
        "ask_for_int()"
      ],
      "metadata": {
        "colab": {
          "base_uri": "https://localhost:8080/"
        },
        "id": "J7CyCLoCzBpH",
        "outputId": "0e20fed4-b2ed-4835-ebbd-2c21681c8fbd"
      },
      "execution_count": null,
      "outputs": [
        {
          "output_type": "stream",
          "name": "stdout",
          "text": [
            "Please provide number:q\n",
            "Whoops! That is not a number.\n",
            "End of try/except/finally.\n",
            "I will always run at the end!\n",
            "Please provide number:qwwe\n",
            "Whoops! That is not a number.\n",
            "End of try/except/finally.\n",
            "I will always run at the end!\n",
            "Please provide number:20\n",
            "Yes thank you!\n",
            "End of try/except/finally.\n",
            "I will always run at the end!\n"
          ]
        }
      ]
    },
    {
      "cell_type": "markdown",
      "source": [
        "Homework"
      ],
      "metadata": {
        "id": "B2EPUGV70OeJ"
      }
    },
    {
      "cell_type": "code",
      "source": [
        "try:\n",
        "  for i in ['a','b','c']:\n",
        "    print(i**2)\n",
        "except:\n",
        "  print(\"Error! Watch out!\")"
      ],
      "metadata": {
        "colab": {
          "base_uri": "https://localhost:8080/"
        },
        "id": "LckPjAYlzHV8",
        "outputId": "5e916003-c24c-4d87-9414-b6cc9495fda1"
      },
      "execution_count": null,
      "outputs": [
        {
          "output_type": "stream",
          "name": "stdout",
          "text": [
            "Error! Watch out!\n"
          ]
        }
      ]
    },
    {
      "cell_type": "code",
      "source": [
        "x = 5\n",
        "y = 0\n",
        "\n",
        "try:\n",
        "  z = x/y\n",
        "  print(z)\n",
        "except ZeroDivisionError:\n",
        "  print(\"Can't devided by Zero!\")\n",
        "finally:\n",
        "  print(\"All done!\")"
      ],
      "metadata": {
        "colab": {
          "base_uri": "https://localhost:8080/"
        },
        "id": "ScTMVSFf1fMu",
        "outputId": "3fb32006-25e0-4bc9-cb25-5cdba414ca54"
      },
      "execution_count": null,
      "outputs": [
        {
          "output_type": "stream",
          "name": "stdout",
          "text": [
            "Can't devided by Zero!\n",
            "All done!\n"
          ]
        }
      ]
    },
    {
      "cell_type": "code",
      "source": [
        "def ask():\n",
        "\n",
        "  while True:\n",
        "    try:\n",
        "      n = int(input(\"Enter a number:\"))\n",
        "      print(f'Your number squared is {n**2}.')\n",
        "    except:\n",
        "      print(\"An error occurred! Please try again!\")\n",
        "      continue\n",
        "    else:\n",
        "      break"
      ],
      "metadata": {
        "id": "_qqqLZCJ2AZJ"
      },
      "execution_count": null,
      "outputs": []
    },
    {
      "cell_type": "code",
      "source": [
        "ask()"
      ],
      "metadata": {
        "colab": {
          "base_uri": "https://localhost:8080/"
        },
        "id": "IzFjyhFL3Se6",
        "outputId": "3f86da49-de3b-45b6-cb28-dc07ce40943d"
      },
      "execution_count": null,
      "outputs": [
        {
          "output_type": "stream",
          "name": "stdout",
          "text": [
            "Enter a number:null\n",
            "An error occurred! Please try again!\n",
            "Enter a number:2\n",
            "Your number squared is 4.\n"
          ]
        }
      ]
    },
    {
      "cell_type": "markdown",
      "source": [
        "Unit Testing\n",
        "\n",
        "*   pylint\n",
        "*   unittest\n",
        "\n"
      ],
      "metadata": {
        "id": "_Wie6Y_m4I0a"
      }
    }
  ]
}